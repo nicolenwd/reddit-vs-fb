{
 "cells": [
  {
   "cell_type": "markdown",
   "id": "806e32d6",
   "metadata": {},
   "source": [
    "# Script for extracting FB data"
   ]
  },
  {
   "cell_type": "markdown",
   "id": "46c3ed6c",
   "metadata": {},
   "source": [
    "## Set Up"
   ]
  },
  {
   "cell_type": "code",
   "execution_count": 1,
   "id": "3436b00f",
   "metadata": {},
   "outputs": [],
   "source": [
    "from facebook_scraper import get_posts\n",
    "import numpy as np\n",
    "import pandas as pd\n",
    "import requests\n",
    "from time import sleep\n",
    "import datetime"
   ]
  },
  {
   "cell_type": "code",
   "execution_count": 2,
   "id": "884612bc",
   "metadata": {},
   "outputs": [],
   "source": [
    "pd.set_option('display.max_colwidth', None)"
   ]
  },
  {
   "cell_type": "markdown",
   "id": "34b7198b",
   "metadata": {},
   "source": [
    "## Extracting comments"
   ]
  },
  {
   "cell_type": "markdown",
   "id": "20c9f1e0",
   "metadata": {},
   "source": [
    "### Import selected FB posts data"
   ]
  },
  {
   "cell_type": "markdown",
   "id": "f30b1328",
   "metadata": {},
   "source": [
    "As mentioned in the script to extract Reddit data, I was only interested in extracting posts from Facebook and Reddit that contained the same article from Straits Times/Channel News Asia reporting on Ministry of Health (MOH) announcements about imposition/tightening of restrictions. The links to Facebook posts with matching Reddit posts were manually input into `posts_reddit_fb_selected.csv`."
   ]
  },
  {
   "cell_type": "code",
   "execution_count": 3,
   "id": "00998a3e",
   "metadata": {},
   "outputs": [],
   "source": [
    "fb_selected = pd.read_csv('../data/posts_reddit_fb_selected.csv')"
   ]
  },
  {
   "cell_type": "code",
   "execution_count": 4,
   "id": "a563326f",
   "metadata": {
    "scrolled": true
   },
   "outputs": [
    {
     "data": {
      "text/html": [
       "<div>\n",
       "<style scoped>\n",
       "    .dataframe tbody tr th:only-of-type {\n",
       "        vertical-align: middle;\n",
       "    }\n",
       "\n",
       "    .dataframe tbody tr th {\n",
       "        vertical-align: top;\n",
       "    }\n",
       "\n",
       "    .dataframe thead th {\n",
       "        text-align: right;\n",
       "    }\n",
       "</style>\n",
       "<table border=\"1\" class=\"dataframe\">\n",
       "  <thead>\n",
       "    <tr style=\"text-align: right;\">\n",
       "      <th></th>\n",
       "      <th>author</th>\n",
       "      <th>id</th>\n",
       "      <th>num_comments</th>\n",
       "      <th>score</th>\n",
       "      <th>selftext</th>\n",
       "      <th>title</th>\n",
       "      <th>url</th>\n",
       "      <th>created_sgt</th>\n",
       "      <th>full_link_reddit</th>\n",
       "      <th>full_link_fb</th>\n",
       "    </tr>\n",
       "  </thead>\n",
       "  <tbody>\n",
       "    <tr>\n",
       "      <th>0</th>\n",
       "      <td>chailoren</td>\n",
       "      <td>n4li0v</td>\n",
       "      <td>923</td>\n",
       "      <td>1</td>\n",
       "      <td>NaN</td>\n",
       "      <td>Singapore to cut social gathering size from 8 to 5 amid rising Covid-19 cases; effective May 8-30</td>\n",
       "      <td>https://www.straitstimes.com/singapore/health/singapore-to-cut-social-gathering-size-from-8-to-5-amid-rising-covid-19-cases</td>\n",
       "      <td>4/5/2021 18:59</td>\n",
       "      <td>https://www.reddit.com/r/singapore/comments/n4li0v/singapore_to_cut_social_gathering_size_from_8_to/</td>\n",
       "      <td>https://www.facebook.com/TheStraitsTimes/posts/10157877541112115</td>\n",
       "    </tr>\n",
       "    <tr>\n",
       "      <th>1</th>\n",
       "      <td>Fawx13x</td>\n",
       "      <td>n4li5g</td>\n",
       "      <td>28</td>\n",
       "      <td>1</td>\n",
       "      <td>NaN</td>\n",
       "      <td>Cap of 5 people for social gatherings, household visits to return as Singapore tightens COVID-19 measures</td>\n",
       "      <td>https://www.channelnewsasia.com/singapore/cap-of-5-people-social-gatherings-household-visits-covid-19-moh-1344191</td>\n",
       "      <td>4/5/2021 18:59</td>\n",
       "      <td>https://www.reddit.com/r/singapore/comments/n4li5g/cap_of_5_people_for_social_gatherings_household/</td>\n",
       "      <td>https://www.facebook.com/ChannelNewsAsia/posts/10158274255327934</td>\n",
       "    </tr>\n",
       "    <tr>\n",
       "      <th>2</th>\n",
       "      <td>485320</td>\n",
       "      <td>n52529</td>\n",
       "      <td>45</td>\n",
       "      <td>1</td>\n",
       "      <td>NaN</td>\n",
       "      <td>Limit on employees who can return to workplace back at 50%; firms urged to adhere to tighter Covid-19 rules</td>\n",
       "      <td>https://www.straitstimes.com/singapore/limit-on-employees-who-can-return-to-workplace-back-at-50-as-covid-19-measures-are</td>\n",
       "      <td>5/5/2021 8:00</td>\n",
       "      <td>https://www.reddit.com/r/singapore/comments/n52529/limit_on_employees_who_can_return_to_workplace/</td>\n",
       "      <td>https://www.facebook.com/TheStraitsTimes/posts/10157878977002115</td>\n",
       "    </tr>\n",
       "    <tr>\n",
       "      <th>3</th>\n",
       "      <td>hahohehuhi</td>\n",
       "      <td>n61hcv</td>\n",
       "      <td>22</td>\n",
       "      <td>1</td>\n",
       "      <td>NaN</td>\n",
       "      <td>COVID-19: Indoor sports facilities to close temporarily, outdoor exercise classes to continue with reduced capacity</td>\n",
       "      <td>https://www.channelnewsasia.com/news/singapore/indoor-sports-facilities-close-outdoor-classes-allowed-covid-19-14754552</td>\n",
       "      <td>6/5/2021 15:09</td>\n",
       "      <td>https://www.reddit.com/r/singapore/comments/n61hcv/covid19_indoor_sports_facilities_to_close/</td>\n",
       "      <td>https://www.facebook.com/ChannelNewsAsia/posts/10158278202967934</td>\n",
       "    </tr>\n",
       "    <tr>\n",
       "      <th>4</th>\n",
       "      <td>Fawx13x</td>\n",
       "      <td>nc0vau</td>\n",
       "      <td>11</td>\n",
       "      <td>1</td>\n",
       "      <td>NaN</td>\n",
       "      <td>Group sizes down from 5 to 2, dining-in suspended as Singapore tightens COVID-19 measures</td>\n",
       "      <td>https://www.channelnewsasia.com/news/singapore/covid-19-phase-2-dining-in-work-from-home-tightened-measures-1365476</td>\n",
       "      <td>14/5/2021 13:06</td>\n",
       "      <td>https://www.reddit.com/r/singapore/comments/nc0vau/group_sizes_down_from_5_to_2_diningin_suspended/</td>\n",
       "      <td>https://www.facebook.com/ChannelNewsAsia/posts/10158295565437934</td>\n",
       "    </tr>\n",
       "    <tr>\n",
       "      <th>5</th>\n",
       "      <td>sexyhades69</td>\n",
       "      <td>nc0veq</td>\n",
       "      <td>2</td>\n",
       "      <td>1</td>\n",
       "      <td>NaN</td>\n",
       "      <td>Group sizes down from 5 to 2, dining-in suspended as Singapore tightens COVID-19 measures</td>\n",
       "      <td>https://www.channelnewsasia.com/news/singapore/covid-19-phase-2-dining-in-work-from-home-tightened-measures-14808382</td>\n",
       "      <td>14/5/2021 13:07</td>\n",
       "      <td>https://www.reddit.com/r/singapore/comments/nc0veq/group_sizes_down_from_5_to_2_diningin_suspended/</td>\n",
       "      <td>https://www.facebook.com/ChannelNewsAsia/posts/10158295565437934</td>\n",
       "    </tr>\n",
       "    <tr>\n",
       "      <th>6</th>\n",
       "      <td>shady-memes_v13</td>\n",
       "      <td>nc0vwe</td>\n",
       "      <td>1684</td>\n",
       "      <td>1</td>\n",
       "      <td>NaN</td>\n",
       "      <td>No dining in, social gatherings capped at 2 people from May 16 as S'pore tightens Covid-19 rules</td>\n",
       "      <td>https://www.straitstimes.com/singapore/health/no-dining-in-social-gatherings-capped-at-2-people-from-may-16-as-spore-tightens</td>\n",
       "      <td>14/5/2021 13:08</td>\n",
       "      <td>https://www.reddit.com/r/singapore/comments/nc0vwe/no_dining_in_social_gatherings_capped_at_2_people/</td>\n",
       "      <td>https://www.facebook.com/TheStraitsTimes/posts/10157899793777115</td>\n",
       "    </tr>\n",
       "    <tr>\n",
       "      <th>7</th>\n",
       "      <td>caifanconnoisseur</td>\n",
       "      <td>nc0wni</td>\n",
       "      <td>7</td>\n",
       "      <td>1</td>\n",
       "      <td>NaN</td>\n",
       "      <td>Only 2 visitors per household per day, no dining-in allowed: Covid-19 rules in S'pore from May 16</td>\n",
       "      <td>https://www.straitstimes.com/singapore/health/only-2-visitors-per-household-per-day-no-dining-in-allowed-covid-19-rules-in-spore</td>\n",
       "      <td>14/5/2021 13:09</td>\n",
       "      <td>https://www.reddit.com/r/singapore/comments/nc0wni/only_2_visitors_per_household_per_day_no_diningin/</td>\n",
       "      <td>https://www.facebook.com/TheStraitsTimes/posts/10157899892712115</td>\n",
       "    </tr>\n",
       "    <tr>\n",
       "      <th>8</th>\n",
       "      <td>Raphiel_Shiraha_Ains</td>\n",
       "      <td>nc0y1s</td>\n",
       "      <td>1</td>\n",
       "      <td>1</td>\n",
       "      <td>NaN</td>\n",
       "      <td>Group sizes down from 5 to 2, dining-in suspended as Singapore tightens COVID-19 measures - CNA</td>\n",
       "      <td>https://www.channelnewsasia.com/news/singapore/covid-19-phase-2-dining-in-work-from-home-tightened-measures-14808382</td>\n",
       "      <td>14/5/2021 13:11</td>\n",
       "      <td>https://www.reddit.com/r/singapore/comments/nc0y1s/group_sizes_down_from_5_to_2_diningin_suspended/</td>\n",
       "      <td>https://www.facebook.com/ChannelNewsAsia/posts/10158295565437934</td>\n",
       "    </tr>\n",
       "    <tr>\n",
       "      <th>9</th>\n",
       "      <td>SMJLeo</td>\n",
       "      <td>ncctqd</td>\n",
       "      <td>43</td>\n",
       "      <td>1</td>\n",
       "      <td>NaN</td>\n",
       "      <td>Fixed seating with one-metre spacing for recess, no intermingling, as MOE tightens measures to fight Covid-19</td>\n",
       "      <td>https://www.straitstimes.com/singapore/fixed-seating-with-one-metre-spacing-for-recess-no-intermingling-as-moe-tightens-measures</td>\n",
       "      <td>15/5/2021 0:34</td>\n",
       "      <td>https://www.reddit.com/r/singapore/comments/ncctqd/fixed_seating_with_onemetre_spacing_for_recess_no/</td>\n",
       "      <td>https://www.facebook.com/TheStraitsTimes/posts/10157900823922115</td>\n",
       "    </tr>\n",
       "    <tr>\n",
       "      <th>10</th>\n",
       "      <td>mikelim7</td>\n",
       "      <td>ndfe1i</td>\n",
       "      <td>49</td>\n",
       "      <td>1</td>\n",
       "      <td>NaN</td>\n",
       "      <td>2-passenger limit for taxis, private-hire cars during tightened COVID-19 restrictions</td>\n",
       "      <td>https://www.channelnewsasia.com/news/singapore/2-passengers-taxis-private-hire-cars-grab-phase-2-covid-19-14820210</td>\n",
       "      <td>16/5/2021 11:24</td>\n",
       "      <td>https://www.reddit.com/r/singapore/comments/ndfe1i/2passenger_limit_for_taxis_privatehire_cars/</td>\n",
       "      <td>https://www.facebook.com/ChannelNewsAsia/posts/10158300015227934</td>\n",
       "    </tr>\n",
       "    <tr>\n",
       "      <th>11</th>\n",
       "      <td>Fawx13x</td>\n",
       "      <td>ndmusi</td>\n",
       "      <td>215</td>\n",
       "      <td>1</td>\n",
       "      <td>NaN</td>\n",
       "      <td>COVID-19: Primary, secondary schools and JCs to move to full home-based learning from May 19</td>\n",
       "      <td>https://www.channelnewsasia.com/news/singapore/covid-19-home-based-learning-primary-secondary-school-jc-14821222</td>\n",
       "      <td>16/5/2021 20:01</td>\n",
       "      <td>https://www.reddit.com/r/singapore/comments/ndmusi/covid19_primary_secondary_schools_and_jcs_to_move/</td>\n",
       "      <td>https://www.facebook.com/ChannelNewsAsia/posts/10158300676777934</td>\n",
       "    </tr>\n",
       "    <tr>\n",
       "      <th>12</th>\n",
       "      <td>MangoDangoLango</td>\n",
       "      <td>ndmv03</td>\n",
       "      <td>1</td>\n",
       "      <td>1</td>\n",
       "      <td>NaN</td>\n",
       "      <td>COVID-19: Primary, secondary schools and JCs to move to full home-based learning from May 19</td>\n",
       "      <td>https://www.channelnewsasia.com/news/covid-19-home-based-learning-primary-secondary-school-jc-14821222?cid=FBcna&amp;amp;fbclid=IwAR2tl4G7S3Emfjssaq_Pi2Ofa5zYeb_LQ_6S-hQylTMSMFQS9FYTQFvcIIo</td>\n",
       "      <td>16/5/2021 20:01</td>\n",
       "      <td>https://www.reddit.com/r/singapore/comments/ndmv03/covid19_primary_secondary_schools_and_jcs_to_move/</td>\n",
       "      <td>https://www.facebook.com/ChannelNewsAsia/posts/10158300676777934</td>\n",
       "    </tr>\n",
       "    <tr>\n",
       "      <th>13</th>\n",
       "      <td>ineedmorechoco</td>\n",
       "      <td>ndmuup</td>\n",
       "      <td>5</td>\n",
       "      <td>1</td>\n",
       "      <td>NaN</td>\n",
       "      <td>S'pore schools to start full home-based learning from May 19 amid spike in Covid-19 cases</td>\n",
       "      <td>https://www.straitstimes.com/singapore/parenting-education/spore-schools-to-start-full-home-based-learning-from-may-19-amid-spike</td>\n",
       "      <td>16/5/2021 20:01</td>\n",
       "      <td>https://www.reddit.com/r/singapore/comments/ndmuup/spore_schools_to_start_full_homebased_learning/</td>\n",
       "      <td>https://www.facebook.com/TheStraitsTimes/posts/10157904579472115</td>\n",
       "    </tr>\n",
       "    <tr>\n",
       "      <th>14</th>\n",
       "      <td>MicrotechAnalysis</td>\n",
       "      <td>nf7x2i</td>\n",
       "      <td>22</td>\n",
       "      <td>1</td>\n",
       "      <td>NaN</td>\n",
       "      <td>All in-person private tuition and enrichment for students aged 18 and below to be suspended: MOE</td>\n",
       "      <td>https://www.channelnewsasia.com/news/singapore/in-person-tuition-enrichment-classes-suspended-covid-19-students-14833184</td>\n",
       "      <td>18/5/2021 19:11</td>\n",
       "      <td>https://www.reddit.com/r/singapore/comments/nf7x2i/all_inperson_private_tuition_and_enrichment_for/</td>\n",
       "      <td>https://www.facebook.com/ChannelNewsAsia/posts/10158304639667934</td>\n",
       "    </tr>\n",
       "    <tr>\n",
       "      <th>15</th>\n",
       "      <td>Fawx13x</td>\n",
       "      <td>o102bk</td>\n",
       "      <td>6</td>\n",
       "      <td>7</td>\n",
       "      <td>NaN</td>\n",
       "      <td>COVID-19 task force 'evaluating' timing and scope of reopening amid fresh outbreak: Lawrence Wong</td>\n",
       "      <td>https://www.channelnewsasia.com/news/singapore/covid-19-task-force-evaluating-the-timing-and-scope-reopening-15025980</td>\n",
       "      <td>16/6/2021 16:30</td>\n",
       "      <td>https://www.reddit.com/r/singapore/comments/o102bk/covid19_task_force_evaluating_timing_and_scope_of/</td>\n",
       "      <td>https://www.facebook.com/ChannelNewsAsia/posts/10158367144152934</td>\n",
       "    </tr>\n",
       "    <tr>\n",
       "      <th>16</th>\n",
       "      <td>Kopi0Kosong</td>\n",
       "      <td>o104h0</td>\n",
       "      <td>1600</td>\n",
       "      <td>370</td>\n",
       "      <td>NaN</td>\n",
       "      <td>COVID-19 task force 'evaluating' timing and scope of reopening amid fresh outbreak: Lawrence Wong</td>\n",
       "      <td>https://www.channelnewsasia.com/news/singapore/covid-19-task-force-evaluating-the-timing-and-scope-reopening-15025980?1</td>\n",
       "      <td>16/6/2021 16:35</td>\n",
       "      <td>https://www.reddit.com/r/singapore/comments/o104h0/covid19_task_force_evaluating_timing_and_scope_of/</td>\n",
       "      <td>https://www.facebook.com/ChannelNewsAsia/posts/10158367144152934</td>\n",
       "    </tr>\n",
       "    <tr>\n",
       "      <th>17</th>\n",
       "      <td>sull23</td>\n",
       "      <td>o11sf4</td>\n",
       "      <td>8</td>\n",
       "      <td>0</td>\n",
       "      <td>NaN</td>\n",
       "      <td>COVID-19 task force 'evaluating' timing and scope of reopening amid fresh outbreak: Lawrence Wong</td>\n",
       "      <td>https://www.channelnewsasia.com/news/singapore/covid-19-task-force-evaluating-the-timing-and-scope-reopening-15025980?cid=FBcna&amp;amp;fbclid=IwAR11Yxg0kKop1qNp3Ue4CUdhbH6P1fHcQ0gA0Gloa7DzvUFwRh5Mp3WDwIM</td>\n",
       "      <td>16/6/2021 18:33</td>\n",
       "      <td>https://www.reddit.com/r/singapore/comments/o11sf4/covid19_task_force_evaluating_timing_and_scope_of/</td>\n",
       "      <td>https://www.facebook.com/ChannelNewsAsia/posts/10158367144152934</td>\n",
       "    </tr>\n",
       "    <tr>\n",
       "      <th>18</th>\n",
       "      <td>hun486</td>\n",
       "      <td>oldoyg</td>\n",
       "      <td>70</td>\n",
       "      <td>1</td>\n",
       "      <td>NaN</td>\n",
       "      <td>COVID-19: Dining-in group size back to 2; groups of 5 only if all fully vaccinated</td>\n",
       "      <td>https://www.channelnewsasia.com/news/singapore/covid-19-how-many-can-dine-in-vaccinated-groups-of-5-2-15232846</td>\n",
       "      <td>16/7/2021 17:50</td>\n",
       "      <td>https://www.reddit.com/r/singapore/comments/oldoyg/covid19_diningin_group_size_back_to_2_groups_of_5/</td>\n",
       "      <td>https://www.facebook.com/ChannelNewsAsia/posts/10158423307637934</td>\n",
       "    </tr>\n",
       "    <tr>\n",
       "      <th>19</th>\n",
       "      <td>zimzalablm</td>\n",
       "      <td>oldqa5</td>\n",
       "      <td>3</td>\n",
       "      <td>1</td>\n",
       "      <td>NaN</td>\n",
       "      <td>S'pore tightens Covid-19 rules as KTV cluster grows, pivoted night spots to suspend operations</td>\n",
       "      <td>https://www.straitstimes.com/singapore/health/covid-19-measures-to-be-tightened-over-ktv-cluster-differentiated-approach-for</td>\n",
       "      <td>16/7/2021 17:53</td>\n",
       "      <td>https://www.reddit.com/r/singapore/comments/oldqa5/spore_tightens_covid19_rules_as_ktv_cluster_grows/</td>\n",
       "      <td>https://www.facebook.com/TheStraitsTimes/posts/10158023125857115</td>\n",
       "    </tr>\n",
       "    <tr>\n",
       "      <th>20</th>\n",
       "      <td>zimzalablm</td>\n",
       "      <td>oldqwa</td>\n",
       "      <td>49</td>\n",
       "      <td>1</td>\n",
       "      <td>NaN</td>\n",
       "      <td>Dine-in group size cut to 2 from July 19 as S'pore tightens Covid-19 rules; but up to 5 allowed at some F&amp;B outlets, including fully vaccinated</td>\n",
       "      <td>https://www.straitstimes.com/singapore/health/dine-in-group-size-cut-to-2-from-july-19-as-spore-tightens-covid-19-rules-but-up-to</td>\n",
       "      <td>16/7/2021 17:55</td>\n",
       "      <td>https://www.reddit.com/r/singapore/comments/oldqwa/dinein_group_size_cut_to_2_from_july_19_as_spore/</td>\n",
       "      <td>https://www.facebook.com/TheStraitsTimes/posts/10158023136557115</td>\n",
       "    </tr>\n",
       "    <tr>\n",
       "      <th>21</th>\n",
       "      <td>Exofanjongdae</td>\n",
       "      <td>oldr80</td>\n",
       "      <td>360</td>\n",
       "      <td>1</td>\n",
       "      <td>NaN</td>\n",
       "      <td>S'pore cuts dining-in cap to 2 as Covid-19 KTV cluster grows; up to 5 at some F&amp;B outlets if fully vaccinated</td>\n",
       "      <td>https://www.straitstimes.com/singapore/health/dine-in-group-size-cut-to-2-from-july-19-as-spore-tightens-covid-19-rules-but-up-to</td>\n",
       "      <td>16/7/2021 17:55</td>\n",
       "      <td>https://www.reddit.com/r/singapore/comments/oldr80/spore_cuts_diningin_cap_to_2_as_covid19_ktv/</td>\n",
       "      <td>https://www.facebook.com/TheStraitsTimes/posts/10158023136557115</td>\n",
       "    </tr>\n",
       "    <tr>\n",
       "      <th>22</th>\n",
       "      <td>sgsriram</td>\n",
       "      <td>onx8xr</td>\n",
       "      <td>1839</td>\n",
       "      <td>1</td>\n",
       "      <td>NaN</td>\n",
       "      <td>No dining in, social group sizes cut to 2 from July 22 as S'pore returns to phase 2</td>\n",
       "      <td>https://www.straitstimes.com/singapore/no-dining-in-social-group-sizes-cut-to-2-from-july-22-as-spore-returns-to-phase-2</td>\n",
       "      <td>20/7/2021 15:26</td>\n",
       "      <td>https://www.reddit.com/r/singapore/comments/onx8xr/no_dining_in_social_group_sizes_cut_to_2_from/</td>\n",
       "      <td>https://www.facebook.com/TheStraitsTimes/posts/10158030653082115</td>\n",
       "    </tr>\n",
       "    <tr>\n",
       "      <th>23</th>\n",
       "      <td>biscuitspoons</td>\n",
       "      <td>oxn4p7</td>\n",
       "      <td>39</td>\n",
       "      <td>1</td>\n",
       "      <td>NaN</td>\n",
       "      <td>Visits to all hospital wards to cease for 2 weeks amid rise in COVID-19 community cases: MOH</td>\n",
       "      <td>https://www.channelnewsasia.com/news/singapore/visits-to-all-hospital-wards-to-cease-for-2-weeks-amid-rise-in-15378914</td>\n",
       "      <td>4/8/2021 15:04</td>\n",
       "      <td>https://www.reddit.com/r/singapore/comments/oxn4p7/visits_to_all_hospital_wards_to_cease_for_2_weeks/</td>\n",
       "      <td>https://www.facebook.com/ChannelNewsAsia/posts/10158457835047934</td>\n",
       "    </tr>\n",
       "    <tr>\n",
       "      <th>24</th>\n",
       "      <td>Red-Lobsters</td>\n",
       "      <td>ph2utq</td>\n",
       "      <td>147</td>\n",
       "      <td>1</td>\n",
       "      <td>NaN</td>\n",
       "      <td>S'pore to maintain current Covid-19 measures, will rely on vaccination and testing to move ahead</td>\n",
       "      <td>https://www.straitstimes.com/singapore/health/spore-to-maintain-current-covid-19-measures-will-rely-on-vaccination-and-testing-to</td>\n",
       "      <td>3/9/2021 18:56</td>\n",
       "      <td>https://www.reddit.com/r/singapore/comments/ph2utq/spore_to_maintain_current_covid19_measures_will/</td>\n",
       "      <td>https://www.facebook.com/TheStraitsTimes/posts/10158110812602115</td>\n",
       "    </tr>\n",
       "    <tr>\n",
       "      <th>25</th>\n",
       "      <td>Shirvo</td>\n",
       "      <td>ph2xt2</td>\n",
       "      <td>573</td>\n",
       "      <td>1</td>\n",
       "      <td>NaN</td>\n",
       "      <td>No easing of restrictions for now amid spike in COVID-19 cases: Lawrence Wong</td>\n",
       "      <td>https://www.channelnewsasia.com/singapore/covid-19-no-easing-restrictions-lawrence-wong-2154951</td>\n",
       "      <td>3/9/2021 19:02</td>\n",
       "      <td>https://www.reddit.com/r/singapore/comments/ph2xt2/no_easing_of_restrictions_for_now_amid_spike_in/</td>\n",
       "      <td>https://www.facebook.com/ChannelNewsAsia/posts/10158509010257934</td>\n",
       "    </tr>\n",
       "    <tr>\n",
       "      <th>26</th>\n",
       "      <td>PublicSummer0</td>\n",
       "      <td>pmou64</td>\n",
       "      <td>23</td>\n",
       "      <td>1</td>\n",
       "      <td>NaN</td>\n",
       "      <td>MOH suspends in-person visits to residential care homes from Monday as COVID-19 cases rise among residents, employees</td>\n",
       "      <td>https://www.channelnewsasia.com/singapore/covid-19-old-age-homes-visits-suspended-2172411</td>\n",
       "      <td>12/9/2021 16:18</td>\n",
       "      <td>https://www.reddit.com/r/singapore/comments/pmou64/moh_suspends_inperson_visits_to_residential_care/</td>\n",
       "      <td>https://www.facebook.com/ChannelNewsAsia/posts/10158522859952934</td>\n",
       "    </tr>\n",
       "    <tr>\n",
       "      <th>27</th>\n",
       "      <td>hydrangeapurple</td>\n",
       "      <td>pqhokh</td>\n",
       "      <td>2</td>\n",
       "      <td>1</td>\n",
       "      <td>NaN</td>\n",
       "      <td>Home-based learning for Pri 1 to 5 students amid rise in COVID-19 cases: MOE</td>\n",
       "      <td>https://www.channelnewsasia.com/singapore/home-based-learning-pri-1-5-students-amid-rise-covid-19-cases-moe-2186721</td>\n",
       "      <td>18/9/2021 15:04</td>\n",
       "      <td>https://www.reddit.com/r/singapore/comments/pqhokh/homebased_learning_for_pri_1_to_5_students_amid/</td>\n",
       "      <td>https://www.facebook.com/ChannelNewsAsia/posts/10158532152462934</td>\n",
       "    </tr>\n",
       "    <tr>\n",
       "      <th>28</th>\n",
       "      <td>ThenCheesecake</td>\n",
       "      <td>pt3yxt</td>\n",
       "      <td>42</td>\n",
       "      <td>1</td>\n",
       "      <td>NaN</td>\n",
       "      <td>No visitors to hospital wards allowed from Sept 24 to Oct 23, amid surge in Covid-19 cases</td>\n",
       "      <td>https://www.straitstimes.com/singapore/health/no-visitors-to-hospital-wards-allowed-from-sept-24-to-oct-23-amid-surge-in-covid-19</td>\n",
       "      <td>22/9/2021 17:39</td>\n",
       "      <td>https://www.reddit.com/r/singapore/comments/pt3yxt/no_visitors_to_hospital_wards_allowed_from_sept/</td>\n",
       "      <td>https://www.facebook.com/TheStraitsTimes/posts/10158141394567115</td>\n",
       "    </tr>\n",
       "    <tr>\n",
       "      <th>29</th>\n",
       "      <td>chailoren</td>\n",
       "      <td>puh01k</td>\n",
       "      <td>1168</td>\n",
       "      <td>1</td>\n",
       "      <td>NaN</td>\n",
       "      <td>COVID-19: Dining-in group size limit at regular F&amp;B outlets down to 2; social gatherings reduced</td>\n",
       "      <td>https://www.channelnewsasia.com/singapore/covid-19-dining-group-size-two-social-gatherings-reduced-moh-2199456</td>\n",
       "      <td>24/9/2021 18:32</td>\n",
       "      <td>https://www.reddit.com/r/singapore/comments/puh01k/covid19_diningin_group_size_limit_at_regular_fb/</td>\n",
       "      <td>https://www.facebook.com/ChannelNewsAsia/posts/10158542015252934</td>\n",
       "    </tr>\n",
       "    <tr>\n",
       "      <th>30</th>\n",
       "      <td>Red-Lobsters</td>\n",
       "      <td>puh0ez</td>\n",
       "      <td>108</td>\n",
       "      <td>1</td>\n",
       "      <td>NaN</td>\n",
       "      <td>Work-from-home to be default from Monday as COVID-19 workplace measures tightened</td>\n",
       "      <td>https://www.channelnewsasia.com/singapore/work-home-default-covid-19-workplace-measures-2199566</td>\n",
       "      <td>24/9/2021 18:33</td>\n",
       "      <td>https://www.reddit.com/r/singapore/comments/puh0ez/workfromhome_to_be_default_from_monday_as_covid19/</td>\n",
       "      <td>https://www.facebook.com/ChannelNewsAsia/posts/10158542018962934</td>\n",
       "    </tr>\n",
       "    <tr>\n",
       "      <th>31</th>\n",
       "      <td>ubunturd</td>\n",
       "      <td>pyfbzk</td>\n",
       "      <td>72</td>\n",
       "      <td>1</td>\n",
       "      <td>NaN</td>\n",
       "      <td>S'pore unis move classes online to reduce spread of Covid-19 as cases continue to rise</td>\n",
       "      <td>https://www.straitstimes.com/singapore/parenting-education/spore-unis-move-classes-online-to-reduce-spread-of-covid-19-as-cases</td>\n",
       "      <td>30/9/2021 16:11</td>\n",
       "      <td>https://www.reddit.com/r/singapore/comments/pyfbzk/spore_unis_move_classes_online_to_reduce_spread/</td>\n",
       "      <td>https://www.facebook.com/TheStraitsTimes/posts/10158154314997115</td>\n",
       "    </tr>\n",
       "    <tr>\n",
       "      <th>32</th>\n",
       "      <td>chailoren</td>\n",
       "      <td>qbyerz</td>\n",
       "      <td>1236</td>\n",
       "      <td>1</td>\n",
       "      <td>NaN</td>\n",
       "      <td>Stabilisation Phase extended to Nov 21; more time needed to stabilise COVID-19 situation: MOH</td>\n",
       "      <td>https://www.channelnewsasia.com/singapore/stabilisation-phase-restrictions-extended-nov-21-dining-social-gatherings-2256766</td>\n",
       "      <td>20/10/2021 19:12</td>\n",
       "      <td>https://www.reddit.com/r/singapore/comments/qbyerz/stabilisation_phase_extended_to_nov_21_more_time/</td>\n",
       "      <td>https://www.facebook.com/ChannelNewsAsia/posts/10158582288427934</td>\n",
       "    </tr>\n",
       "    <tr>\n",
       "      <th>33</th>\n",
       "      <td>ArchonUniverse</td>\n",
       "      <td>qbyfn4</td>\n",
       "      <td>11</td>\n",
       "      <td>1</td>\n",
       "      <td>NaN</td>\n",
       "      <td>Singapore's Covid-19 measures to be extended till Nov 21,to be reviewed at 2-week mark</td>\n",
       "      <td>https://www.straitstimes.com/singapore/health/singapores-covid-19-measures-to-be-extended-till-nov-21-to-be-reviewed-at-2-week</td>\n",
       "      <td>20/10/2021 19:14</td>\n",
       "      <td>https://www.reddit.com/r/singapore/comments/qbyfn4/singapores_covid19_measures_to_be_extended_till/</td>\n",
       "      <td>https://www.facebook.com/TheStraitsTimes/posts/10158186209047115</td>\n",
       "    </tr>\n",
       "    <tr>\n",
       "      <th>34</th>\n",
       "      <td>13lackant</td>\n",
       "      <td>t6i8v3</td>\n",
       "      <td>1</td>\n",
       "      <td>2</td>\n",
       "      <td>NaN</td>\n",
       "      <td>Streamlining of COVID-19 measures to be postponed as local case numbers remain high: MOH</td>\n",
       "      <td>https://www.channelnewsasia.com/singapore/covid-19-streamlining-safe-management-measures-delay-moh-high-case-numbers-2539831</td>\n",
       "      <td>4/3/2022 20:48</td>\n",
       "      <td>https://www.reddit.com/r/singapore/comments/t6i8v3/streamlining_of_covid19_measures_to_be_postponed/</td>\n",
       "      <td>https://www.facebook.com/ChannelNewsAsia/posts/10158806284412934</td>\n",
       "    </tr>\n",
       "  </tbody>\n",
       "</table>\n",
       "</div>"
      ],
      "text/plain": [
       "                  author      id  num_comments  score  selftext  \\\n",
       "0              chailoren  n4li0v           923      1       NaN   \n",
       "1                Fawx13x  n4li5g            28      1       NaN   \n",
       "2                 485320  n52529            45      1       NaN   \n",
       "3             hahohehuhi  n61hcv            22      1       NaN   \n",
       "4                Fawx13x  nc0vau            11      1       NaN   \n",
       "5            sexyhades69  nc0veq             2      1       NaN   \n",
       "6        shady-memes_v13  nc0vwe          1684      1       NaN   \n",
       "7      caifanconnoisseur  nc0wni             7      1       NaN   \n",
       "8   Raphiel_Shiraha_Ains  nc0y1s             1      1       NaN   \n",
       "9                 SMJLeo  ncctqd            43      1       NaN   \n",
       "10              mikelim7  ndfe1i            49      1       NaN   \n",
       "11               Fawx13x  ndmusi           215      1       NaN   \n",
       "12       MangoDangoLango  ndmv03             1      1       NaN   \n",
       "13        ineedmorechoco  ndmuup             5      1       NaN   \n",
       "14     MicrotechAnalysis  nf7x2i            22      1       NaN   \n",
       "15               Fawx13x  o102bk             6      7       NaN   \n",
       "16           Kopi0Kosong  o104h0          1600    370       NaN   \n",
       "17                sull23  o11sf4             8      0       NaN   \n",
       "18                hun486  oldoyg            70      1       NaN   \n",
       "19            zimzalablm  oldqa5             3      1       NaN   \n",
       "20            zimzalablm  oldqwa            49      1       NaN   \n",
       "21         Exofanjongdae  oldr80           360      1       NaN   \n",
       "22              sgsriram  onx8xr          1839      1       NaN   \n",
       "23         biscuitspoons  oxn4p7            39      1       NaN   \n",
       "24          Red-Lobsters  ph2utq           147      1       NaN   \n",
       "25                Shirvo  ph2xt2           573      1       NaN   \n",
       "26         PublicSummer0  pmou64            23      1       NaN   \n",
       "27       hydrangeapurple  pqhokh             2      1       NaN   \n",
       "28        ThenCheesecake  pt3yxt            42      1       NaN   \n",
       "29             chailoren  puh01k          1168      1       NaN   \n",
       "30          Red-Lobsters  puh0ez           108      1       NaN   \n",
       "31              ubunturd  pyfbzk            72      1       NaN   \n",
       "32             chailoren  qbyerz          1236      1       NaN   \n",
       "33        ArchonUniverse  qbyfn4            11      1       NaN   \n",
       "34             13lackant  t6i8v3             1      2       NaN   \n",
       "\n",
       "                                                                                                                                              title  \\\n",
       "0                                                 Singapore to cut social gathering size from 8 to 5 amid rising Covid-19 cases; effective May 8-30   \n",
       "1                                         Cap of 5 people for social gatherings, household visits to return as Singapore tightens COVID-19 measures   \n",
       "2                                       Limit on employees who can return to workplace back at 50%; firms urged to adhere to tighter Covid-19 rules   \n",
       "3                               COVID-19: Indoor sports facilities to close temporarily, outdoor exercise classes to continue with reduced capacity   \n",
       "4                                                         Group sizes down from 5 to 2, dining-in suspended as Singapore tightens COVID-19 measures   \n",
       "5                                                         Group sizes down from 5 to 2, dining-in suspended as Singapore tightens COVID-19 measures   \n",
       "6                                                  No dining in, social gatherings capped at 2 people from May 16 as S'pore tightens Covid-19 rules   \n",
       "7                                                 Only 2 visitors per household per day, no dining-in allowed: Covid-19 rules in S'pore from May 16   \n",
       "8                                                   Group sizes down from 5 to 2, dining-in suspended as Singapore tightens COVID-19 measures - CNA   \n",
       "9                                     Fixed seating with one-metre spacing for recess, no intermingling, as MOE tightens measures to fight Covid-19   \n",
       "10                                                            2-passenger limit for taxis, private-hire cars during tightened COVID-19 restrictions   \n",
       "11                                                     COVID-19: Primary, secondary schools and JCs to move to full home-based learning from May 19   \n",
       "12                                                     COVID-19: Primary, secondary schools and JCs to move to full home-based learning from May 19   \n",
       "13                                                        S'pore schools to start full home-based learning from May 19 amid spike in Covid-19 cases   \n",
       "14                                                 All in-person private tuition and enrichment for students aged 18 and below to be suspended: MOE   \n",
       "15                                                COVID-19 task force 'evaluating' timing and scope of reopening amid fresh outbreak: Lawrence Wong   \n",
       "16                                                COVID-19 task force 'evaluating' timing and scope of reopening amid fresh outbreak: Lawrence Wong   \n",
       "17                                                COVID-19 task force 'evaluating' timing and scope of reopening amid fresh outbreak: Lawrence Wong   \n",
       "18                                                               COVID-19: Dining-in group size back to 2; groups of 5 only if all fully vaccinated   \n",
       "19                                                   S'pore tightens Covid-19 rules as KTV cluster grows, pivoted night spots to suspend operations   \n",
       "20  Dine-in group size cut to 2 from July 19 as S'pore tightens Covid-19 rules; but up to 5 allowed at some F&B outlets, including fully vaccinated   \n",
       "21                                    S'pore cuts dining-in cap to 2 as Covid-19 KTV cluster grows; up to 5 at some F&B outlets if fully vaccinated   \n",
       "22                                                              No dining in, social group sizes cut to 2 from July 22 as S'pore returns to phase 2   \n",
       "23                                                     Visits to all hospital wards to cease for 2 weeks amid rise in COVID-19 community cases: MOH   \n",
       "24                                                 S'pore to maintain current Covid-19 measures, will rely on vaccination and testing to move ahead   \n",
       "25                                                                    No easing of restrictions for now amid spike in COVID-19 cases: Lawrence Wong   \n",
       "26                            MOH suspends in-person visits to residential care homes from Monday as COVID-19 cases rise among residents, employees   \n",
       "27                                                                     Home-based learning for Pri 1 to 5 students amid rise in COVID-19 cases: MOE   \n",
       "28                                                       No visitors to hospital wards allowed from Sept 24 to Oct 23, amid surge in Covid-19 cases   \n",
       "29                                                 COVID-19: Dining-in group size limit at regular F&B outlets down to 2; social gatherings reduced   \n",
       "30                                                                Work-from-home to be default from Monday as COVID-19 workplace measures tightened   \n",
       "31                                                           S'pore unis move classes online to reduce spread of Covid-19 as cases continue to rise   \n",
       "32                                                    Stabilisation Phase extended to Nov 21; more time needed to stabilise COVID-19 situation: MOH   \n",
       "33                                                           Singapore's Covid-19 measures to be extended till Nov 21,to be reviewed at 2-week mark   \n",
       "34                                                         Streamlining of COVID-19 measures to be postponed as local case numbers remain high: MOH   \n",
       "\n",
       "                                                                                                                                                                                                         url  \\\n",
       "0                                                                                https://www.straitstimes.com/singapore/health/singapore-to-cut-social-gathering-size-from-8-to-5-amid-rising-covid-19-cases   \n",
       "1                                                                                          https://www.channelnewsasia.com/singapore/cap-of-5-people-social-gatherings-household-visits-covid-19-moh-1344191   \n",
       "2                                                                                  https://www.straitstimes.com/singapore/limit-on-employees-who-can-return-to-workplace-back-at-50-as-covid-19-measures-are   \n",
       "3                                                                                    https://www.channelnewsasia.com/news/singapore/indoor-sports-facilities-close-outdoor-classes-allowed-covid-19-14754552   \n",
       "4                                                                                        https://www.channelnewsasia.com/news/singapore/covid-19-phase-2-dining-in-work-from-home-tightened-measures-1365476   \n",
       "5                                                                                       https://www.channelnewsasia.com/news/singapore/covid-19-phase-2-dining-in-work-from-home-tightened-measures-14808382   \n",
       "6                                                                              https://www.straitstimes.com/singapore/health/no-dining-in-social-gatherings-capped-at-2-people-from-may-16-as-spore-tightens   \n",
       "7                                                                           https://www.straitstimes.com/singapore/health/only-2-visitors-per-household-per-day-no-dining-in-allowed-covid-19-rules-in-spore   \n",
       "8                                                                                       https://www.channelnewsasia.com/news/singapore/covid-19-phase-2-dining-in-work-from-home-tightened-measures-14808382   \n",
       "9                                                                           https://www.straitstimes.com/singapore/fixed-seating-with-one-metre-spacing-for-recess-no-intermingling-as-moe-tightens-measures   \n",
       "10                                                                                        https://www.channelnewsasia.com/news/singapore/2-passengers-taxis-private-hire-cars-grab-phase-2-covid-19-14820210   \n",
       "11                                                                                          https://www.channelnewsasia.com/news/singapore/covid-19-home-based-learning-primary-secondary-school-jc-14821222   \n",
       "12                 https://www.channelnewsasia.com/news/covid-19-home-based-learning-primary-secondary-school-jc-14821222?cid=FBcna&amp;fbclid=IwAR2tl4G7S3Emfjssaq_Pi2Ofa5zYeb_LQ_6S-hQylTMSMFQS9FYTQFvcIIo   \n",
       "13                                                                         https://www.straitstimes.com/singapore/parenting-education/spore-schools-to-start-full-home-based-learning-from-may-19-amid-spike   \n",
       "14                                                                                  https://www.channelnewsasia.com/news/singapore/in-person-tuition-enrichment-classes-suspended-covid-19-students-14833184   \n",
       "15                                                                                     https://www.channelnewsasia.com/news/singapore/covid-19-task-force-evaluating-the-timing-and-scope-reopening-15025980   \n",
       "16                                                                                   https://www.channelnewsasia.com/news/singapore/covid-19-task-force-evaluating-the-timing-and-scope-reopening-15025980?1   \n",
       "17  https://www.channelnewsasia.com/news/singapore/covid-19-task-force-evaluating-the-timing-and-scope-reopening-15025980?cid=FBcna&amp;fbclid=IwAR11Yxg0kKop1qNp3Ue4CUdhbH6P1fHcQ0gA0Gloa7DzvUFwRh5Mp3WDwIM   \n",
       "18                                                                                            https://www.channelnewsasia.com/news/singapore/covid-19-how-many-can-dine-in-vaccinated-groups-of-5-2-15232846   \n",
       "19                                                                              https://www.straitstimes.com/singapore/health/covid-19-measures-to-be-tightened-over-ktv-cluster-differentiated-approach-for   \n",
       "20                                                                         https://www.straitstimes.com/singapore/health/dine-in-group-size-cut-to-2-from-july-19-as-spore-tightens-covid-19-rules-but-up-to   \n",
       "21                                                                         https://www.straitstimes.com/singapore/health/dine-in-group-size-cut-to-2-from-july-19-as-spore-tightens-covid-19-rules-but-up-to   \n",
       "22                                                                                  https://www.straitstimes.com/singapore/no-dining-in-social-group-sizes-cut-to-2-from-july-22-as-spore-returns-to-phase-2   \n",
       "23                                                                                    https://www.channelnewsasia.com/news/singapore/visits-to-all-hospital-wards-to-cease-for-2-weeks-amid-rise-in-15378914   \n",
       "24                                                                         https://www.straitstimes.com/singapore/health/spore-to-maintain-current-covid-19-measures-will-rely-on-vaccination-and-testing-to   \n",
       "25                                                                                                           https://www.channelnewsasia.com/singapore/covid-19-no-easing-restrictions-lawrence-wong-2154951   \n",
       "26                                                                                                                 https://www.channelnewsasia.com/singapore/covid-19-old-age-homes-visits-suspended-2172411   \n",
       "27                                                                                       https://www.channelnewsasia.com/singapore/home-based-learning-pri-1-5-students-amid-rise-covid-19-cases-moe-2186721   \n",
       "28                                                                         https://www.straitstimes.com/singapore/health/no-visitors-to-hospital-wards-allowed-from-sept-24-to-oct-23-amid-surge-in-covid-19   \n",
       "29                                                                                            https://www.channelnewsasia.com/singapore/covid-19-dining-group-size-two-social-gatherings-reduced-moh-2199456   \n",
       "30                                                                                                           https://www.channelnewsasia.com/singapore/work-home-default-covid-19-workplace-measures-2199566   \n",
       "31                                                                           https://www.straitstimes.com/singapore/parenting-education/spore-unis-move-classes-online-to-reduce-spread-of-covid-19-as-cases   \n",
       "32                                                                               https://www.channelnewsasia.com/singapore/stabilisation-phase-restrictions-extended-nov-21-dining-social-gatherings-2256766   \n",
       "33                                                                            https://www.straitstimes.com/singapore/health/singapores-covid-19-measures-to-be-extended-till-nov-21-to-be-reviewed-at-2-week   \n",
       "34                                                                              https://www.channelnewsasia.com/singapore/covid-19-streamlining-safe-management-measures-delay-moh-high-case-numbers-2539831   \n",
       "\n",
       "         created_sgt  \\\n",
       "0     4/5/2021 18:59   \n",
       "1     4/5/2021 18:59   \n",
       "2      5/5/2021 8:00   \n",
       "3     6/5/2021 15:09   \n",
       "4    14/5/2021 13:06   \n",
       "5    14/5/2021 13:07   \n",
       "6    14/5/2021 13:08   \n",
       "7    14/5/2021 13:09   \n",
       "8    14/5/2021 13:11   \n",
       "9     15/5/2021 0:34   \n",
       "10   16/5/2021 11:24   \n",
       "11   16/5/2021 20:01   \n",
       "12   16/5/2021 20:01   \n",
       "13   16/5/2021 20:01   \n",
       "14   18/5/2021 19:11   \n",
       "15   16/6/2021 16:30   \n",
       "16   16/6/2021 16:35   \n",
       "17   16/6/2021 18:33   \n",
       "18   16/7/2021 17:50   \n",
       "19   16/7/2021 17:53   \n",
       "20   16/7/2021 17:55   \n",
       "21   16/7/2021 17:55   \n",
       "22   20/7/2021 15:26   \n",
       "23    4/8/2021 15:04   \n",
       "24    3/9/2021 18:56   \n",
       "25    3/9/2021 19:02   \n",
       "26   12/9/2021 16:18   \n",
       "27   18/9/2021 15:04   \n",
       "28   22/9/2021 17:39   \n",
       "29   24/9/2021 18:32   \n",
       "30   24/9/2021 18:33   \n",
       "31   30/9/2021 16:11   \n",
       "32  20/10/2021 19:12   \n",
       "33  20/10/2021 19:14   \n",
       "34    4/3/2022 20:48   \n",
       "\n",
       "                                                                                         full_link_reddit  \\\n",
       "0    https://www.reddit.com/r/singapore/comments/n4li0v/singapore_to_cut_social_gathering_size_from_8_to/   \n",
       "1     https://www.reddit.com/r/singapore/comments/n4li5g/cap_of_5_people_for_social_gatherings_household/   \n",
       "2      https://www.reddit.com/r/singapore/comments/n52529/limit_on_employees_who_can_return_to_workplace/   \n",
       "3           https://www.reddit.com/r/singapore/comments/n61hcv/covid19_indoor_sports_facilities_to_close/   \n",
       "4     https://www.reddit.com/r/singapore/comments/nc0vau/group_sizes_down_from_5_to_2_diningin_suspended/   \n",
       "5     https://www.reddit.com/r/singapore/comments/nc0veq/group_sizes_down_from_5_to_2_diningin_suspended/   \n",
       "6   https://www.reddit.com/r/singapore/comments/nc0vwe/no_dining_in_social_gatherings_capped_at_2_people/   \n",
       "7   https://www.reddit.com/r/singapore/comments/nc0wni/only_2_visitors_per_household_per_day_no_diningin/   \n",
       "8     https://www.reddit.com/r/singapore/comments/nc0y1s/group_sizes_down_from_5_to_2_diningin_suspended/   \n",
       "9   https://www.reddit.com/r/singapore/comments/ncctqd/fixed_seating_with_onemetre_spacing_for_recess_no/   \n",
       "10        https://www.reddit.com/r/singapore/comments/ndfe1i/2passenger_limit_for_taxis_privatehire_cars/   \n",
       "11  https://www.reddit.com/r/singapore/comments/ndmusi/covid19_primary_secondary_schools_and_jcs_to_move/   \n",
       "12  https://www.reddit.com/r/singapore/comments/ndmv03/covid19_primary_secondary_schools_and_jcs_to_move/   \n",
       "13     https://www.reddit.com/r/singapore/comments/ndmuup/spore_schools_to_start_full_homebased_learning/   \n",
       "14    https://www.reddit.com/r/singapore/comments/nf7x2i/all_inperson_private_tuition_and_enrichment_for/   \n",
       "15  https://www.reddit.com/r/singapore/comments/o102bk/covid19_task_force_evaluating_timing_and_scope_of/   \n",
       "16  https://www.reddit.com/r/singapore/comments/o104h0/covid19_task_force_evaluating_timing_and_scope_of/   \n",
       "17  https://www.reddit.com/r/singapore/comments/o11sf4/covid19_task_force_evaluating_timing_and_scope_of/   \n",
       "18  https://www.reddit.com/r/singapore/comments/oldoyg/covid19_diningin_group_size_back_to_2_groups_of_5/   \n",
       "19  https://www.reddit.com/r/singapore/comments/oldqa5/spore_tightens_covid19_rules_as_ktv_cluster_grows/   \n",
       "20   https://www.reddit.com/r/singapore/comments/oldqwa/dinein_group_size_cut_to_2_from_july_19_as_spore/   \n",
       "21        https://www.reddit.com/r/singapore/comments/oldr80/spore_cuts_diningin_cap_to_2_as_covid19_ktv/   \n",
       "22      https://www.reddit.com/r/singapore/comments/onx8xr/no_dining_in_social_group_sizes_cut_to_2_from/   \n",
       "23  https://www.reddit.com/r/singapore/comments/oxn4p7/visits_to_all_hospital_wards_to_cease_for_2_weeks/   \n",
       "24    https://www.reddit.com/r/singapore/comments/ph2utq/spore_to_maintain_current_covid19_measures_will/   \n",
       "25    https://www.reddit.com/r/singapore/comments/ph2xt2/no_easing_of_restrictions_for_now_amid_spike_in/   \n",
       "26   https://www.reddit.com/r/singapore/comments/pmou64/moh_suspends_inperson_visits_to_residential_care/   \n",
       "27    https://www.reddit.com/r/singapore/comments/pqhokh/homebased_learning_for_pri_1_to_5_students_amid/   \n",
       "28    https://www.reddit.com/r/singapore/comments/pt3yxt/no_visitors_to_hospital_wards_allowed_from_sept/   \n",
       "29    https://www.reddit.com/r/singapore/comments/puh01k/covid19_diningin_group_size_limit_at_regular_fb/   \n",
       "30  https://www.reddit.com/r/singapore/comments/puh0ez/workfromhome_to_be_default_from_monday_as_covid19/   \n",
       "31    https://www.reddit.com/r/singapore/comments/pyfbzk/spore_unis_move_classes_online_to_reduce_spread/   \n",
       "32   https://www.reddit.com/r/singapore/comments/qbyerz/stabilisation_phase_extended_to_nov_21_more_time/   \n",
       "33    https://www.reddit.com/r/singapore/comments/qbyfn4/singapores_covid19_measures_to_be_extended_till/   \n",
       "34   https://www.reddit.com/r/singapore/comments/t6i8v3/streamlining_of_covid19_measures_to_be_postponed/   \n",
       "\n",
       "                                                        full_link_fb  \n",
       "0   https://www.facebook.com/TheStraitsTimes/posts/10157877541112115  \n",
       "1   https://www.facebook.com/ChannelNewsAsia/posts/10158274255327934  \n",
       "2   https://www.facebook.com/TheStraitsTimes/posts/10157878977002115  \n",
       "3   https://www.facebook.com/ChannelNewsAsia/posts/10158278202967934  \n",
       "4   https://www.facebook.com/ChannelNewsAsia/posts/10158295565437934  \n",
       "5   https://www.facebook.com/ChannelNewsAsia/posts/10158295565437934  \n",
       "6   https://www.facebook.com/TheStraitsTimes/posts/10157899793777115  \n",
       "7   https://www.facebook.com/TheStraitsTimes/posts/10157899892712115  \n",
       "8   https://www.facebook.com/ChannelNewsAsia/posts/10158295565437934  \n",
       "9   https://www.facebook.com/TheStraitsTimes/posts/10157900823922115  \n",
       "10  https://www.facebook.com/ChannelNewsAsia/posts/10158300015227934  \n",
       "11  https://www.facebook.com/ChannelNewsAsia/posts/10158300676777934  \n",
       "12  https://www.facebook.com/ChannelNewsAsia/posts/10158300676777934  \n",
       "13  https://www.facebook.com/TheStraitsTimes/posts/10157904579472115  \n",
       "14  https://www.facebook.com/ChannelNewsAsia/posts/10158304639667934  \n",
       "15  https://www.facebook.com/ChannelNewsAsia/posts/10158367144152934  \n",
       "16  https://www.facebook.com/ChannelNewsAsia/posts/10158367144152934  \n",
       "17  https://www.facebook.com/ChannelNewsAsia/posts/10158367144152934  \n",
       "18  https://www.facebook.com/ChannelNewsAsia/posts/10158423307637934  \n",
       "19  https://www.facebook.com/TheStraitsTimes/posts/10158023125857115  \n",
       "20  https://www.facebook.com/TheStraitsTimes/posts/10158023136557115  \n",
       "21  https://www.facebook.com/TheStraitsTimes/posts/10158023136557115  \n",
       "22  https://www.facebook.com/TheStraitsTimes/posts/10158030653082115  \n",
       "23  https://www.facebook.com/ChannelNewsAsia/posts/10158457835047934  \n",
       "24  https://www.facebook.com/TheStraitsTimes/posts/10158110812602115  \n",
       "25  https://www.facebook.com/ChannelNewsAsia/posts/10158509010257934  \n",
       "26  https://www.facebook.com/ChannelNewsAsia/posts/10158522859952934  \n",
       "27  https://www.facebook.com/ChannelNewsAsia/posts/10158532152462934  \n",
       "28  https://www.facebook.com/TheStraitsTimes/posts/10158141394567115  \n",
       "29  https://www.facebook.com/ChannelNewsAsia/posts/10158542015252934  \n",
       "30  https://www.facebook.com/ChannelNewsAsia/posts/10158542018962934  \n",
       "31  https://www.facebook.com/TheStraitsTimes/posts/10158154314997115  \n",
       "32  https://www.facebook.com/ChannelNewsAsia/posts/10158582288427934  \n",
       "33  https://www.facebook.com/TheStraitsTimes/posts/10158186209047115  \n",
       "34  https://www.facebook.com/ChannelNewsAsia/posts/10158806284412934  "
      ]
     },
     "execution_count": 4,
     "metadata": {},
     "output_type": "execute_result"
    }
   ],
   "source": [
    "fb_selected"
   ]
  },
  {
   "cell_type": "markdown",
   "id": "33a1b10a",
   "metadata": {},
   "source": [
    "### Get comments for each post"
   ]
  },
  {
   "cell_type": "markdown",
   "id": "57609de4",
   "metadata": {},
   "source": [
    "I used the [facebook-scraper Python package](https://pypi.org/project/facebook-scraper/) to extract all the comments from each post using the URL for the post."
   ]
  },
  {
   "cell_type": "markdown",
   "id": "f80ccd3b",
   "metadata": {},
   "source": [
    "To better understand how the results were structured, I extracted comments from the first post in the dataframe:"
   ]
  },
  {
   "cell_type": "code",
   "execution_count": 5,
   "id": "affed940",
   "metadata": {},
   "outputs": [
    {
     "data": {
      "application/vnd.jupyter.widget-view+json": {
       "model_id": "3c2c4a7b888a492f9e8d8d7b3741f0e0",
       "version_major": 2,
       "version_minor": 0
      },
      "text/plain": [
       "  0%|          | 0/269 [00:00<?, ?it/s]"
      ]
     },
     "metadata": {},
     "output_type": "display_data"
    },
    {
     "name": "stdout",
     "output_type": "stream",
     "text": [
      "{'original_request_url': 'https://www.facebook.com/TheStraitsTimes/posts/10157877541112115', 'post_url': 'https://facebook.com/story.php?story_fbid=pfbid035FEyJ6GJCiMiHgiKc8v9fzptow9eoYAtQsWBtz7KT5D4v3XardkSmzzCYxtCkLkcl&id=129011692114', 'post_id': 'pfbid035FEyJ6GJCiMiHgiKc8v9fzptow9eoYAtQsWBtz7KT5D4v3XardkSmzzCYxtCkLkcl', 'text': 'JUST IN: No more than 50% of employees should be in the office at any one time, down from 75%. Households can receive only 5 distinct visitors a day.\\n\\nSTRAITSTIMES.COM\\nBack to phase 2: Cap of 5 people for social gatherings from May 8 amid rising Covid-19 cases', 'post_text': 'JUST IN: No more than 50% of employees should be in the office at any one time, down from 75%. Households can receive only 5 distinct visitors a day.', 'shared_text': 'STRAITSTIMES.COM\\nBack to phase 2: Cap of 5 people for social gatherings from May 8 amid rising Covid-19 cases', 'original_text': None, 'time': datetime.datetime(2021, 5, 4, 6, 59, 47), 'timestamp': 1620125987, 'image': 'https://static.straitstimes.com.sg/s3fs-public/styles/x_large/public/articles/2021/05/04/dw-mtf-group5-210504.jpg?itok=HtNbYc9D', 'image_lowquality': 'https://external-iad3-1.xx.fbcdn.net/safe_image.php?w=476&h=249&url=https%3A%2F%2Fstatic.straitstimes.com.sg%2Fs3fs-public%2Fstyles%2Fx_large%2Fpublic%2Farticles%2F2021%2F05%2F04%2Fdw-mtf-group5-210504.jpg%3Fitok%3DHtNbYc9D&cfs=1&jq=75&ext=jpg&utld=straitstimes.com.sg&_nc_oe=70671&_nc_sid=505865&_nc_o2e=1&ccb=3-6&_nc_hash=AQGYCYh6MdZ1tx64', 'images': ['https://static.straitstimes.com.sg/s3fs-public/styles/x_large/public/articles/2021/05/04/dw-mtf-group5-210504.jpg?itok=HtNbYc9D'], 'images_description': None, 'images_lowquality': ['https://external-iad3-1.xx.fbcdn.net/safe_image.php?w=476&h=249&url=https%3A%2F%2Fstatic.straitstimes.com.sg%2Fs3fs-public%2Fstyles%2Fx_large%2Fpublic%2Farticles%2F2021%2F05%2F04%2Fdw-mtf-group5-210504.jpg%3Fitok%3DHtNbYc9D&cfs=1&jq=75&ext=jpg&utld=straitstimes.com.sg&_nc_oe=70671&_nc_sid=505865&_nc_o2e=1&ccb=3-6&_nc_hash=AQGYCYh6MdZ1tx64'], 'images_lowquality_description': [None], 'video': None, 'video_duration_seconds': None, 'video_height': None, 'video_id': None, 'video_quality': None, 'video_size_MB': None, 'video_thumbnail': None, 'video_watches': None, 'video_width': None, 'likes': 2800, 'comments': 502, 'shares': 3082, 'link': 'https://www.straitstimes.com/singapore/health/singapore-to-cut-social-gathering-size-from-8-to-5-amid-rising-covid-19-cases?utm_medium=social&utm_source=facebook&utm_campaign=stfb&fbclid=IwAR0jyREhBLLPQ8qeDS3d2gQGgatVQWJF5uD3HnlAWjmUTOa92X5JI3XdKI8', 'links': [], 'user_id': '129011692114', 'username': 'The Straits Times', 'user_url': 'https://facebook.com/TheStraitsTimes/?__tn__=C-R', 'is_live': False, 'factcheck': None, 'shared_post_id': None, 'shared_time': None, 'shared_user_id': None, 'shared_username': None, 'shared_post_url': None, 'available': True, 'comments_full': [{'comment_id': '10157877630867115', 'comment_url': 'https://facebook.com/10157877630867115', 'commenter_id': '598680344', 'commenter_url': 'https://facebook.com/ivan.wong.54943?fref=nf&rc=p&__tn__=R', 'commenter_name': 'Ivan Wong', 'commenter_meta': None, 'comment_text': 'The opening up in early April was way too much/fast. 75% back to office is practically allowing for all to go back. When the borders were wide open to practically all. Too hasty.', 'comment_time': datetime.datetime(2021, 7, 5, 18, 10, 8), 'comment_image': 'https://scontent.xx.fbcdn.net/m1/v/t6/An_UvxJXg9tdnLU3Y5qjPi0200MLilhzPXUgxzGjQzUMaNcmjdZA6anyrngvkdub33NZzZhd51fpCAEzNHFhko5aKRFP5fS1w_lKwYrzcNLupv27.png?ccb=10-5&oh=00_AT-6mlpruIIrE8jyyZEXu9qWo0AD9boOm8DGqnLwF3LEjw&oe=62CA89F9&_nc_sid=55e238', 'comment_reactors': [], 'comment_reactions': None, 'comment_reaction_count': None, 'replies': []}, {'comment_id': '10157877561317115', 'comment_url': 'https://facebook.com/10157877561317115', 'commenter_id': '100007451627592', 'commenter_url': 'https://facebook.com/profile.php?id=100007451627592&fref=nf&rc=p&__tn__=R', 'commenter_name': 'Lee Kerry', 'commenter_meta': None, 'comment_text': 'Please ban India flights, India citizens India passport holders India born anyone with a travel history to India. Once you have this ban we will be like before zero community case. Other countries have imposed total ban on India flights and citizens including jail and fine. We should follow in order to protect our citizens.', 'comment_time': datetime.datetime(2021, 7, 5, 18, 10, 9), 'comment_image': 'https://scontent.xx.fbcdn.net/m1/v/t6/An_UvxJXg9tdnLU3Y5qjPi0200MLilhzPXUgxzGjQzUMaNcmjdZA6anyrngvkdub33NZzZhd51fpCAEzNHFhko5aKRFP5fS1w_lKwYrzcNLupv27.png?ccb=10-5&oh=00_AT-6mlpruIIrE8jyyZEXu9qWo0AD9boOm8DGqnLwF3LEjw&oe=62CA89F9&_nc_sid=55e238', 'comment_reactors': [], 'comment_reactions': None, 'comment_reaction_count': None, 'replies': []}, {'comment_id': '10157877564117115', 'comment_url': 'https://facebook.com/10157877564117115', 'commenter_id': '100005706093115', 'commenter_url': 'https://facebook.com/jellisa.soon?fref=nf&rc=p&__tn__=R', 'commenter_name': 'Jellisa Soon', 'commenter_meta': None, 'comment_text': \"Haiz.. no apologies for importing cases. All your doing leh garmen. I'm going to have a friendly chat with my MP!\", 'comment_time': datetime.datetime(2021, 7, 5, 18, 10, 9), 'comment_image': 'https://scontent.xx.fbcdn.net/m1/v/t6/An_UvxJXg9tdnLU3Y5qjPi0200MLilhzPXUgxzGjQzUMaNcmjdZA6anyrngvkdub33NZzZhd51fpCAEzNHFhko5aKRFP5fS1w_lKwYrzcNLupv27.png?ccb=10-5&oh=00_AT-6mlpruIIrE8jyyZEXu9qWo0AD9boOm8DGqnLwF3LEjw&oe=62CA89F9&_nc_sid=55e238', 'comment_reactors': [], 'comment_reactions': None, 'comment_reaction_count': None, 'replies': []}, {'comment_id': '10157877557412115', 'comment_url': 'https://facebook.com/10157877557412115', 'commenter_id': '746255178', 'commenter_url': 'https://facebook.com/Clarencemah8000?fref=nf&rc=p&__tn__=R', 'commenter_name': '马国荣', 'commenter_meta': None, 'comment_text': \"Tighten local measures but fail to shut borders completely on travelers from high-risk countries. What's the point then? What a shame!\", 'comment_time': datetime.datetime(2021, 7, 5, 18, 10, 9), 'comment_image': 'https://scontent.xx.fbcdn.net/m1/v/t6/An_UvxJXg9tdnLU3Y5qjPi0200MLilhzPXUgxzGjQzUMaNcmjdZA6anyrngvkdub33NZzZhd51fpCAEzNHFhko5aKRFP5fS1w_lKwYrzcNLupv27.png?ccb=10-5&oh=00_AT-6mlpruIIrE8jyyZEXu9qWo0AD9boOm8DGqnLwF3LEjw&oe=62CA89F9&_nc_sid=55e238', 'comment_reactors': [], 'comment_reactions': None, 'comment_reaction_count': None, 'replies': []}, {'comment_id': '10157877555032115', 'comment_url': 'https://facebook.com/10157877555032115', 'commenter_id': '853058521544067', 'commenter_url': 'https://facebook.com/truesingaporeans/?rc=p&__tn__=%7ER', 'commenter_name': 'True Singaporean', 'commenter_meta': None, 'comment_text': 'Blaming us for not following safe distancing measures again instead of blaming themselves.', 'comment_time': datetime.datetime(2021, 7, 5, 18, 10, 9), 'comment_image': 'https://scontent.xx.fbcdn.net/m1/v/t6/An_UvxJXg9tdnLU3Y5qjPi0200MLilhzPXUgxzGjQzUMaNcmjdZA6anyrngvkdub33NZzZhd51fpCAEzNHFhko5aKRFP5fS1w_lKwYrzcNLupv27.png?ccb=10-5&oh=00_AT-6mlpruIIrE8jyyZEXu9qWo0AD9boOm8DGqnLwF3LEjw&oe=62CA89F9&_nc_sid=55e238', 'comment_reactors': [], 'comment_reactions': None, 'comment_reaction_count': None, 'replies': []}, {'comment_id': '10157877610822115', 'comment_url': 'https://facebook.com/10157877610822115', 'commenter_id': '100002032137937', 'commenter_url': 'https://facebook.com/matthew.ong.56?fref=nf&rc=p&__tn__=R', 'commenter_name': 'Matthew Ong', 'commenter_meta': None, 'comment_text': 'Better to be safe than sorry. Stay safe. We cannot afford another circuit breaker. Do stay at home also.', 'comment_time': datetime.datetime(2021, 7, 5, 18, 10, 9), 'comment_image': 'https://scontent.xx.fbcdn.net/m1/v/t6/An_UvxJXg9tdnLU3Y5qjPi0200MLilhzPXUgxzGjQzUMaNcmjdZA6anyrngvkdub33NZzZhd51fpCAEzNHFhko5aKRFP5fS1w_lKwYrzcNLupv27.png?ccb=10-5&oh=00_AT-6mlpruIIrE8jyyZEXu9qWo0AD9boOm8DGqnLwF3LEjw&oe=62CA89F9&_nc_sid=55e238', 'comment_reactors': [], 'comment_reactions': None, 'comment_reaction_count': None, 'replies': []}, {'comment_id': '10157877599182115', 'comment_url': 'https://facebook.com/10157877599182115', 'commenter_id': '608531590', 'commenter_url': 'https://facebook.com/lisa.khoo.9?fref=nf&rc=p&__tn__=R', 'commenter_name': 'Lisa Khoo', 'commenter_meta': None, 'comment_text': 'Better to be drastic and safe.. no point fighting it. Even with the vaccine 💉 we are not safe bec this thing is mutating faster than we can can develop the vaccine 😨 Stay safe everyone.', 'comment_time': datetime.datetime(2021, 7, 5, 18, 10, 9), 'comment_image': 'https://scontent.xx.fbcdn.net/m1/v/t6/An_UvxJXg9tdnLU3Y5qjPi0200MLilhzPXUgxzGjQzUMaNcmjdZA6anyrngvkdub33NZzZhd51fpCAEzNHFhko5aKRFP5fS1w_lKwYrzcNLupv27.png?ccb=10-5&oh=00_AT-6mlpruIIrE8jyyZEXu9qWo0AD9boOm8DGqnLwF3LEjw&oe=62CA89F9&_nc_sid=55e238', 'comment_reactors': [], 'comment_reactions': None, 'comment_reaction_count': None, 'replies': []}, {'comment_id': '10157877637422115', 'comment_url': 'https://facebook.com/10157877637422115', 'commenter_id': '704749898', 'commenter_url': 'https://facebook.com/WeiSiang?fref=nf&rc=p&__tn__=R', 'commenter_name': 'Isaac Sim', 'commenter_meta': None, 'comment_text': \"It's ridiculous that the government is forcing pre-event testing on weddings scheduled this month with lesser than 100 people now with so little lead time left to prepare. Can't the government show more empathy and flexibility?\", 'comment_time': datetime.datetime(2021, 7, 5, 18, 10, 9), 'comment_image': 'https://scontent.xx.fbcdn.net/m1/v/t6/An_UvxJXg9tdnLU3Y5qjPi0200MLilhzPXUgxzGjQzUMaNcmjdZA6anyrngvkdub33NZzZhd51fpCAEzNHFhko5aKRFP5fS1w_lKwYrzcNLupv27.png?ccb=10-5&oh=00_AT-6mlpruIIrE8jyyZEXu9qWo0AD9boOm8DGqnLwF3LEjw&oe=62CA89F9&_nc_sid=55e238', 'comment_reactors': [], 'comment_reactions': None, 'comment_reaction_count': None, 'replies': []}, {'comment_id': '10157877794107115', 'comment_url': 'https://facebook.com/10157877794107115', 'commenter_id': '100018964323478', 'commenter_url': 'https://facebook.com/profile.php?id=100018964323478&fref=nf&rc=p&__tn__=R', 'commenter_name': 'Leo Lee', 'commenter_meta': None, 'comment_text': \"Well done for stricter measure, Should consider impose back team A and Team B rotation as well. Let's open up more after a good percentage has been vaccinated like 80 percent.\", 'comment_time': datetime.datetime(2021, 7, 5, 18, 10, 9), 'comment_image': 'https://scontent.xx.fbcdn.net/m1/v/t6/An_F9bJG7govfshSMBkvcRLcxT0jmiXVYKtr7lgH5AHgUrjjpZ1OD0xyxXYgf7arc0lWgCdrR_KN4Mg7RSN3Gm3W6Gg03N1tQ-ZXzVvFJ_KvvB4.png?ccb=10-5&oh=00_AT_twsUvVFAYMhv1YW13iB1hBp9j_kXBJeaj0wHLghwU3Q&oe=62CA5C67&_nc_sid=55e238', 'comment_reactors': [], 'comment_reactions': None, 'comment_reaction_count': None, 'replies': []}, {'comment_id': '10157878077392115', 'comment_url': 'https://facebook.com/10157878077392115', 'commenter_id': '100002241591001', 'commenter_url': 'https://facebook.com/antonio.too?fref=nf&rc=p&__tn__=R', 'commenter_name': 'Antonio Too', 'commenter_meta': None, 'comment_text': \"many sme offices long ago already ask all (100%) back to office...\\nmany use tracetogether apps just to check in, then off the apps...how to do proper contact tracing...some using few phones with few names...some tokens already no blinking...some\\nuse other persons' tokens...alread\\ny our contact tracing so efficient...do tokens and trace together apps communicate with each others...?\", 'comment_time': datetime.datetime(2021, 7, 5, 18, 10, 9), 'comment_image': 'https://scontent.xx.fbcdn.net/m1/v/t6/An_UvxJXg9tdnLU3Y5qjPi0200MLilhzPXUgxzGjQzUMaNcmjdZA6anyrngvkdub33NZzZhd51fpCAEzNHFhko5aKRFP5fS1w_lKwYrzcNLupv27.png?ccb=10-5&oh=00_AT-6mlpruIIrE8jyyZEXu9qWo0AD9boOm8DGqnLwF3LEjw&oe=62CA89F9&_nc_sid=55e238', 'comment_reactors': [], 'comment_reactions': None, 'comment_reaction_count': None, 'replies': []}, {'comment_id': '10157877580587115', 'comment_url': 'https://facebook.com/10157877580587115', 'commenter_id': '100035466249782', 'commenter_url': 'https://facebook.com/profile.php?id=100035466249782&fref=nf&rc=p&__tn__=R', 'commenter_name': 'WyinMimi Lee', 'commenter_meta': None, 'comment_text': 'Finally.. its glad to hear that the taskforce team are implementing more stringent measures. Sorry, folks. Think tts the best solution currently. Better be safe than sorry. Thank you for your understanding. we cant really afford another circuit breaker. What happens already happening. we hv to move on. Be alert, stay safe and minimise social gatherings for a period of time. If all of our hearts stay as one n wirk together as one, we can overcome it, must overcome it and WILL overcome it! Bcos we want our little island 🇸🇬to return to breath with clear air, beautiful sunshine city which the world envy. We can achieve it! ✊🏻✌🏻💪🏻❤️🦁 🇸🇬🙏🏻', 'comment_time': datetime.datetime(2021, 7, 5, 18, 10, 9), 'comment_image': 'https://scontent.xx.fbcdn.net/m1/v/t6/An_UvxJXg9tdnLU3Y5qjPi0200MLilhzPXUgxzGjQzUMaNcmjdZA6anyrngvkdub33NZzZhd51fpCAEzNHFhko5aKRFP5fS1w_lKwYrzcNLupv27.png?ccb=10-5&oh=00_AT-6mlpruIIrE8jyyZEXu9qWo0AD9boOm8DGqnLwF3LEjw&oe=62CA89F9&_nc_sid=55e238', 'comment_reactors': [], 'comment_reactions': None, 'comment_reaction_count': None, 'replies': []}, {'comment_id': '10157877554642115', 'comment_url': 'https://facebook.com/10157877554642115', 'commenter_id': '758022962', 'commenter_url': 'https://facebook.com/karin.chua14?fref=nf&rc=p&__tn__=R', 'commenter_name': 'Karin Karin', 'commenter_meta': None, 'comment_text': 'Just lockdown again lah, our stupid government is the one who opened the boarders and welcome foreigners to enter and now they push the blame to us locals. In the 1st place, do we really need so many new maids? Most of them that came in surely will bring the virus to our country 🤦\\u200d♀️', 'comment_time': datetime.datetime(2021, 7, 5, 18, 10, 9), 'comment_image': 'https://scontent.xx.fbcdn.net/m1/v/t6/An_UvxJXg9tdnLU3Y5qjPi0200MLilhzPXUgxzGjQzUMaNcmjdZA6anyrngvkdub33NZzZhd51fpCAEzNHFhko5aKRFP5fS1w_lKwYrzcNLupv27.png?ccb=10-5&oh=00_AT-6mlpruIIrE8jyyZEXu9qWo0AD9boOm8DGqnLwF3LEjw&oe=62CA89F9&_nc_sid=55e238', 'comment_reactors': [], 'comment_reactions': None, 'comment_reaction_count': None, 'replies': []}, {'comment_id': '10157877547537115', 'comment_url': 'https://facebook.com/10157877547537115', 'commenter_id': '753348409', 'commenter_url': 'https://facebook.com/suzette.ser?fref=nf&rc=p&__tn__=R', 'commenter_name': 'Suzette Ser', 'commenter_meta': None, 'comment_text': 'Okay why not cut down flights from affected countries then ?', 'comment_time': datetime.datetime(2021, 7, 5, 18, 10, 9), 'comment_image': 'https://scontent.xx.fbcdn.net/m1/v/t6/An_UvxJXg9tdnLU3Y5qjPi0200MLilhzPXUgxzGjQzUMaNcmjdZA6anyrngvkdub33NZzZhd51fpCAEzNHFhko5aKRFP5fS1w_lKwYrzcNLupv27.png?ccb=10-5&oh=00_AT-6mlpruIIrE8jyyZEXu9qWo0AD9boOm8DGqnLwF3LEjw&oe=62CA89F9&_nc_sid=55e238', 'comment_reactors': [], 'comment_reactions': None, 'comment_reaction_count': None, 'replies': []}, {'comment_id': '10157877584797115', 'comment_url': 'https://facebook.com/10157877584797115', 'commenter_id': '1018074563', 'commenter_url': 'https://facebook.com/angela.chia.54?fref=nf&rc=p&__tn__=R', 'commenter_name': 'Angela Chia', 'commenter_meta': None, 'comment_text': 'The signs are already there, yet they chose to wait and see. Again...', 'comment_time': datetime.datetime(2021, 7, 5, 18, 10, 9), 'comment_image': 'https://scontent.xx.fbcdn.net/m1/v/t6/An_UvxJXg9tdnLU3Y5qjPi0200MLilhzPXUgxzGjQzUMaNcmjdZA6anyrngvkdub33NZzZhd51fpCAEzNHFhko5aKRFP5fS1w_lKwYrzcNLupv27.png?ccb=10-5&oh=00_AT-6mlpruIIrE8jyyZEXu9qWo0AD9boOm8DGqnLwF3LEjw&oe=62CA89F9&_nc_sid=55e238', 'comment_reactors': [], 'comment_reactions': None, 'comment_reaction_count': None, 'replies': []}, {'comment_id': '10157877566167115', 'comment_url': 'https://facebook.com/10157877566167115', 'commenter_id': '647888578', 'commenter_url': 'https://facebook.com/javier.lee.359?fref=nf&rc=p&__tn__=R', 'commenter_name': 'Lee Ye Young Javier', 'commenter_meta': None, 'comment_text': 'Last year never react fast enough to close border with China, end up mass dormitory infection, Circuit Breaker, 4 Relief Budget. This year again repeating same with India ?', 'comment_time': datetime.datetime(2021, 7, 5, 18, 10, 9), 'comment_image': 'https://scontent.xx.fbcdn.net/m1/v/t6/An_UvxJXg9tdnLU3Y5qjPi0200MLilhzPXUgxzGjQzUMaNcmjdZA6anyrngvkdub33NZzZhd51fpCAEzNHFhko5aKRFP5fS1w_lKwYrzcNLupv27.png?ccb=10-5&oh=00_AT-6mlpruIIrE8jyyZEXu9qWo0AD9boOm8DGqnLwF3LEjw&oe=62CA89F9&_nc_sid=55e238', 'comment_reactors': [], 'comment_reactions': None, 'comment_reaction_count': None, 'replies': []}, {'comment_id': '10157877570957115', 'comment_url': 'https://facebook.com/10157877570957115', 'commenter_id': '1203613408', 'commenter_url': 'https://facebook.com/conrad.tan.5?fref=nf&rc=p&__tn__=R', 'commenter_name': 'Conrad Tan', 'commenter_meta': None, 'comment_text': 'I believe we should institute some social distancing in public transportation too.', 'comment_time': datetime.datetime(2021, 7, 5, 18, 10, 9), 'comment_image': 'https://scontent.xx.fbcdn.net/m1/v/t6/An_UvxJXg9tdnLU3Y5qjPi0200MLilhzPXUgxzGjQzUMaNcmjdZA6anyrngvkdub33NZzZhd51fpCAEzNHFhko5aKRFP5fS1w_lKwYrzcNLupv27.png?ccb=10-5&oh=00_AT-6mlpruIIrE8jyyZEXu9qWo0AD9boOm8DGqnLwF3LEjw&oe=62CA89F9&_nc_sid=55e238', 'comment_reactors': [], 'comment_reactions': None, 'comment_reaction_count': None, 'replies': []}, {'comment_id': '10157877565697115', 'comment_url': 'https://facebook.com/10157877565697115', 'commenter_id': '100026638508324', 'commenter_url': 'https://facebook.com/darius.low.3576?fref=nf&rc=p&__tn__=R', 'commenter_name': 'Darius Low', 'commenter_meta': None, 'comment_text': 'My boss says he needs to see me in office then he knows I’m working. Is that valid reason for him?', 'comment_time': datetime.datetime(2021, 7, 5, 18, 10, 9), 'comment_image': 'https://scontent.xx.fbcdn.net/m1/v/t6/An_F9bJG7govfshSMBkvcRLcxT0jmiXVYKtr7lgH5AHgUrjjpZ1OD0xyxXYgf7arc0lWgCdrR_KN4Mg7RSN3Gm3W6Gg03N1tQ-ZXzVvFJ_KvvB4.png?ccb=10-5&oh=00_AT_twsUvVFAYMhv1YW13iB1hBp9j_kXBJeaj0wHLghwU3Q&oe=62CA5C67&_nc_sid=55e238', 'comment_reactors': [], 'comment_reactions': None, 'comment_reaction_count': None, 'replies': []}, {'comment_id': '10157877587987115', 'comment_url': 'https://facebook.com/10157877587987115', 'commenter_id': '1540338914', 'commenter_url': 'https://facebook.com/daniel.ang.528?fref=nf&rc=p&__tn__=R', 'commenter_name': 'Daniel Ang', 'commenter_meta': None, 'comment_text': 'Why? Indian flight keep coming in.', 'comment_time': datetime.datetime(2021, 7, 5, 18, 10, 9), 'comment_image': 'https://scontent.xx.fbcdn.net/m1/v/t6/An_UvxJXg9tdnLU3Y5qjPi0200MLilhzPXUgxzGjQzUMaNcmjdZA6anyrngvkdub33NZzZhd51fpCAEzNHFhko5aKRFP5fS1w_lKwYrzcNLupv27.png?ccb=10-5&oh=00_AT-6mlpruIIrE8jyyZEXu9qWo0AD9boOm8DGqnLwF3LEjw&oe=62CA89F9&_nc_sid=55e238', 'comment_reactors': [], 'comment_reactions': None, 'comment_reaction_count': None, 'replies': []}, {'comment_id': '10157877616172115', 'comment_url': 'https://facebook.com/10157877616172115', 'commenter_id': '100010812879130', 'commenter_url': 'https://facebook.com/mia.acuna.167?fref=nf&rc=p&__tn__=R', 'commenter_name': 'Mia Acuña', 'commenter_meta': None, 'comment_text': 'Is the rule : no more than 50% of employees should be at the office at any one time ( meaning a company who has 100 employees total , can only have 50 on site ) ..\\n\\nor is it : no more than 50% of employees who can work from home,can be at the office, at any one time ( meaning in the same 100 employee setting , if only 50 of them have the ability to work at home , 50% will be 25... so only 25 of these 50 people can come to office) ?', 'comment_time': datetime.datetime(2021, 7, 5, 18, 10, 9), 'comment_image': 'https://scontent.xx.fbcdn.net/m1/v/t6/An_UvxJXg9tdnLU3Y5qjPi0200MLilhzPXUgxzGjQzUMaNcmjdZA6anyrngvkdub33NZzZhd51fpCAEzNHFhko5aKRFP5fS1w_lKwYrzcNLupv27.png?ccb=10-5&oh=00_AT-6mlpruIIrE8jyyZEXu9qWo0AD9boOm8DGqnLwF3LEjw&oe=62CA89F9&_nc_sid=55e238', 'comment_reactors': [], 'comment_reactions': None, 'comment_reaction_count': None, 'replies': []}, {'comment_id': '10157877549642115', 'comment_url': 'https://facebook.com/10157877549642115', 'commenter_id': '100066942853186', 'commenter_url': 'https://facebook.com/tyler.koh.560?fref=nf&rc=p&__tn__=R', 'commenter_name': 'Tyler Koh', 'commenter_meta': None, 'comment_text': 'This is shoddy thinking from 4G ministers at best - everyday change policies, flip prata without a clear cut goal.\\n\\nYou just look at how people are eating at restaurants - 30 to 45 mins with their masks off. If 1 unfortunate patron is there from the TTSH or ICA cluster (which I must say has spread quite widely), the whole restaurant will more or less kena.', 'comment_time': datetime.datetime(2021, 7, 5, 18, 10, 9), 'comment_image': 'https://scontent.xx.fbcdn.net/m1/v/t6/An_UvxJXg9tdnLU3Y5qjPi0200MLilhzPXUgxzGjQzUMaNcmjdZA6anyrngvkdub33NZzZhd51fpCAEzNHFhko5aKRFP5fS1w_lKwYrzcNLupv27.png?ccb=10-5&oh=00_AT-6mlpruIIrE8jyyZEXu9qWo0AD9boOm8DGqnLwF3LEjw&oe=62CA89F9&_nc_sid=55e238', 'comment_reactors': [], 'comment_reactions': None, 'comment_reaction_count': None, 'replies': []}, {'comment_id': '10157877698862115', 'comment_url': 'https://facebook.com/10157877698862115', 'commenter_id': '1220543779', 'commenter_url': 'https://facebook.com/jose.ramirez83?fref=nf&rc=p&__tn__=R', 'commenter_name': 'Jose Ramirez', 'commenter_meta': None, 'comment_text': 'Excessive to say the least…it’s really simple: if you don’t want to be infected, stay home. Vaccines are being distributed, wear your mask, limit contact, and be smart while continuing life. It really isn’t that difficult.', 'comment_time': datetime.datetime(2021, 7, 5, 18, 10, 9), 'comment_image': 'https://scontent.xx.fbcdn.net/m1/v/t6/An_UvxJXg9tdnLU3Y5qjPi0200MLilhzPXUgxzGjQzUMaNcmjdZA6anyrngvkdub33NZzZhd51fpCAEzNHFhko5aKRFP5fS1w_lKwYrzcNLupv27.png?ccb=10-5&oh=00_AT-6mlpruIIrE8jyyZEXu9qWo0AD9boOm8DGqnLwF3LEjw&oe=62CA89F9&_nc_sid=55e238', 'comment_reactors': [], 'comment_reactions': None, 'comment_reaction_count': None, 'replies': []}, {'comment_id': '10157877602412115', 'comment_url': 'https://facebook.com/10157877602412115', 'commenter_id': '688047092', 'commenter_url': 'https://facebook.com/zoolkar?fref=nf&rc=p&__tn__=R', 'commenter_name': 'Zulkarnain Hassan', 'commenter_meta': None, 'comment_text': \"Just in time for Eid. Thanks to those who made this happened. Can't even do a simple handover of power to a new PM, you expect these people to know what is more important? Economy or people?\", 'comment_time': datetime.datetime(2021, 7, 5, 18, 10, 9), 'comment_image': 'https://scontent.xx.fbcdn.net/m1/v/t6/An_UvxJXg9tdnLU3Y5qjPi0200MLilhzPXUgxzGjQzUMaNcmjdZA6anyrngvkdub33NZzZhd51fpCAEzNHFhko5aKRFP5fS1w_lKwYrzcNLupv27.png?ccb=10-5&oh=00_AT-6mlpruIIrE8jyyZEXu9qWo0AD9boOm8DGqnLwF3LEjw&oe=62CA89F9&_nc_sid=55e238', 'comment_reactors': [], 'comment_reactions': None, 'comment_reaction_count': None, 'replies': []}, {'comment_id': '10157877547502115', 'comment_url': 'https://facebook.com/10157877547502115', 'commenter_id': '100008044845004', 'commenter_url': 'https://facebook.com/profile.php?id=100008044845004&fref=nf&rc=p&__tn__=R', 'commenter_name': 'AL Amin', 'commenter_meta': None, 'comment_text': 'Then should stop all flights from the high infectious countries regardless of citizens or PRs from coming in.', 'comment_time': datetime.datetime(2021, 7, 5, 18, 10, 9), 'comment_image': 'https://scontent.xx.fbcdn.net/m1/v/t6/An_UvxJXg9tdnLU3Y5qjPi0200MLilhzPXUgxzGjQzUMaNcmjdZA6anyrngvkdub33NZzZhd51fpCAEzNHFhko5aKRFP5fS1w_lKwYrzcNLupv27.png?ccb=10-5&oh=00_AT-6mlpruIIrE8jyyZEXu9qWo0AD9boOm8DGqnLwF3LEjw&oe=62CA89F9&_nc_sid=55e238', 'comment_reactors': [], 'comment_reactions': None, 'comment_reaction_count': None, 'replies': []}, {'comment_id': '10157877581372115', 'comment_url': 'https://facebook.com/10157877581372115', 'commenter_id': '785244135', 'commenter_url': 'https://facebook.com/tan.chuanfu?fref=nf&rc=p&__tn__=R', 'commenter_name': 'Cee AF Tan', 'commenter_meta': None, 'comment_text': 'Whoever in charge please ownup and harakiri? Failed us singaporeans totally.... other countries voluntarily resign from their positions when they are taken to task..', 'comment_time': datetime.datetime(2021, 7, 5, 18, 10, 9), 'comment_image': 'https://scontent.xx.fbcdn.net/m1/v/t6/An_UvxJXg9tdnLU3Y5qjPi0200MLilhzPXUgxzGjQzUMaNcmjdZA6anyrngvkdub33NZzZhd51fpCAEzNHFhko5aKRFP5fS1w_lKwYrzcNLupv27.png?ccb=10-5&oh=00_AT-6mlpruIIrE8jyyZEXu9qWo0AD9boOm8DGqnLwF3LEjw&oe=62CA89F9&_nc_sid=55e238', 'comment_reactors': [], 'comment_reactions': None, 'comment_reaction_count': None, 'replies': []}, {'comment_id': '10157877650672115', 'comment_url': 'https://facebook.com/10157877650672115', 'commenter_id': '100035298670509', 'commenter_url': 'https://facebook.com/feeq.deafro.1?fref=nf&rc=p&__tn__=R', 'commenter_name': 'Feeq Thatsme', 'commenter_meta': None, 'comment_text': 'Last year we didn’t get to raya and this year u wanna do this . Trust us Only 1.5% of 100% people will listen to this .. even if u put 1000 ambassador around.', 'comment_time': datetime.datetime(2021, 7, 5, 18, 10, 9), 'comment_image': 'https://scontent.xx.fbcdn.net/m1/v/t6/An_UvxJXg9tdnLU3Y5qjPi0200MLilhzPXUgxzGjQzUMaNcmjdZA6anyrngvkdub33NZzZhd51fpCAEzNHFhko5aKRFP5fS1w_lKwYrzcNLupv27.png?ccb=10-5&oh=00_AT-6mlpruIIrE8jyyZEXu9qWo0AD9boOm8DGqnLwF3LEjw&oe=62CA89F9&_nc_sid=55e238', 'comment_reactors': [], 'comment_reactions': None, 'comment_reaction_count': None, 'replies': []}, {'comment_id': '10157877572392115', 'comment_url': 'https://facebook.com/10157877572392115', 'commenter_id': '100000909064354', 'commenter_url': 'https://facebook.com/winter.mabel?fref=nf&rc=p&__tn__=R', 'commenter_name': 'Mabel Wee', 'commenter_meta': None, 'comment_text': 'We kena sacrificed because some people insist to let those people fly in! 🤬', 'comment_time': datetime.datetime(2021, 7, 5, 18, 10, 9), 'comment_image': 'https://scontent.xx.fbcdn.net/m1/v/t6/An_UvxJXg9tdnLU3Y5qjPi0200MLilhzPXUgxzGjQzUMaNcmjdZA6anyrngvkdub33NZzZhd51fpCAEzNHFhko5aKRFP5fS1w_lKwYrzcNLupv27.png?ccb=10-5&oh=00_AT-6mlpruIIrE8jyyZEXu9qWo0AD9boOm8DGqnLwF3LEjw&oe=62CA89F9&_nc_sid=55e238', 'comment_reactors': [], 'comment_reactions': None, 'comment_reaction_count': None, 'replies': []}, {'comment_id': '10157877565187115', 'comment_url': 'https://facebook.com/10157877565187115', 'commenter_id': '100026559496049', 'commenter_url': 'https://facebook.com/bernard.ong.18007?fref=nf&rc=p&__tn__=R', 'commenter_name': 'Bernard Ong', 'commenter_meta': None, 'comment_text': \"How come so many people complaining about our own government? Without the FW who will be building the road, clear the rubbish, build houses and many more... Will you be the one? We are not back to ground zero yet but put those measures in place is to ensure the spread stops where it is right now before it gets worse. Please let our government do what they need to, as we people of this nation do our part by keeping those safe distancing and safe measures. If it says 5 means 5 in social gathering.. Not 5 here and 5 on the othet table.. If it says wear a mask and please wear it properly.. Not only covering your mouth.. These measures is also telling us that 'we are too complacent' already. Zero count it doesnt mean we have won the fight against covid19. Having vaccinated it doesn't mean you wont get infected and a mask is not required...\", 'comment_time': datetime.datetime(2021, 7, 5, 18, 10, 9), 'comment_image': 'https://scontent.xx.fbcdn.net/m1/v/t6/An_UvxJXg9tdnLU3Y5qjPi0200MLilhzPXUgxzGjQzUMaNcmjdZA6anyrngvkdub33NZzZhd51fpCAEzNHFhko5aKRFP5fS1w_lKwYrzcNLupv27.png?ccb=10-5&oh=00_AT-6mlpruIIrE8jyyZEXu9qWo0AD9boOm8DGqnLwF3LEjw&oe=62CA89F9&_nc_sid=55e238', 'comment_reactors': [], 'comment_reactions': None, 'comment_reaction_count': None, 'replies': []}, {'comment_id': '10157877575547115', 'comment_url': 'https://facebook.com/10157877575547115', 'commenter_id': '1190348132', 'commenter_url': 'https://facebook.com/melissa.chia.7?fref=nf&rc=p&__tn__=R', 'commenter_name': 'Melissa Chia', 'commenter_meta': None, 'comment_text': 'Lax rules on outsiders for so long and in turn, we have to bear the tightened restrictions😒😒.. Bravo🙄', 'comment_time': datetime.datetime(2021, 7, 5, 18, 10, 9), 'comment_image': 'https://scontent.xx.fbcdn.net/m1/v/t6/An_UvxJXg9tdnLU3Y5qjPi0200MLilhzPXUgxzGjQzUMaNcmjdZA6anyrngvkdub33NZzZhd51fpCAEzNHFhko5aKRFP5fS1w_lKwYrzcNLupv27.png?ccb=10-5&oh=00_AT-6mlpruIIrE8jyyZEXu9qWo0AD9boOm8DGqnLwF3LEjw&oe=62CA89F9&_nc_sid=55e238', 'comment_reactors': [], 'comment_reactions': None, 'comment_reaction_count': None, 'replies': []}, {'comment_id': '10157878278157115', 'comment_url': 'https://facebook.com/10157878278157115', 'commenter_id': '100011862923862', 'commenter_url': 'https://facebook.com/may.ong.1485537?fref=nf&rc=p&__tn__=R', 'commenter_name': 'May Ong', 'commenter_meta': None, 'comment_text': 'To MOE\\n\\nI urge the ministry to send a directive to schools and campuses, to advise all students to stop talking in trains and buses. In the NSL, everyday, I see these polytechnic students yak so loudly and non-stop among themselves. At least, MOE can help to target this big group of youngsters who are totally ignorant on the risk to spread the virus within an enclosed environment.\\n\\nThe four languages constant announcement, big signage affixed on the cabin panels, mrt staff carrying placard walking through the cabin asking commuters Not to talk, but is all USELESS !', 'comment_time': datetime.datetime(2021, 7, 5, 18, 10, 9), 'comment_image': None, 'comment_reactors': [], 'comment_reactions': None, 'comment_reaction_count': None, 'replies': []}, {'comment_id': '10157877543882115', 'comment_url': 'https://facebook.com/10157877543882115', 'commenter_id': '100010819567825', 'commenter_url': 'https://facebook.com/Samuel.Ho87?fref=nf&rc=p&__tn__=R', 'commenter_name': 'Samuel Ho', 'commenter_meta': None, 'comment_text': 'We citizens have to make so many compromises thanks to this incompetent govt!\\n\\nLast year, they ignored the foreign worker dorms.\\n\\nThis year, they ignored calls to stop the boarders from reopening to those in high risk countries but they think they know best. Look what is happening now? We citizens have to bear the brunt of their foolishness again!', 'comment_time': datetime.datetime(2021, 7, 5, 18, 10, 9), 'comment_image': 'https://scontent.xx.fbcdn.net/m1/v/t6/An_UvxJXg9tdnLU3Y5qjPi0200MLilhzPXUgxzGjQzUMaNcmjdZA6anyrngvkdub33NZzZhd51fpCAEzNHFhko5aKRFP5fS1w_lKwYrzcNLupv27.png?ccb=10-5&oh=00_AT-6mlpruIIrE8jyyZEXu9qWo0AD9boOm8DGqnLwF3LEjw&oe=62CA89F9&_nc_sid=55e238', 'comment_reactors': [], 'comment_reactions': None, 'comment_reaction_count': None, 'replies': []}, {'comment_id': '10157877549862115', 'comment_url': 'https://facebook.com/10157877549862115', 'commenter_id': '100006708768335', 'commenter_url': 'https://facebook.com/profile.php?id=100006708768335&fref=nf&rc=p&__tn__=R', 'commenter_name': 'Rahinah Fiyan', 'commenter_meta': None, 'comment_text': \"It's okay. We still can hari raya inside TRAIN!! 🤣🤣\", 'comment_time': datetime.datetime(2021, 7, 5, 18, 10, 10), 'comment_image': 'https://scontent.xx.fbcdn.net/m1/v/t6/An_F9bJG7govfshSMBkvcRLcxT0jmiXVYKtr7lgH5AHgUrjjpZ1OD0xyxXYgf7arc0lWgCdrR_KN4Mg7RSN3Gm3W6Gg03N1tQ-ZXzVvFJ_KvvB4.png?ccb=10-5&oh=00_AT_twsUvVFAYMhv1YW13iB1hBp9j_kXBJeaj0wHLghwU3Q&oe=62CA5C67&_nc_sid=55e238', 'comment_reactors': [], 'comment_reactions': None, 'comment_reaction_count': None, 'replies': []}, {'comment_id': '10157877554737115', 'comment_url': 'https://facebook.com/10157877554737115', 'commenter_id': '100048399215121', 'commenter_url': 'https://facebook.com/ricky.budyle.7?fref=nf&rc=p&__tn__=R', 'commenter_name': 'Ricky Budyle', 'commenter_meta': None, 'comment_text': 'The idea of opening the borders is to bring in the workers and help improve the economy.\\nBut what is the economic and social cost of letting in the virus and having such controls?\\nIs it a case of costs outweigh the gains?', 'comment_time': datetime.datetime(2021, 7, 5, 18, 10, 10), 'comment_image': 'https://scontent.xx.fbcdn.net/m1/v/t6/An_UvxJXg9tdnLU3Y5qjPi0200MLilhzPXUgxzGjQzUMaNcmjdZA6anyrngvkdub33NZzZhd51fpCAEzNHFhko5aKRFP5fS1w_lKwYrzcNLupv27.png?ccb=10-5&oh=00_AT-6mlpruIIrE8jyyZEXu9qWo0AD9boOm8DGqnLwF3LEjw&oe=62CA89F9&_nc_sid=55e238', 'comment_reactors': [], 'comment_reactions': None, 'comment_reaction_count': None, 'replies': []}, {'comment_id': '10157877600827115', 'comment_url': 'https://facebook.com/10157877600827115', 'commenter_id': '100000523177639', 'commenter_url': 'https://facebook.com/aliyahyaraee?fref=nf&rc=p&__tn__=R', 'commenter_name': 'Ali Yahya Raee', 'commenter_meta': None, 'comment_text': 'Thanks for the refusal to ban flights from high risk countries earlier and now we have to celebrate Hari Raya under strict restrictions again.\\n\\nTERIMA KASIH!', 'comment_time': datetime.datetime(2021, 7, 5, 18, 10, 10), 'comment_image': 'https://scontent.xx.fbcdn.net/m1/v/t6/An_UvxJXg9tdnLU3Y5qjPi0200MLilhzPXUgxzGjQzUMaNcmjdZA6anyrngvkdub33NZzZhd51fpCAEzNHFhko5aKRFP5fS1w_lKwYrzcNLupv27.png?ccb=10-5&oh=00_AT-6mlpruIIrE8jyyZEXu9qWo0AD9boOm8DGqnLwF3LEjw&oe=62CA89F9&_nc_sid=55e238', 'comment_reactors': [], 'comment_reactions': None, 'comment_reaction_count': None, 'replies': []}, {'comment_id': '10157877554982115', 'comment_url': 'https://facebook.com/10157877554982115', 'commenter_id': '536925630', 'commenter_url': 'https://facebook.com/dongdongcheng?fref=nf&rc=p&__tn__=R', 'commenter_name': 'Loh Yew Cheng', 'commenter_meta': None, 'comment_text': 'Sheng shiong staff: got chance big bonus again!', 'comment_time': datetime.datetime(2021, 7, 5, 18, 10, 10), 'comment_image': 'https://scontent.xx.fbcdn.net/m1/v/t6/An_F9bJG7govfshSMBkvcRLcxT0jmiXVYKtr7lgH5AHgUrjjpZ1OD0xyxXYgf7arc0lWgCdrR_KN4Mg7RSN3Gm3W6Gg03N1tQ-ZXzVvFJ_KvvB4.png?ccb=10-5&oh=00_AT_twsUvVFAYMhv1YW13iB1hBp9j_kXBJeaj0wHLghwU3Q&oe=62CA5C67&_nc_sid=55e238', 'comment_reactors': [], 'comment_reactions': None, 'comment_reaction_count': None, 'replies': []}, {'comment_id': '10157877597097115', 'comment_url': 'https://facebook.com/10157877597097115', 'commenter_id': '649590556', 'commenter_url': 'https://facebook.com/mdfgrifter?fref=nf&rc=p&__tn__=R', 'commenter_name': 'Weiwen Loh', 'commenter_meta': None, 'comment_text': 'Seriously, govt took so long to close borders for short term nonessential travelers, and now all of us have to pay the price for this reluctance to impose travel restrictions! 😡', 'comment_time': datetime.datetime(2021, 7, 5, 18, 10, 10), 'comment_image': 'https://scontent.xx.fbcdn.net/m1/v/t6/An_UvxJXg9tdnLU3Y5qjPi0200MLilhzPXUgxzGjQzUMaNcmjdZA6anyrngvkdub33NZzZhd51fpCAEzNHFhko5aKRFP5fS1w_lKwYrzcNLupv27.png?ccb=10-5&oh=00_AT-6mlpruIIrE8jyyZEXu9qWo0AD9boOm8DGqnLwF3LEjw&oe=62CA89F9&_nc_sid=55e238', 'comment_reactors': [], 'comment_reactions': None, 'comment_reaction_count': None, 'replies': []}, {'comment_id': '10157877703842115', 'comment_url': 'https://facebook.com/10157877703842115', 'commenter_id': '100022062577632', 'commenter_url': 'https://facebook.com/profile.php?id=100022062577632&fref=nf&rc=p&__tn__=R', 'commenter_name': 'Ding Ding', 'commenter_meta': None, 'comment_text': 'In this scenarios, I would have to consider weighing the economic and spread of virus. Although it is not possible 100% to stop, I must at least slow down its transmissions.', 'comment_time': datetime.datetime(2021, 7, 5, 18, 10, 10), 'comment_image': 'https://scontent.xx.fbcdn.net/m1/v/t6/An_UvxJXg9tdnLU3Y5qjPi0200MLilhzPXUgxzGjQzUMaNcmjdZA6anyrngvkdub33NZzZhd51fpCAEzNHFhko5aKRFP5fS1w_lKwYrzcNLupv27.png?ccb=10-5&oh=00_AT-6mlpruIIrE8jyyZEXu9qWo0AD9boOm8DGqnLwF3LEjw&oe=62CA89F9&_nc_sid=55e238', 'comment_reactors': [], 'comment_reactions': None, 'comment_reaction_count': None, 'replies': []}, {'comment_id': '10157877560382115', 'comment_url': 'https://facebook.com/10157877560382115', 'commenter_id': '100007406231327', 'commenter_url': 'https://facebook.com/suhaimi.anwar.52?fref=nf&rc=p&__tn__=R', 'commenter_name': 'Mimi Fafa', 'commenter_meta': None, 'comment_text': 'Incompetent gahmen.. all they think is how to boost economy and get back what they give.. now open borders covid come back.. kuang kuang kuang.. congrats', 'comment_time': datetime.datetime(2021, 7, 5, 18, 10, 10), 'comment_image': 'https://scontent.xx.fbcdn.net/m1/v/t6/An_UvxJXg9tdnLU3Y5qjPi0200MLilhzPXUgxzGjQzUMaNcmjdZA6anyrngvkdub33NZzZhd51fpCAEzNHFhko5aKRFP5fS1w_lKwYrzcNLupv27.png?ccb=10-5&oh=00_AT-6mlpruIIrE8jyyZEXu9qWo0AD9boOm8DGqnLwF3LEjw&oe=62CA89F9&_nc_sid=55e238', 'comment_reactors': [], 'comment_reactions': None, 'comment_reaction_count': None, 'replies': []}, {'comment_id': '10157877635762115', 'comment_url': 'https://facebook.com/10157877635762115', 'commenter_id': '100050735760232', 'commenter_url': 'https://facebook.com/elijah.demsy.5?fref=nf&rc=p&__tn__=R', 'commenter_name': 'Elijah Demsy', 'commenter_meta': None, 'comment_text': \"As a Malaysian, I think it's a wise decision..Just do it for 3 weeks lor no means become like Malaysia then susah..\", 'comment_time': datetime.datetime(2021, 7, 5, 18, 10, 10), 'comment_image': 'https://scontent.xx.fbcdn.net/m1/v/t6/An_UvxJXg9tdnLU3Y5qjPi0200MLilhzPXUgxzGjQzUMaNcmjdZA6anyrngvkdub33NZzZhd51fpCAEzNHFhko5aKRFP5fS1w_lKwYrzcNLupv27.png?ccb=10-5&oh=00_AT-6mlpruIIrE8jyyZEXu9qWo0AD9boOm8DGqnLwF3LEjw&oe=62CA89F9&_nc_sid=55e238', 'comment_reactors': [], 'comment_reactions': None, 'comment_reaction_count': None, 'replies': []}, {'comment_id': '10157877575092115', 'comment_url': 'https://facebook.com/10157877575092115', 'commenter_id': '664351636', 'commenter_url': 'https://facebook.com/yomoley?fref=nf&rc=p&__tn__=R', 'commenter_name': 'Chong Yichen', 'commenter_meta': None, 'comment_text': 'I rather CB for 2 weeks now than CB 2 months or more if more cases arise', 'comment_time': datetime.datetime(2021, 7, 5, 18, 10, 10), 'comment_image': 'https://scontent.xx.fbcdn.net/m1/v/t6/An_UvxJXg9tdnLU3Y5qjPi0200MLilhzPXUgxzGjQzUMaNcmjdZA6anyrngvkdub33NZzZhd51fpCAEzNHFhko5aKRFP5fS1w_lKwYrzcNLupv27.png?ccb=10-5&oh=00_AT-6mlpruIIrE8jyyZEXu9qWo0AD9boOm8DGqnLwF3LEjw&oe=62CA89F9&_nc_sid=55e238', 'comment_reactors': [], 'comment_reactions': None, 'comment_reaction_count': None, 'replies': []}, {'comment_id': '10157877543852115', 'comment_url': 'https://facebook.com/10157877543852115', 'commenter_id': '100004412747760', 'commenter_url': 'https://facebook.com/profile.php?id=100004412747760&fref=nf&rc=p&__tn__=R', 'commenter_name': 'Abduraimov Azamat', 'commenter_meta': None, 'comment_text': 'Thanks ah gahmen. Another hari raya inside the mrt i guess', 'comment_time': datetime.datetime(2021, 7, 5, 18, 10, 10), 'comment_image': 'https://scontent.xx.fbcdn.net/m1/v/t6/An_UvxJXg9tdnLU3Y5qjPi0200MLilhzPXUgxzGjQzUMaNcmjdZA6anyrngvkdub33NZzZhd51fpCAEzNHFhko5aKRFP5fS1w_lKwYrzcNLupv27.png?ccb=10-5&oh=00_AT-6mlpruIIrE8jyyZEXu9qWo0AD9boOm8DGqnLwF3LEjw&oe=62CA89F9&_nc_sid=55e238', 'comment_reactors': [], 'comment_reactions': None, 'comment_reaction_count': None, 'replies': []}, {'comment_id': '10157879365212115', 'comment_url': 'https://facebook.com/10157879365212115', 'commenter_id': '100009549240111', 'commenter_url': 'https://facebook.com/profile.php?id=100009549240111&fref=nf&rc=p&__tn__=R', 'commenter_name': 'Kassim Azizan', 'commenter_meta': None, 'comment_text': 'How about Mrt and other public transport.', 'comment_time': datetime.datetime(2021, 7, 5, 18, 10, 10), 'comment_image': 'https://scontent.xx.fbcdn.net/m1/v/t6/An_UvxJXg9tdnLU3Y5qjPi0200MLilhzPXUgxzGjQzUMaNcmjdZA6anyrngvkdub33NZzZhd51fpCAEzNHFhko5aKRFP5fS1w_lKwYrzcNLupv27.png?ccb=10-5&oh=00_AT-6mlpruIIrE8jyyZEXu9qWo0AD9boOm8DGqnLwF3LEjw&oe=62CA89F9&_nc_sid=55e238', 'comment_reactors': [], 'comment_reactions': None, 'comment_reaction_count': None, 'replies': []}, {'comment_id': '10157877545907115', 'comment_url': 'https://facebook.com/10157877545907115', 'commenter_id': '100000747717810', 'commenter_url': 'https://facebook.com/raj.singh.1306?fref=nf&rc=p&__tn__=R', 'commenter_name': 'Raj Singh', 'commenter_meta': None, 'comment_text': 'MRT/BUS - 50% ? Please advise ….', 'comment_time': datetime.datetime(2021, 7, 5, 18, 10, 10), 'comment_image': 'https://scontent.xx.fbcdn.net/m1/v/t6/An_UvxJXg9tdnLU3Y5qjPi0200MLilhzPXUgxzGjQzUMaNcmjdZA6anyrngvkdub33NZzZhd51fpCAEzNHFhko5aKRFP5fS1w_lKwYrzcNLupv27.png?ccb=10-5&oh=00_AT-6mlpruIIrE8jyyZEXu9qWo0AD9boOm8DGqnLwF3LEjw&oe=62CA89F9&_nc_sid=55e238', 'comment_reactors': [], 'comment_reactions': None, 'comment_reaction_count': None, 'replies': []}, {'comment_id': '10157877548557115', 'comment_url': 'https://facebook.com/10157877548557115', 'commenter_id': '100000406219143', 'commenter_url': 'https://facebook.com/gazzagazie.gigsy?fref=nf&rc=p&__tn__=R', 'commenter_name': 'Amy Gazie', 'commenter_meta': None, 'comment_text': \"5 distinct visitors..?? Wow..! Raya is just around the corner..! Let's see after raya..! Will it be still 5 distinct visitors..??\", 'comment_time': datetime.datetime(2021, 7, 5, 18, 10, 10), 'comment_image': 'https://scontent.xx.fbcdn.net/m1/v/t6/An_UvxJXg9tdnLU3Y5qjPi0200MLilhzPXUgxzGjQzUMaNcmjdZA6anyrngvkdub33NZzZhd51fpCAEzNHFhko5aKRFP5fS1w_lKwYrzcNLupv27.png?ccb=10-5&oh=00_AT-6mlpruIIrE8jyyZEXu9qWo0AD9boOm8DGqnLwF3LEjw&oe=62CA89F9&_nc_sid=55e238', 'comment_reactors': [], 'comment_reactions': None, 'comment_reaction_count': None, 'replies': []}, {'comment_id': '10157877590892115', 'comment_url': 'https://facebook.com/10157877590892115', 'commenter_id': '100013647452448', 'commenter_url': 'https://facebook.com/profile.php?id=100013647452448&fref=nf&rc=p&__tn__=R', 'commenter_name': 'Desmond Cheng', 'commenter_meta': None, 'comment_text': 'Thank you very much for the restrictions again!\\nSo tell us what you going to do with al the flights coming in from India and all the High risk countries?\\nWe did our part, and we are tired of these obedience yet someone screwed up policies!', 'comment_time': datetime.datetime(2021, 7, 5, 18, 10, 10), 'comment_image': 'https://scontent.xx.fbcdn.net/m1/v/t6/An_UvxJXg9tdnLU3Y5qjPi0200MLilhzPXUgxzGjQzUMaNcmjdZA6anyrngvkdub33NZzZhd51fpCAEzNHFhko5aKRFP5fS1w_lKwYrzcNLupv27.png?ccb=10-5&oh=00_AT-6mlpruIIrE8jyyZEXu9qWo0AD9boOm8DGqnLwF3LEjw&oe=62CA89F9&_nc_sid=55e238', 'comment_reactors': [], 'comment_reactions': None, 'comment_reaction_count': None, 'replies': []}, {'comment_id': '10157877564977115', 'comment_url': 'https://facebook.com/10157877564977115', 'commenter_id': '100000487402377', 'commenter_url': 'https://facebook.com/AlbertGoh888?fref=nf&rc=p&__tn__=R', 'commenter_name': 'Albert Goh', 'commenter_meta': None, 'comment_text': 'Testing balloon.Now burst.Citizens had to lockdown again soon.', 'comment_time': datetime.datetime(2021, 7, 5, 18, 10, 10), 'comment_image': 'https://scontent.xx.fbcdn.net/m1/v/t6/An_UvxJXg9tdnLU3Y5qjPi0200MLilhzPXUgxzGjQzUMaNcmjdZA6anyrngvkdub33NZzZhd51fpCAEzNHFhko5aKRFP5fS1w_lKwYrzcNLupv27.png?ccb=10-5&oh=00_AT-6mlpruIIrE8jyyZEXu9qWo0AD9boOm8DGqnLwF3LEjw&oe=62CA89F9&_nc_sid=55e238', 'comment_reactors': [], 'comment_reactions': None, 'comment_reaction_count': None, 'replies': []}, {'comment_id': '10157877572797115', 'comment_url': 'https://facebook.com/10157877572797115', 'commenter_id': '100010615151766', 'commenter_url': 'https://facebook.com/ctrxmilxh.saleh?fref=nf&rc=p&__tn__=R', 'commenter_name': 'Eylaa Ariana', 'commenter_meta': None, 'comment_text': 'import to community cases. Good job well done 👏🏻👏🏻👏🏻', 'comment_time': datetime.datetime(2021, 7, 5, 18, 10, 10), 'comment_image': 'https://scontent.xx.fbcdn.net/m1/v/t6/An_UvxJXg9tdnLU3Y5qjPi0200MLilhzPXUgxzGjQzUMaNcmjdZA6anyrngvkdub33NZzZhd51fpCAEzNHFhko5aKRFP5fS1w_lKwYrzcNLupv27.png?ccb=10-5&oh=00_AT-6mlpruIIrE8jyyZEXu9qWo0AD9boOm8DGqnLwF3LEjw&oe=62CA89F9&_nc_sid=55e238', 'comment_reactors': [], 'comment_reactions': None, 'comment_reaction_count': None, 'replies': []}, {'comment_id': '10157877627722115', 'comment_url': 'https://facebook.com/10157877627722115', 'commenter_id': '555512161', 'commenter_url': 'https://facebook.com/BenjaminHongjieChew?fref=nf&rc=p&__tn__=R', 'commenter_name': 'Chew Hongjie', 'commenter_meta': None, 'comment_text': 'Not again. So my family of seven cannot visit my parents all at once, BUT, my parents can visit me and my family. The total number of people is the same either way, is it not?\\n\\nOtak kambing is the person who came up with this regulation.', 'comment_time': datetime.datetime(2021, 7, 5, 18, 10, 10), 'comment_image': 'https://scontent.xx.fbcdn.net/m1/v/t6/An_UvxJXg9tdnLU3Y5qjPi0200MLilhzPXUgxzGjQzUMaNcmjdZA6anyrngvkdub33NZzZhd51fpCAEzNHFhko5aKRFP5fS1w_lKwYrzcNLupv27.png?ccb=10-5&oh=00_AT-6mlpruIIrE8jyyZEXu9qWo0AD9boOm8DGqnLwF3LEjw&oe=62CA89F9&_nc_sid=55e238', 'comment_reactors': [], 'comment_reactions': None, 'comment_reaction_count': None, 'replies': []}, {'comment_id': '10157877552162115', 'comment_url': 'https://facebook.com/10157877552162115', 'commenter_id': '100062170952242', 'commenter_url': 'https://facebook.com/reese.lee.35175633?fref=nf&rc=p&__tn__=R', 'commenter_name': 'Reese Lee', 'commenter_meta': None, 'comment_text': 'Now become citizens fault again! U can bring forward all the stupid measures but cannot ban the flight from high risks countries earlier. What nonsense is this ? Are u trying to cover your guilt for the clusters?', 'comment_time': datetime.datetime(2021, 7, 5, 18, 10, 10), 'comment_image': 'https://scontent.xx.fbcdn.net/m1/v/t6/An_UvxJXg9tdnLU3Y5qjPi0200MLilhzPXUgxzGjQzUMaNcmjdZA6anyrngvkdub33NZzZhd51fpCAEzNHFhko5aKRFP5fS1w_lKwYrzcNLupv27.png?ccb=10-5&oh=00_AT-6mlpruIIrE8jyyZEXu9qWo0AD9boOm8DGqnLwF3LEjw&oe=62CA89F9&_nc_sid=55e238', 'comment_reactors': [], 'comment_reactions': None, 'comment_reaction_count': None, 'replies': []}, {'comment_id': '10157877550397115', 'comment_url': 'https://facebook.com/10157877550397115', 'commenter_id': '100000116594588', 'commenter_url': 'https://facebook.com/wilkieongks?fref=nf&rc=p&__tn__=R', 'commenter_name': 'Wilkie Ong', 'commenter_meta': None, 'comment_text': 'Can bring back CB 2.0 better, people have gone through it and know what to expect. And they are ready too.', 'comment_time': datetime.datetime(2021, 7, 5, 18, 10, 10), 'comment_image': 'https://scontent.xx.fbcdn.net/m1/v/t6/An_UvxJXg9tdnLU3Y5qjPi0200MLilhzPXUgxzGjQzUMaNcmjdZA6anyrngvkdub33NZzZhd51fpCAEzNHFhko5aKRFP5fS1w_lKwYrzcNLupv27.png?ccb=10-5&oh=00_AT-6mlpruIIrE8jyyZEXu9qWo0AD9boOm8DGqnLwF3LEjw&oe=62CA89F9&_nc_sid=55e238', 'comment_reactors': [], 'comment_reactions': None, 'comment_reaction_count': None, 'replies': []}, {'comment_id': '10157877566087115', 'comment_url': 'https://facebook.com/10157877566087115', 'commenter_id': '1686725688', 'commenter_url': 'https://facebook.com/stanley.yew.3?fref=nf&rc=p&__tn__=R', 'commenter_name': 'Stanley Yew', 'commenter_meta': None, 'comment_text': 'Pls close the borders! As Singaporeans we are very obedient in doing what was told but if the government keep on opening up the borders to allow foreigners to come in then we are being persecuted with the tightening measures. It’s unfair to us totally!', 'comment_time': datetime.datetime(2021, 7, 5, 18, 10, 10), 'comment_image': 'https://scontent.xx.fbcdn.net/m1/v/t6/An_UvxJXg9tdnLU3Y5qjPi0200MLilhzPXUgxzGjQzUMaNcmjdZA6anyrngvkdub33NZzZhd51fpCAEzNHFhko5aKRFP5fS1w_lKwYrzcNLupv27.png?ccb=10-5&oh=00_AT-6mlpruIIrE8jyyZEXu9qWo0AD9boOm8DGqnLwF3LEjw&oe=62CA89F9&_nc_sid=55e238', 'comment_reactors': [], 'comment_reactions': None, 'comment_reaction_count': None, 'replies': []}, {'comment_id': '10157877803087115', 'comment_url': 'https://facebook.com/10157877803087115', 'commenter_id': '678182676', 'commenter_url': 'https://facebook.com/jasmin.chen.3304?fref=nf&rc=p&__tn__=R', 'commenter_name': 'Jasmin Chen', 'commenter_meta': None, 'comment_text': 'Many companies already reverted... this is a few days late', 'comment_time': datetime.datetime(2021, 7, 5, 18, 10, 10), 'comment_image': None, 'comment_reactors': [], 'comment_reactions': None, 'comment_reaction_count': None, 'replies': []}, {'comment_id': '10157877599227115', 'comment_url': 'https://facebook.com/10157877599227115', 'commenter_id': '100001086893927', 'commenter_url': 'https://facebook.com/yiling.yeo.7?fref=nf&rc=p&__tn__=R', 'commenter_name': 'Yiling Yeo', 'commenter_meta': None, 'comment_text': 'It will never happen in some company.', 'comment_time': datetime.datetime(2021, 7, 5, 18, 10, 10), 'comment_image': 'https://scontent.xx.fbcdn.net/m1/v/t6/An_UvxJXg9tdnLU3Y5qjPi0200MLilhzPXUgxzGjQzUMaNcmjdZA6anyrngvkdub33NZzZhd51fpCAEzNHFhko5aKRFP5fS1w_lKwYrzcNLupv27.png?ccb=10-5&oh=00_AT-6mlpruIIrE8jyyZEXu9qWo0AD9boOm8DGqnLwF3LEjw&oe=62CA89F9&_nc_sid=55e238', 'comment_reactors': [], 'comment_reactions': None, 'comment_reaction_count': None, 'replies': []}, {'comment_id': '10157877663722115', 'comment_url': 'https://facebook.com/10157877663722115', 'commenter_id': '831310226', 'commenter_url': 'https://facebook.com/ameenathu.fathima.7?fref=nf&rc=p&__tn__=R', 'commenter_name': 'Ameenathu Fathima', 'commenter_meta': None, 'comment_text': 'Just when we thought things were looking up, and now Hari Raya has to be small group size again. 2 years already.', 'comment_time': datetime.datetime(2021, 7, 5, 18, 10, 10), 'comment_image': None, 'comment_reactors': [], 'comment_reactions': None, 'comment_reaction_count': None, 'replies': []}, {'comment_id': '10157877730867115', 'comment_url': 'https://facebook.com/10157877730867115', 'commenter_id': '1513881003', 'commenter_url': 'https://facebook.com/profile.php?id=1513881003&fref=nf&rc=p&__tn__=R', 'commenter_name': 'Jamal Jantan', 'commenter_meta': None, 'comment_text': 'In the first place tackle the root cause!!\\nNever managed the root cause, no points of putting measures every now and then. Stupid stupid... stop the import cases.', 'comment_time': datetime.datetime(2021, 7, 5, 18, 10, 10), 'comment_image': 'https://scontent.xx.fbcdn.net/m1/v/t6/An_UvxJXg9tdnLU3Y5qjPi0200MLilhzPXUgxzGjQzUMaNcmjdZA6anyrngvkdub33NZzZhd51fpCAEzNHFhko5aKRFP5fS1w_lKwYrzcNLupv27.png?ccb=10-5&oh=00_AT-6mlpruIIrE8jyyZEXu9qWo0AD9boOm8DGqnLwF3LEjw&oe=62CA89F9&_nc_sid=55e238', 'comment_reactors': [], 'comment_reactions': None, 'comment_reaction_count': None, 'replies': []}, {'comment_id': '10157877551152115', 'comment_url': 'https://facebook.com/10157877551152115', 'commenter_id': '567698329', 'commenter_url': 'https://facebook.com/bryan.teo?fref=nf&rc=p&__tn__=R', 'commenter_name': 'Bryan Teo', 'commenter_meta': None, 'comment_text': 'We’re supposed to understand what a big pow wow is supposed to mean 😂', 'comment_time': datetime.datetime(2021, 7, 5, 18, 10, 10), 'comment_image': 'https://scontent.xx.fbcdn.net/m1/v/t6/An_UvxJXg9tdnLU3Y5qjPi0200MLilhzPXUgxzGjQzUMaNcmjdZA6anyrngvkdub33NZzZhd51fpCAEzNHFhko5aKRFP5fS1w_lKwYrzcNLupv27.png?ccb=10-5&oh=00_AT-6mlpruIIrE8jyyZEXu9qWo0AD9boOm8DGqnLwF3LEjw&oe=62CA89F9&_nc_sid=55e238', 'comment_reactors': [], 'comment_reactions': None, 'comment_reaction_count': None, 'replies': []}, {'comment_id': '10157877894227115', 'comment_url': 'https://facebook.com/10157877894227115', 'commenter_id': '100012036199492', 'commenter_url': 'https://facebook.com/helmy.abdullah.773?fref=nf&rc=p&__tn__=R', 'commenter_name': 'Helmy Abdullah', 'commenter_meta': None, 'comment_text': 'This Covid, or sarcastically in our local Iban lingo in Sarawak, \" Kumbit\" , really punishes us all to no end!', 'comment_time': datetime.datetime(2021, 7, 5, 18, 10, 10), 'comment_image': None, 'comment_reactors': [], 'comment_reactions': None, 'comment_reaction_count': None, 'replies': []}, {'comment_id': '10157877826487115', 'comment_url': 'https://facebook.com/10157877826487115', 'commenter_id': '631641060', 'commenter_url': 'https://facebook.com/fang.dewang?fref=nf&rc=p&__tn__=R', 'commenter_name': 'Fang Dewang', 'commenter_meta': None, 'comment_text': \"They just told us what to do and what not to do. Pervious lock down we have work together to bring down the infection.\\n\\nThey didn't tell us what is the caused of The spike but using excuse that we need Foreign workers here which I agree but they didn't told us the caused of the spike which we all believe it not cause by the FW.. We just want them to say it out!!\", 'comment_time': datetime.datetime(2021, 7, 5, 18, 10, 10), 'comment_image': None, 'comment_reactors': [], 'comment_reactions': None, 'comment_reaction_count': None, 'replies': []}, {'comment_id': '10157879871747115', 'comment_url': 'https://facebook.com/10157879871747115', 'commenter_id': '735558307', 'commenter_url': 'https://facebook.com/lynthea.ng?fref=nf&rc=p&__tn__=R', 'commenter_name': 'Gelene Ng', 'commenter_meta': None, 'comment_text': 'My department need 100% to be back in office even I had gp letter she still want me to go back and mention gp letter cannot take into consideration, Gp not a doctor?', 'comment_time': datetime.datetime(2021, 7, 5, 18, 10, 10), 'comment_image': None, 'comment_reactors': [], 'comment_reactions': None, 'comment_reaction_count': None, 'replies': []}, {'comment_id': '10157877564542115', 'comment_url': 'https://facebook.com/10157877564542115', 'commenter_id': '689407853', 'commenter_url': 'https://facebook.com/damien.lim.796?fref=nf&rc=p&__tn__=R', 'commenter_name': 'Damien Lim', 'commenter_meta': None, 'comment_text': 'We have done OUR part! All 5 million of us.', 'comment_time': datetime.datetime(2021, 7, 5, 18, 10, 10), 'comment_image': 'https://scontent.xx.fbcdn.net/m1/v/t6/An_UvxJXg9tdnLU3Y5qjPi0200MLilhzPXUgxzGjQzUMaNcmjdZA6anyrngvkdub33NZzZhd51fpCAEzNHFhko5aKRFP5fS1w_lKwYrzcNLupv27.png?ccb=10-5&oh=00_AT-6mlpruIIrE8jyyZEXu9qWo0AD9boOm8DGqnLwF3LEjw&oe=62CA89F9&_nc_sid=55e238', 'comment_reactors': [], 'comment_reactions': None, 'comment_reaction_count': None, 'replies': []}, {'comment_id': '10157879476942115', 'comment_url': 'https://facebook.com/10157879476942115', 'commenter_id': '100013077152686', 'commenter_url': 'https://facebook.com/bakar.abu.7564?fref=nf&rc=p&__tn__=R', 'commenter_name': 'Bakar Abu', 'commenter_meta': None, 'comment_text': 'MOM should check all office at raffles place and shenton way also.', 'comment_time': datetime.datetime(2021, 7, 5, 18, 10, 10), 'comment_image': 'https://scontent.xx.fbcdn.net/m1/v/t6/An_UvxJXg9tdnLU3Y5qjPi0200MLilhzPXUgxzGjQzUMaNcmjdZA6anyrngvkdub33NZzZhd51fpCAEzNHFhko5aKRFP5fS1w_lKwYrzcNLupv27.png?ccb=10-5&oh=00_AT-6mlpruIIrE8jyyZEXu9qWo0AD9boOm8DGqnLwF3LEjw&oe=62CA89F9&_nc_sid=55e238', 'comment_reactors': [], 'comment_reactions': None, 'comment_reaction_count': None, 'replies': []}, {'comment_id': '10157877549932115', 'comment_url': 'https://facebook.com/10157877549932115', 'commenter_id': '1284087557', 'commenter_url': 'https://facebook.com/muhammad.akiak?fref=nf&rc=p&__tn__=R', 'commenter_name': 'Muhammad Yusman Bin Akiak', 'commenter_meta': None, 'comment_text': 'Just live with it covit is here to stay a bit longer.', 'comment_time': datetime.datetime(2021, 7, 5, 18, 10, 11), 'comment_image': None, 'comment_reactors': [], 'comment_reactions': None, 'comment_reaction_count': None, 'replies': []}, {'comment_id': '10157877680347115', 'comment_url': 'https://facebook.com/10157877680347115', 'commenter_id': '1649484903', 'commenter_url': 'https://facebook.com/mdhrmnNrdn?fref=nf&rc=p&__tn__=R', 'commenter_name': 'محمد هيرمان نوردين', 'commenter_meta': None, 'comment_text': 'Ministry of Health, Singapore.\\nSo how about Public Transport like Buses & Train? Where is the social distance measure?', 'comment_time': datetime.datetime(2021, 7, 5, 18, 10, 11), 'comment_image': 'https://scontent.xx.fbcdn.net/m1/v/t6/An_UvxJXg9tdnLU3Y5qjPi0200MLilhzPXUgxzGjQzUMaNcmjdZA6anyrngvkdub33NZzZhd51fpCAEzNHFhko5aKRFP5fS1w_lKwYrzcNLupv27.png?ccb=10-5&oh=00_AT-6mlpruIIrE8jyyZEXu9qWo0AD9boOm8DGqnLwF3LEjw&oe=62CA89F9&_nc_sid=55e238', 'comment_reactors': [], 'comment_reactions': None, 'comment_reaction_count': None, 'replies': []}, {'comment_id': '10157880210372115', 'comment_url': 'https://facebook.com/10157880210372115', 'commenter_id': '550122325', 'commenter_url': 'https://facebook.com/gregory.beh?fref=nf&rc=p&__tn__=R', 'commenter_name': 'Gregory Beh', 'commenter_meta': None, 'comment_text': 'Everything for Dim Sum in Kowloon.', 'comment_time': datetime.datetime(2021, 7, 5, 18, 10, 11), 'comment_image': None, 'comment_reactors': [], 'comment_reactions': None, 'comment_reaction_count': None, 'replies': []}, {'comment_id': '10157877567282115', 'comment_url': 'https://facebook.com/10157877567282115', 'commenter_id': '602846208', 'commenter_url': 'https://facebook.com/changhann?fref=nf&rc=p&__tn__=R', 'commenter_name': 'Goh Chang Hann', 'commenter_meta': None, 'comment_text': 'Never look back but we are now. Ideally it’s always move forward…', 'comment_time': datetime.datetime(2021, 7, 5, 18, 10, 11), 'comment_image': None, 'comment_reactors': [], 'comment_reactions': None, 'comment_reaction_count': None, 'replies': []}, {'comment_id': '10157878097137115', 'comment_url': 'https://facebook.com/10157878097137115', 'commenter_id': '100002452332202', 'commenter_url': 'https://facebook.com/ho.boon.7?fref=nf&rc=p&__tn__=R', 'commenter_name': 'Ho Boon', 'commenter_meta': None, 'comment_text': 'Why dun quarantine those affected India at Istana', 'comment_time': datetime.datetime(2021, 7, 5, 18, 10, 11), 'comment_image': None, 'comment_reactors': [], 'comment_reactions': None, 'comment_reaction_count': None, 'replies': []}, {'comment_id': '10157878928657115', 'comment_url': 'https://facebook.com/10157878928657115', 'commenter_id': '100050370303871', 'commenter_url': 'https://facebook.com/vincent.teo.1447?fref=nf&rc=p&__tn__=R', 'commenter_name': 'Valiant Revane', 'commenter_meta': None, 'comment_text': 'This is not phase 2. There is a distinct difference in phase 2 and current workplace requirements. Phase 2 requires individual who can wfh to spend 50% time wfh. Now dont have leh. Just 50% limit at workplace.\\n\\nAnd wfh is still not default', 'comment_time': datetime.datetime(2021, 7, 5, 18, 10, 11), 'comment_image': None, 'comment_reactors': [], 'comment_reactions': None, 'comment_reaction_count': None, 'replies': []}, {'comment_id': '10157877550942115', 'comment_url': 'https://facebook.com/10157877550942115', 'commenter_id': '534217829', 'commenter_url': 'https://facebook.com/Williamlimtc?fref=nf&rc=p&__tn__=R', 'commenter_name': 'William Lim', 'commenter_meta': None, 'comment_text': 'Wonder what about MRT and Public Transport?', 'comment_time': datetime.datetime(2021, 7, 5, 18, 10, 11), 'comment_image': None, 'comment_reactors': [], 'comment_reactions': None, 'comment_reaction_count': None, 'replies': []}, {'comment_id': '10157877746542115', 'comment_url': 'https://facebook.com/10157877746542115', 'commenter_id': '564846529', 'commenter_url': 'https://facebook.com/DanielZhang227?fref=nf&rc=p&__tn__=R', 'commenter_name': 'Daniel Zhang', 'commenter_meta': None, 'comment_text': \"It's akin to building the best vault at home to hide your money but leaving the front door open.\", 'comment_time': datetime.datetime(2021, 7, 5, 18, 10, 11), 'comment_image': None, 'comment_reactors': [], 'comment_reactions': None, 'comment_reaction_count': None, 'replies': []}, {'comment_id': '10157877718517115', 'comment_url': 'https://facebook.com/10157877718517115', 'commenter_id': '100002541981374', 'commenter_url': 'https://facebook.com/krishna.kana.3?fref=nf&rc=p&__tn__=R', 'commenter_name': 'Krishna Prasad', 'commenter_meta': None, 'comment_text': 'How about train?\\nLess than 50%', 'comment_time': datetime.datetime(2021, 7, 5, 18, 10, 11), 'comment_image': None, 'comment_reactors': [], 'comment_reactions': None, 'comment_reaction_count': None, 'replies': []}, {'comment_id': '10157877545722115', 'comment_url': 'https://facebook.com/10157877545722115', 'commenter_id': '545660138', 'commenter_url': 'https://facebook.com/cheryl.tan.7146?fref=nf&rc=p&__tn__=R', 'commenter_name': 'Cheryl Tan', 'commenter_meta': None, 'comment_text': 'Wfh? My company no announcement. So how?', 'comment_time': datetime.datetime(2021, 7, 5, 18, 10, 11), 'comment_image': None, 'comment_reactors': [], 'comment_reactions': None, 'comment_reaction_count': None, 'replies': []}, {'comment_id': '10157877549757115', 'comment_url': 'https://facebook.com/10157877549757115', 'commenter_id': '100024692956171', 'commenter_url': 'https://facebook.com/kently.chow.9?fref=nf&rc=p&__tn__=R', 'commenter_name': 'Kently Chow', 'commenter_meta': None, 'comment_text': 'Might as well go back to phrase 1🙄', 'comment_time': datetime.datetime(2021, 7, 5, 18, 10, 11), 'comment_image': 'https://scontent.xx.fbcdn.net/m1/v/t6/An_UvxJXg9tdnLU3Y5qjPi0200MLilhzPXUgxzGjQzUMaNcmjdZA6anyrngvkdub33NZzZhd51fpCAEzNHFhko5aKRFP5fS1w_lKwYrzcNLupv27.png?ccb=10-5&oh=00_AT-6mlpruIIrE8jyyZEXu9qWo0AD9boOm8DGqnLwF3LEjw&oe=62CA89F9&_nc_sid=55e238', 'comment_reactors': [], 'comment_reactions': None, 'comment_reaction_count': None, 'replies': []}, {'comment_id': '10157881889882115', 'comment_url': 'https://facebook.com/10157881889882115', 'commenter_id': '100053487570713', 'commenter_url': 'https://facebook.com/malik.vin.353?fref=nf&rc=p&__tn__=R', 'commenter_name': 'Malik Vin', 'commenter_meta': None, 'comment_text': 'Can the car park capacity at Vivo, Ikea and Raffles City be reduced by 50% too ? Especially over the weekends.', 'comment_time': datetime.datetime(2021, 7, 5, 18, 10, 11), 'comment_image': None, 'comment_reactors': [], 'comment_reactions': None, 'comment_reaction_count': None, 'replies': []}, {'comment_id': '10157877651537115', 'comment_url': 'https://facebook.com/10157877651537115', 'commenter_id': '1708798079', 'commenter_url': 'https://facebook.com/Prettiemz?fref=nf&rc=p&__tn__=R', 'commenter_name': 'Pretty Emz', 'commenter_meta': None, 'comment_text': 'Change the system of office work make it \"stay at home job\" i dont need to see my boss i just need my laptop and make it done😂', 'comment_time': datetime.datetime(2021, 7, 5, 18, 10, 11), 'comment_image': None, 'comment_reactors': [], 'comment_reactions': None, 'comment_reaction_count': None, 'replies': []}, {'comment_id': '10157877711562115', 'comment_url': 'https://facebook.com/10157877711562115', 'commenter_id': '100024784992029', 'commenter_url': 'https://facebook.com/kapo.sing?fref=nf&rc=p&__tn__=R', 'commenter_name': 'Kapo Sing', 'commenter_meta': None, 'comment_text': 'BTO last for one month only. Never guard down too early.', 'comment_time': datetime.datetime(2021, 7, 5, 18, 10, 11), 'comment_image': None, 'comment_reactors': [], 'comment_reactions': None, 'comment_reaction_count': None, 'replies': []}, {'comment_id': '10157878595162115', 'comment_url': 'https://facebook.com/10157878595162115', 'commenter_id': '1439239404', 'commenter_url': 'https://facebook.com/leong.k.weng.5?fref=nf&rc=p&__tn__=R', 'commenter_name': 'Leong Kum Weng', 'commenter_meta': None, 'comment_text': 'This TTSH situation is like a drama showing the police are armed and surrounded other police station for suspect in that station.\\nOr it is time for the medical association to opt-in Prof. Paul to the joint taskforce?', 'comment_time': datetime.datetime(2021, 7, 5, 18, 10, 11), 'comment_image': None, 'comment_reactors': [], 'comment_reactions': None, 'comment_reaction_count': None, 'replies': []}, {'comment_id': '10157878829887115', 'comment_url': 'https://facebook.com/10157878829887115', 'commenter_id': '100027331309414', 'commenter_url': 'https://facebook.com/hockchye.chan.9?fref=nf&rc=p&__tn__=R', 'commenter_name': 'Leslie Chan', 'commenter_meta': None, 'comment_text': 'they are overconfident in the first place. too hasty in letting people in, they should have tighter control over the foreign workers. it goes to show that our over reliance on foreign workers is a double edged sword. it is time to restructure the economy and reduce our reliance. the old ways of faster, cheaper and better do not work anymore.', 'comment_time': datetime.datetime(2021, 7, 5, 18, 10, 11), 'comment_image': None, 'comment_reactors': [], 'comment_reactions': None, 'comment_reaction_count': None, 'replies': []}, {'comment_id': '10157878108547115', 'comment_url': 'https://facebook.com/10157878108547115', 'commenter_id': '100022954154028', 'commenter_url': 'https://facebook.com/bangsa.johor.7583?fref=nf&rc=p&__tn__=R', 'commenter_name': 'Ramli Bin Sarip', 'commenter_meta': None, 'comment_text': \"Don't worry. After raya we change to Phase 3 again.\", 'comment_time': datetime.datetime(2021, 7, 5, 18, 10, 11), 'comment_image': None, 'comment_reactors': [], 'comment_reactions': None, 'comment_reaction_count': None, 'replies': []}, {'comment_id': '10157877567742115', 'comment_url': 'https://facebook.com/10157877567742115', 'commenter_id': '706197829', 'commenter_url': 'https://facebook.com/kimliong.tan?fref=nf&rc=p&__tn__=R', 'commenter_name': 'Chen Jin Long', 'commenter_meta': None, 'comment_text': 'Phase 3 minus Phase 1 equals?', 'comment_time': datetime.datetime(2021, 7, 5, 18, 10, 11), 'comment_image': 'https://scontent.xx.fbcdn.net/m1/v/t6/An_UvxJXg9tdnLU3Y5qjPi0200MLilhzPXUgxzGjQzUMaNcmjdZA6anyrngvkdub33NZzZhd51fpCAEzNHFhko5aKRFP5fS1w_lKwYrzcNLupv27.png?ccb=10-5&oh=00_AT-6mlpruIIrE8jyyZEXu9qWo0AD9boOm8DGqnLwF3LEjw&oe=62CA89F9&_nc_sid=55e238', 'comment_reactors': [], 'comment_reactions': None, 'comment_reaction_count': None, 'replies': []}, {'comment_id': '10157877607382115', 'comment_url': 'https://facebook.com/10157877607382115', 'commenter_id': '615736676', 'commenter_url': 'https://facebook.com/skyluke.1018?fref=nf&rc=p&__tn__=R', 'commenter_name': 'Luke Lee', 'commenter_meta': None, 'comment_text': 'Working from home?', 'comment_time': datetime.datetime(2021, 7, 5, 18, 10, 11), 'comment_image': 'https://scontent.xx.fbcdn.net/m1/v/t6/An_UvxJXg9tdnLU3Y5qjPi0200MLilhzPXUgxzGjQzUMaNcmjdZA6anyrngvkdub33NZzZhd51fpCAEzNHFhko5aKRFP5fS1w_lKwYrzcNLupv27.png?ccb=10-5&oh=00_AT-6mlpruIIrE8jyyZEXu9qWo0AD9boOm8DGqnLwF3LEjw&oe=62CA89F9&_nc_sid=55e238', 'comment_reactors': [], 'comment_reactions': None, 'comment_reaction_count': None, 'replies': []}, {'comment_id': '10157879955367115', 'comment_url': 'https://facebook.com/10157879955367115', 'commenter_id': '100022633537355', 'commenter_url': 'https://facebook.com/mc.lee.9619934?fref=nf&rc=p&__tn__=R', 'commenter_name': 'MC Lee', 'commenter_meta': None, 'comment_text': 'Play safe with cautious approach. Lockdown prevention is the best policy. Control the outbreak.', 'comment_time': datetime.datetime(2021, 7, 5, 18, 10, 12), 'comment_image': None, 'comment_reactors': [], 'comment_reactions': None, 'comment_reaction_count': None, 'replies': []}, {'comment_id': '10157877591867115', 'comment_url': 'https://facebook.com/10157877591867115', 'commenter_id': '100027484847580', 'commenter_url': 'https://facebook.com/amru.akim.9?fref=nf&rc=p&__tn__=R', 'commenter_name': 'Hadi Daus Ayra', 'commenter_meta': None, 'comment_text': 'Again double standard, hari raya coming all the nonsense starts', 'comment_time': datetime.datetime(2021, 7, 5, 18, 10, 12), 'comment_image': 'https://scontent.xx.fbcdn.net/m1/v/t6/An_UvxJXg9tdnLU3Y5qjPi0200MLilhzPXUgxzGjQzUMaNcmjdZA6anyrngvkdub33NZzZhd51fpCAEzNHFhko5aKRFP5fS1w_lKwYrzcNLupv27.png?ccb=10-5&oh=00_AT-6mlpruIIrE8jyyZEXu9qWo0AD9boOm8DGqnLwF3LEjw&oe=62CA89F9&_nc_sid=55e238', 'comment_reactors': [], 'comment_reactions': None, 'comment_reaction_count': None, 'replies': []}, {'comment_id': '10157877580222115', 'comment_url': 'https://facebook.com/10157877580222115', 'commenter_id': '100007685766858', 'commenter_url': 'https://facebook.com/yon.choi.946?fref=nf&rc=p&__tn__=R', 'commenter_name': 'Yon Choi', 'commenter_meta': None, 'comment_text': 'Import more ... Still never close border', 'comment_time': datetime.datetime(2021, 7, 5, 18, 10, 12), 'comment_image': 'https://scontent.xx.fbcdn.net/m1/v/t6/An_UvxJXg9tdnLU3Y5qjPi0200MLilhzPXUgxzGjQzUMaNcmjdZA6anyrngvkdub33NZzZhd51fpCAEzNHFhko5aKRFP5fS1w_lKwYrzcNLupv27.png?ccb=10-5&oh=00_AT-6mlpruIIrE8jyyZEXu9qWo0AD9boOm8DGqnLwF3LEjw&oe=62CA89F9&_nc_sid=55e238', 'comment_reactors': [], 'comment_reactions': None, 'comment_reaction_count': None, 'replies': []}, {'comment_id': '10157877552577115', 'comment_url': 'https://facebook.com/10157877552577115', 'commenter_id': '1044986713', 'commenter_url': 'https://facebook.com/jaques.yew?fref=nf&rc=p&__tn__=R', 'commenter_name': 'Jaques Yew', 'commenter_meta': None, 'comment_text': 'Pls close the borders for 2 weeks too.', 'comment_time': datetime.datetime(2021, 7, 5, 18, 10, 12), 'comment_image': 'https://scontent.xx.fbcdn.net/m1/v/t6/An_UvxJXg9tdnLU3Y5qjPi0200MLilhzPXUgxzGjQzUMaNcmjdZA6anyrngvkdub33NZzZhd51fpCAEzNHFhko5aKRFP5fS1w_lKwYrzcNLupv27.png?ccb=10-5&oh=00_AT-6mlpruIIrE8jyyZEXu9qWo0AD9boOm8DGqnLwF3LEjw&oe=62CA89F9&_nc_sid=55e238', 'comment_reactors': [], 'comment_reactions': None, 'comment_reaction_count': None, 'replies': []}, {'comment_id': '10157877593967115', 'comment_url': 'https://facebook.com/10157877593967115', 'commenter_id': '100001616662536', 'commenter_url': 'https://facebook.com/tan.yeekai.5?fref=nf&rc=p&__tn__=R', 'commenter_name': 'Tan Yee Kai', 'commenter_meta': None, 'comment_text': 'Maybe phrase 2 will be back soon.Taken your dinner', 'comment_time': datetime.datetime(2021, 7, 5, 18, 10, 12), 'comment_image': None, 'comment_reactors': [], 'comment_reactions': None, 'comment_reaction_count': None, 'replies': []}, {'comment_id': '10157878012327115', 'comment_url': 'https://facebook.com/10157878012327115', 'commenter_id': '100007765904270', 'commenter_url': 'https://facebook.com/alia.katne.7?fref=nf&rc=p&__tn__=R', 'commenter_name': 'Alia Katne', 'commenter_meta': None, 'comment_text': 'Hotel side le?', 'comment_time': datetime.datetime(2021, 7, 5, 18, 10, 12), 'comment_image': None, 'comment_reactors': [], 'comment_reactions': None, 'comment_reaction_count': None, 'replies': []}, {'comment_id': '10157877618397115', 'comment_url': 'https://facebook.com/10157877618397115', 'commenter_id': '764371527', 'commenter_url': 'https://facebook.com/aan.alshariff?fref=nf&rc=p&__tn__=R', 'commenter_name': 'Aan Al-Shariff', 'commenter_meta': None, 'comment_text': '5 pax ok i am ok with the rules but even we r now 8pax every weekend saw all maids and bangla worker happily lepak in grps.. so this is the problem maid & bangla not even related can hold hands... pls la all this foreign wrker to control..\\n\\nSocial distance officer pls visit lucky plaza, city plaza all this hot spot area...', 'comment_time': datetime.datetime(2021, 7, 5, 18, 10, 12), 'comment_image': None, 'comment_reactors': [], 'comment_reactions': None, 'comment_reaction_count': None, 'replies': []}, {'comment_id': '10157877545812115', 'comment_url': 'https://facebook.com/10157877545812115', 'commenter_id': '100006425546077', 'commenter_url': 'https://facebook.com/ptan.thock?fref=nf&rc=p&__tn__=R', 'commenter_name': 'Peter Tan', 'commenter_meta': None, 'comment_text': 'How to know whether people observe follow the ruling?In one block of flats over 100 families at least the higher the flat the more units who knows how many break the gathering??Depe\\nnd on whistle blowers?If they are paid in $ maybe that might interest some blowers if not who wants to do it>?Many prefer minding their own business.', 'comment_time': datetime.datetime(2021, 7, 5, 18, 10, 12), 'comment_image': 'https://scontent.xx.fbcdn.net/m1/v/t6/An_UvxJXg9tdnLU3Y5qjPi0200MLilhzPXUgxzGjQzUMaNcmjdZA6anyrngvkdub33NZzZhd51fpCAEzNHFhko5aKRFP5fS1w_lKwYrzcNLupv27.png?ccb=10-5&oh=00_AT-6mlpruIIrE8jyyZEXu9qWo0AD9boOm8DGqnLwF3LEjw&oe=62CA89F9&_nc_sid=55e238', 'comment_reactors': [], 'comment_reactions': None, 'comment_reaction_count': None, 'replies': []}, {'comment_id': '10157877646057115', 'comment_url': 'https://facebook.com/10157877646057115', 'commenter_id': '100004453089302', 'commenter_url': 'https://facebook.com/caleb.cheah.3?fref=nf&rc=p&__tn__=R', 'commenter_name': 'Caleb Cheah', 'commenter_meta': None, 'comment_text': 'punish us but openly import covid cases?', 'comment_time': datetime.datetime(2021, 7, 5, 18, 10, 12), 'comment_image': 'https://scontent.xx.fbcdn.net/m1/v/t6/An_UvxJXg9tdnLU3Y5qjPi0200MLilhzPXUgxzGjQzUMaNcmjdZA6anyrngvkdub33NZzZhd51fpCAEzNHFhko5aKRFP5fS1w_lKwYrzcNLupv27.png?ccb=10-5&oh=00_AT-6mlpruIIrE8jyyZEXu9qWo0AD9boOm8DGqnLwF3LEjw&oe=62CA89F9&_nc_sid=55e238', 'comment_reactors': [], 'comment_reactions': None, 'comment_reaction_count': None, 'replies': []}, {'comment_id': '10157877555122115', 'comment_url': 'https://facebook.com/10157877555122115', 'commenter_id': '100013778197215', 'commenter_url': 'https://facebook.com/profile.php?id=100013778197215&fref=nf&rc=p&__tn__=R', 'commenter_name': 'Ah Keow', 'commenter_meta': None, 'comment_text': 'Nothing new as expected', 'comment_time': datetime.datetime(2021, 7, 5, 18, 10, 12), 'comment_image': 'https://scontent.xx.fbcdn.net/m1/v/t6/An_UvxJXg9tdnLU3Y5qjPi0200MLilhzPXUgxzGjQzUMaNcmjdZA6anyrngvkdub33NZzZhd51fpCAEzNHFhko5aKRFP5fS1w_lKwYrzcNLupv27.png?ccb=10-5&oh=00_AT-6mlpruIIrE8jyyZEXu9qWo0AD9boOm8DGqnLwF3LEjw&oe=62CA89F9&_nc_sid=55e238', 'comment_reactors': [], 'comment_reactions': None, 'comment_reaction_count': None, 'replies': []}, {'comment_id': '10157877598267115', 'comment_url': 'https://facebook.com/10157877598267115', 'commenter_id': '100001428406835', 'commenter_url': 'https://facebook.com/jamaliahrosdi?fref=nf&rc=p&__tn__=R', 'commenter_name': 'Jamaliah Rosdi', 'commenter_meta': None, 'comment_text': 'TOO MUCH OF IMPORT,still thinking of OPEN BORDER,jus forget it Nothing new it when Raya is approaching....\\n.......\\nDouble standard when Raya is approaching.\\nUsed ur brain G......', 'comment_time': datetime.datetime(2021, 7, 5, 18, 10, 12), 'comment_image': 'https://scontent.xx.fbcdn.net/m1/v/t6/An_UvxJXg9tdnLU3Y5qjPi0200MLilhzPXUgxzGjQzUMaNcmjdZA6anyrngvkdub33NZzZhd51fpCAEzNHFhko5aKRFP5fS1w_lKwYrzcNLupv27.png?ccb=10-5&oh=00_AT-6mlpruIIrE8jyyZEXu9qWo0AD9boOm8DGqnLwF3LEjw&oe=62CA89F9&_nc_sid=55e238', 'comment_reactors': [], 'comment_reactions': None, 'comment_reaction_count': None, 'replies': []}, {'comment_id': '10157879570537115', 'comment_url': 'https://facebook.com/10157879570537115', 'commenter_id': '100000200053183', 'commenter_url': 'https://facebook.com/jeric.lee1?fref=nf&rc=p&__tn__=R', 'commenter_name': 'Jeric Lee', 'commenter_meta': None, 'comment_text': 'its not airbone , its the plate and spoon. just use disposable', 'comment_time': datetime.datetime(2021, 7, 5, 18, 10, 13), 'comment_image': None, 'comment_reactors': [], 'comment_reactions': None, 'comment_reaction_count': None, 'replies': []}, {'comment_id': '10157877549697115', 'comment_url': 'https://facebook.com/10157877549697115', 'commenter_id': '100013273158890', 'commenter_url': 'https://facebook.com/eyang110789?fref=nf&rc=p&__tn__=R', 'commenter_name': 'Eyang CT', 'commenter_meta': None, 'comment_text': 'Back to cb better', 'comment_time': datetime.datetime(2021, 7, 5, 18, 10, 13), 'comment_image': 'https://scontent.xx.fbcdn.net/m1/v/t6/An_UvxJXg9tdnLU3Y5qjPi0200MLilhzPXUgxzGjQzUMaNcmjdZA6anyrngvkdub33NZzZhd51fpCAEzNHFhko5aKRFP5fS1w_lKwYrzcNLupv27.png?ccb=10-5&oh=00_AT-6mlpruIIrE8jyyZEXu9qWo0AD9boOm8DGqnLwF3LEjw&oe=62CA89F9&_nc_sid=55e238', 'comment_reactors': [], 'comment_reactions': None, 'comment_reaction_count': None, 'replies': []}, {'comment_id': '10157877590812115', 'comment_url': 'https://facebook.com/10157877590812115', 'commenter_id': '833125243', 'commenter_url': 'https://facebook.com/stickyfingerss?fref=nf&rc=p&__tn__=R', 'commenter_name': 'Nicholas Lee', 'commenter_meta': None, 'comment_text': 'Love watching all the arm chair politicians 👌', 'comment_time': datetime.datetime(2021, 7, 5, 18, 10, 13), 'comment_image': 'https://scontent.xx.fbcdn.net/m1/v/t6/An-OzaYGRs8HJMUUdL-Q9pzzUe-6dYQYH0YuulfJGzClIwZB6ubbGwhtChGS8FxnChgEmifrcrhalKyw7ubZeQmjvur00_4Bm3UKlJBnXJyqwKsR.png?ccb=10-5&oh=00_AT-JvcATuMZ5IbwNUcI-gGqDZMtIDVNibEqz_vfH5wqPjQ&oe=62CA306B&_nc_sid=55e238', 'comment_reactors': [], 'comment_reactions': None, 'comment_reaction_count': None, 'replies': []}, {'comment_id': '10157877615957115', 'comment_url': 'https://facebook.com/10157877615957115', 'commenter_id': '100004122669998', 'commenter_url': 'https://facebook.com/iswandi.wan.98?fref=nf&rc=p&__tn__=R', 'commenter_name': 'Iswandi Wan', 'commenter_meta': None, 'comment_text': 'Luckily our raya is 30 days of celebration 🙃 …', 'comment_time': datetime.datetime(2021, 7, 5, 18, 10, 13), 'comment_image': None, 'comment_reactors': [], 'comment_reactions': None, 'comment_reaction_count': None, 'replies': []}, {'comment_id': '10157877587742115', 'comment_url': 'https://facebook.com/10157877587742115', 'commenter_id': '100007150591918', 'commenter_url': 'https://facebook.com/mike.lin.31105674?fref=nf&rc=p&__tn__=R', 'commenter_name': 'Mike Lin', 'commenter_meta': None, 'comment_text': 'What to expect from the Expert', 'comment_time': datetime.datetime(2021, 7, 5, 18, 10, 13), 'comment_image': None, 'comment_reactors': [], 'comment_reactions': None, 'comment_reaction_count': None, 'replies': []}, {'comment_id': '10157877574457115', 'comment_url': 'https://facebook.com/10157877574457115', 'commenter_id': '563871811', 'commenter_url': 'https://facebook.com/steven.kiu.1?fref=nf&rc=p&__tn__=R', 'commenter_name': 'Steven Kiu', 'commenter_meta': None, 'comment_text': 'Next week will be good traffic.', 'comment_time': datetime.datetime(2021, 7, 5, 18, 10, 13), 'comment_image': 'https://scontent.xx.fbcdn.net/m1/v/t6/An_UvxJXg9tdnLU3Y5qjPi0200MLilhzPXUgxzGjQzUMaNcmjdZA6anyrngvkdub33NZzZhd51fpCAEzNHFhko5aKRFP5fS1w_lKwYrzcNLupv27.png?ccb=10-5&oh=00_AT-6mlpruIIrE8jyyZEXu9qWo0AD9boOm8DGqnLwF3LEjw&oe=62CA89F9&_nc_sid=55e238', 'comment_reactors': [], 'comment_reactions': None, 'comment_reaction_count': None, 'replies': []}, {'comment_id': '10157877550472115', 'comment_url': 'https://facebook.com/10157877550472115', 'commenter_id': '628092682', 'commenter_url': 'https://facebook.com/siaboonleong?fref=nf&rc=p&__tn__=R', 'commenter_name': 'Sia Boonleong', 'commenter_meta': None, 'comment_text': 'Aiya no use la. Lockdown one more time get it over and done with', 'comment_time': datetime.datetime(2021, 7, 5, 18, 10, 13), 'comment_image': 'https://scontent.xx.fbcdn.net/m1/v/t6/An_UvxJXg9tdnLU3Y5qjPi0200MLilhzPXUgxzGjQzUMaNcmjdZA6anyrngvkdub33NZzZhd51fpCAEzNHFhko5aKRFP5fS1w_lKwYrzcNLupv27.png?ccb=10-5&oh=00_AT-6mlpruIIrE8jyyZEXu9qWo0AD9boOm8DGqnLwF3LEjw&oe=62CA89F9&_nc_sid=55e238', 'comment_reactors': [], 'comment_reactions': None, 'comment_reaction_count': None, 'replies': []}, {'comment_id': '10157877717962115', 'comment_url': 'https://facebook.com/10157877717962115', 'commenter_id': '1650280015', 'commenter_url': 'https://facebook.com/ices.ma?fref=nf&rc=p&__tn__=R', 'commenter_name': '妍源榮权', 'commenter_meta': None, 'comment_text': 'School should Close too.', 'comment_time': datetime.datetime(2021, 7, 5, 18, 10, 13), 'comment_image': None, 'comment_reactors': [], 'comment_reactions': None, 'comment_reaction_count': None, 'replies': []}, {'comment_id': '10157877655812115', 'comment_url': 'https://facebook.com/10157877655812115', 'commenter_id': '658638888', 'commenter_url': 'https://facebook.com/musttwora?fref=nf&rc=p&__tn__=R', 'commenter_name': 'Adawfisyaris Shamas', 'commenter_meta': None, 'comment_text': 'Wow! Ur raya u can gather2 eh! Our raya cannot gather2! Racism eh!', 'comment_time': datetime.datetime(2021, 7, 5, 18, 10, 13), 'comment_image': 'https://scontent.xx.fbcdn.net/m1/v/t6/An_UvxJXg9tdnLU3Y5qjPi0200MLilhzPXUgxzGjQzUMaNcmjdZA6anyrngvkdub33NZzZhd51fpCAEzNHFhko5aKRFP5fS1w_lKwYrzcNLupv27.png?ccb=10-5&oh=00_AT-6mlpruIIrE8jyyZEXu9qWo0AD9boOm8DGqnLwF3LEjw&oe=62CA89F9&_nc_sid=55e238', 'comment_reactors': [], 'comment_reactions': None, 'comment_reaction_count': None, 'replies': []}, {'comment_id': '10157877547262115', 'comment_url': 'https://facebook.com/10157877547262115', 'commenter_id': '644981493', 'commenter_url': 'https://facebook.com/huahero?fref=nf&rc=p&__tn__=R', 'commenter_name': 'KS HHero Kang', 'commenter_meta': None, 'comment_text': 'This time is not the citizens fault now we have to bear the consequences', 'comment_time': datetime.datetime(2021, 7, 5, 18, 10, 13), 'comment_image': 'https://scontent.xx.fbcdn.net/m1/v/t6/An_UvxJXg9tdnLU3Y5qjPi0200MLilhzPXUgxzGjQzUMaNcmjdZA6anyrngvkdub33NZzZhd51fpCAEzNHFhko5aKRFP5fS1w_lKwYrzcNLupv27.png?ccb=10-5&oh=00_AT-6mlpruIIrE8jyyZEXu9qWo0AD9boOm8DGqnLwF3LEjw&oe=62CA89F9&_nc_sid=55e238', 'comment_reactors': [], 'comment_reactions': None, 'comment_reaction_count': None, 'replies': []}, {'comment_id': '10157877558782115', 'comment_url': 'https://facebook.com/10157877558782115', 'commenter_id': '680133518', 'commenter_url': 'https://facebook.com/karoyen?fref=nf&rc=p&__tn__=R', 'commenter_name': 'Karen Chng', 'commenter_meta': None, 'comment_text': 'Good lah....together\\nwe work hard to clean up but u just wanna be top range to world No. 4 for Indian virus. 😾', 'comment_time': datetime.datetime(2021, 7, 5, 18, 10, 13), 'comment_image': 'https://scontent.xx.fbcdn.net/m1/v/t6/An_UvxJXg9tdnLU3Y5qjPi0200MLilhzPXUgxzGjQzUMaNcmjdZA6anyrngvkdub33NZzZhd51fpCAEzNHFhko5aKRFP5fS1w_lKwYrzcNLupv27.png?ccb=10-5&oh=00_AT-6mlpruIIrE8jyyZEXu9qWo0AD9boOm8DGqnLwF3LEjw&oe=62CA89F9&_nc_sid=55e238', 'comment_reactors': [], 'comment_reactions': None, 'comment_reaction_count': None, 'replies': []}, {'comment_id': '10157877590347115', 'comment_url': 'https://facebook.com/10157877590347115', 'commenter_id': '100040218204132', 'commenter_url': 'https://facebook.com/ramelan.yusop?fref=nf&rc=p&__tn__=R', 'commenter_name': 'Ramelan Yusop', 'commenter_meta': None, 'comment_text': 'Garmen fault for opening borders.', 'comment_time': datetime.datetime(2021, 7, 5, 18, 10, 13), 'comment_image': 'https://scontent.xx.fbcdn.net/m1/v/t6/An_UvxJXg9tdnLU3Y5qjPi0200MLilhzPXUgxzGjQzUMaNcmjdZA6anyrngvkdub33NZzZhd51fpCAEzNHFhko5aKRFP5fS1w_lKwYrzcNLupv27.png?ccb=10-5&oh=00_AT-6mlpruIIrE8jyyZEXu9qWo0AD9boOm8DGqnLwF3LEjw&oe=62CA89F9&_nc_sid=55e238', 'comment_reactors': [], 'comment_reactions': None, 'comment_reaction_count': None, 'replies': []}, {'comment_id': '10157877607807115', 'comment_url': 'https://facebook.com/10157877607807115', 'commenter_id': '100056863224961', 'commenter_url': 'https://facebook.com/ziming.huang.186?fref=nf&rc=p&__tn__=R', 'commenter_name': 'Ziming Huang', 'commenter_meta': None, 'comment_text': 'More WFH for us then.. 😝', 'comment_time': datetime.datetime(2021, 7, 5, 18, 10, 13), 'comment_image': 'https://scontent.xx.fbcdn.net/m1/v/t6/An_UvxJXg9tdnLU3Y5qjPi0200MLilhzPXUgxzGjQzUMaNcmjdZA6anyrngvkdub33NZzZhd51fpCAEzNHFhko5aKRFP5fS1w_lKwYrzcNLupv27.png?ccb=10-5&oh=00_AT-6mlpruIIrE8jyyZEXu9qWo0AD9boOm8DGqnLwF3LEjw&oe=62CA89F9&_nc_sid=55e238', 'comment_reactors': [], 'comment_reactions': None, 'comment_reaction_count': None, 'replies': []}, {'comment_id': '10157877944442115', 'comment_url': 'https://facebook.com/10157877944442115', 'commenter_id': '1574447499', 'commenter_url': 'https://facebook.com/Anak2Adam?fref=nf&rc=p&__tn__=R', 'commenter_name': 'Muhammad Noh Adam', 'commenter_meta': None, 'comment_text': 'Student please study at home.. Please dont study at Cafe not a safe and good place to study..', 'comment_time': datetime.datetime(2021, 7, 5, 18, 10, 13), 'comment_image': 'https://scontent.xx.fbcdn.net/m1/v/t6/An_UvxJXg9tdnLU3Y5qjPi0200MLilhzPXUgxzGjQzUMaNcmjdZA6anyrngvkdub33NZzZhd51fpCAEzNHFhko5aKRFP5fS1w_lKwYrzcNLupv27.png?ccb=10-5&oh=00_AT-6mlpruIIrE8jyyZEXu9qWo0AD9boOm8DGqnLwF3LEjw&oe=62CA89F9&_nc_sid=55e238', 'comment_reactors': [], 'comment_reactions': None, 'comment_reaction_count': None, 'replies': []}, {'comment_id': '10157877558697115', 'comment_url': 'https://facebook.com/10157877558697115', 'commenter_id': '100065454157989', 'commenter_url': 'https://facebook.com/profile.php?id=100065454157989&fref=nf&rc=p&__tn__=R', 'commenter_name': '刘一南', 'commenter_meta': None, 'comment_text': 'Calvin Cheng you happy now???', 'comment_time': datetime.datetime(2021, 7, 5, 18, 10, 13), 'comment_image': 'https://scontent.xx.fbcdn.net/m1/v/t6/An_UvxJXg9tdnLU3Y5qjPi0200MLilhzPXUgxzGjQzUMaNcmjdZA6anyrngvkdub33NZzZhd51fpCAEzNHFhko5aKRFP5fS1w_lKwYrzcNLupv27.png?ccb=10-5&oh=00_AT-6mlpruIIrE8jyyZEXu9qWo0AD9boOm8DGqnLwF3LEjw&oe=62CA89F9&_nc_sid=55e238', 'comment_reactors': [], 'comment_reactions': None, 'comment_reaction_count': None, 'replies': []}, {'comment_id': '10157877595702115', 'comment_url': 'https://facebook.com/10157877595702115', 'commenter_id': '1444931969', 'commenter_url': 'https://facebook.com/bafana.chaduri?fref=nf&rc=p&__tn__=R', 'commenter_name': 'Gen Luna', 'commenter_meta': None, 'comment_text': 'This is not the citizens. The management of sin city likes to open up borders and invite imported cases to sin city to sin more', 'comment_time': datetime.datetime(2021, 7, 5, 18, 10, 13), 'comment_image': None, 'comment_reactors': [], 'comment_reactions': None, 'comment_reaction_count': None, 'replies': []}, {'comment_id': '10157877543902115', 'comment_url': 'https://facebook.com/10157877543902115', 'commenter_id': '546029208', 'commenter_url': 'https://facebook.com/mark.yap.33?fref=nf&rc=p&__tn__=R', 'commenter_name': 'Mark Yap', 'commenter_meta': None, 'comment_text': 'If wanna impost restrictions for the well being of public, should be immediate and not a chosen date. Waiting for cluster to expand ah? 🤦🏻\\u200d♂️', 'comment_time': datetime.datetime(2021, 7, 5, 18, 10, 13), 'comment_image': 'https://scontent.xx.fbcdn.net/m1/v/t6/An_UvxJXg9tdnLU3Y5qjPi0200MLilhzPXUgxzGjQzUMaNcmjdZA6anyrngvkdub33NZzZhd51fpCAEzNHFhko5aKRFP5fS1w_lKwYrzcNLupv27.png?ccb=10-5&oh=00_AT-6mlpruIIrE8jyyZEXu9qWo0AD9boOm8DGqnLwF3LEjw&oe=62CA89F9&_nc_sid=55e238', 'comment_reactors': [], 'comment_reactions': None, 'comment_reaction_count': None, 'replies': []}, {'comment_id': '10157877561047115', 'comment_url': 'https://facebook.com/10157877561047115', 'commenter_id': '100027001546580', 'commenter_url': 'https://facebook.com/andrew.neo.5832?fref=nf&rc=p&__tn__=R', 'commenter_name': 'Andrew Neo', 'commenter_meta': None, 'comment_text': 'In 2020, we had the highest death rates in almost a century and the highest accident rates at worksites despite 2 months of circuit breaker. Was it due to Covid temporary measures or just a coincidence? Think about it...', 'comment_time': datetime.datetime(2021, 7, 5, 18, 10, 13), 'comment_image': 'https://scontent.xx.fbcdn.net/m1/v/t6/An_UvxJXg9tdnLU3Y5qjPi0200MLilhzPXUgxzGjQzUMaNcmjdZA6anyrngvkdub33NZzZhd51fpCAEzNHFhko5aKRFP5fS1w_lKwYrzcNLupv27.png?ccb=10-5&oh=00_AT-6mlpruIIrE8jyyZEXu9qWo0AD9boOm8DGqnLwF3LEjw&oe=62CA89F9&_nc_sid=55e238', 'comment_reactors': [], 'comment_reactions': None, 'comment_reaction_count': None, 'replies': []}, {'comment_id': '10157877577207115', 'comment_url': 'https://facebook.com/10157877577207115', 'commenter_id': '575292002', 'commenter_url': 'https://facebook.com/david.ludlam.5?fref=nf&rc=p&__tn__=R', 'commenter_name': 'David Ludlam', 'commenter_meta': None, 'comment_text': 'The asteroid is long overdue.', 'comment_time': datetime.datetime(2021, 7, 5, 18, 10, 13), 'comment_image': None, 'comment_reactors': [], 'comment_reactions': None, 'comment_reaction_count': None, 'replies': []}, {'comment_id': '10157877646177115', 'comment_url': 'https://facebook.com/10157877646177115', 'commenter_id': '1086040528', 'commenter_url': 'https://facebook.com/faisalwah?fref=nf&rc=p&__tn__=R', 'commenter_name': 'Faizal Bin Ibrahim', 'commenter_meta': None, 'comment_text': 'Public transport no reduce meh..or they buat bodoh only.', 'comment_time': datetime.datetime(2021, 7, 5, 18, 10, 13), 'comment_image': 'https://scontent.xx.fbcdn.net/m1/v/t6/An_UvxJXg9tdnLU3Y5qjPi0200MLilhzPXUgxzGjQzUMaNcmjdZA6anyrngvkdub33NZzZhd51fpCAEzNHFhko5aKRFP5fS1w_lKwYrzcNLupv27.png?ccb=10-5&oh=00_AT-6mlpruIIrE8jyyZEXu9qWo0AD9boOm8DGqnLwF3LEjw&oe=62CA89F9&_nc_sid=55e238', 'comment_reactors': [], 'comment_reactions': None, 'comment_reaction_count': None, 'replies': []}, {'comment_id': '10157877582887115', 'comment_url': 'https://facebook.com/10157877582887115', 'commenter_id': '100000909064354', 'commenter_url': 'https://facebook.com/winter.mabel?fref=nf&rc=p&__tn__=R', 'commenter_name': 'Mabel Wee', 'commenter_meta': None, 'comment_text': 'We were good and peaceful until they keep importing those people in!', 'comment_time': datetime.datetime(2021, 7, 5, 18, 10, 13), 'comment_image': 'https://scontent.xx.fbcdn.net/m1/v/t6/An_UvxJXg9tdnLU3Y5qjPi0200MLilhzPXUgxzGjQzUMaNcmjdZA6anyrngvkdub33NZzZhd51fpCAEzNHFhko5aKRFP5fS1w_lKwYrzcNLupv27.png?ccb=10-5&oh=00_AT-6mlpruIIrE8jyyZEXu9qWo0AD9boOm8DGqnLwF3LEjw&oe=62CA89F9&_nc_sid=55e238', 'comment_reactors': [], 'comment_reactions': None, 'comment_reaction_count': None, 'replies': []}, {'comment_id': '10157877565662115', 'comment_url': 'https://facebook.com/10157877565662115', 'commenter_id': '100007748911791', 'commenter_url': 'https://facebook.com/inah.othman.7?fref=nf&rc=p&__tn__=R', 'commenter_name': 'Inah Othman', 'commenter_meta': None, 'comment_text': \"It's festive season coming so close house 🏠 hmm\", 'comment_time': datetime.datetime(2021, 7, 5, 18, 10, 13), 'comment_image': 'https://scontent.xx.fbcdn.net/m1/v/t6/An-0mG6nK_Uk-eBw_Z5hXaQPl2Il-GAtgNisMF_CPi6qvu85Lx2-5PalMJvS7fIbuodHct0V3tJrvSxzau9mOcNxqVhoiy8lxxQ9edz-6r6_o9YroQ.png?ccb=10-5&oh=00_AT_Lrr3uHWzjzD0UJZ53cCkR3aDO5TcJfhTWEc5VZp6xJw&oe=62C94304&_nc_sid=55e238', 'comment_reactors': [], 'comment_reactions': None, 'comment_reaction_count': None, 'replies': []}, {'comment_id': '10157877692242115', 'comment_url': 'https://facebook.com/10157877692242115', 'commenter_id': '100023665193785', 'commenter_url': 'https://facebook.com/alex.seetoh.3?fref=nf&rc=p&__tn__=R', 'commenter_name': 'Alexander Seetoh', 'commenter_meta': None, 'comment_text': 'Phase 2 loh....', 'comment_time': datetime.datetime(2021, 7, 5, 18, 10, 13), 'comment_image': None, 'comment_reactors': [], 'comment_reactions': None, 'comment_reaction_count': None, 'replies': []}, {'comment_id': '10157877766272115', 'comment_url': 'https://facebook.com/10157877766272115', 'commenter_id': '100000540001689', 'commenter_url': 'https://facebook.com/lycan8176?fref=nf&rc=p&__tn__=R', 'commenter_name': 'Noor Mohamed', 'commenter_meta': None, 'comment_text': 'Mrt pack bus pack now talk about phase 2 really no brains', 'comment_time': datetime.datetime(2021, 7, 5, 18, 10, 13), 'comment_image': 'https://scontent.xx.fbcdn.net/m1/v/t6/An_UvxJXg9tdnLU3Y5qjPi0200MLilhzPXUgxzGjQzUMaNcmjdZA6anyrngvkdub33NZzZhd51fpCAEzNHFhko5aKRFP5fS1w_lKwYrzcNLupv27.png?ccb=10-5&oh=00_AT-6mlpruIIrE8jyyZEXu9qWo0AD9boOm8DGqnLwF3LEjw&oe=62CA89F9&_nc_sid=55e238', 'comment_reactors': [], 'comment_reactions': None, 'comment_reaction_count': None, 'replies': []}, {'comment_id': '10157879047847115', 'comment_url': 'https://facebook.com/10157879047847115', 'commenter_id': '1119942931', 'commenter_url': 'https://facebook.com/reez24?fref=nf&rc=p&__tn__=R', 'commenter_name': 'Aidil Hareez', 'commenter_meta': None, 'comment_text': 'Let’s celebrate hari raya at mrt and buses! Yay!', 'comment_time': datetime.datetime(2021, 7, 5, 18, 10, 13), 'comment_image': None, 'comment_reactors': [], 'comment_reactions': None, 'comment_reaction_count': None, 'replies': []}, {'comment_id': '10157877546427115', 'comment_url': 'https://facebook.com/10157877546427115', 'commenter_id': '1575685065', 'commenter_url': 'https://facebook.com/tang40?fref=nf&rc=p&__tn__=R', 'commenter_name': 'Tang NG', 'commenter_meta': None, 'comment_text': 'Mother’s Day on 9 May', 'comment_time': datetime.datetime(2021, 7, 5, 18, 10, 13), 'comment_image': None, 'comment_reactors': [], 'comment_reactions': None, 'comment_reaction_count': None, 'replies': []}, {'comment_id': '10157877561792115', 'comment_url': 'https://facebook.com/10157877561792115', 'commenter_id': '1569343169', 'commenter_url': 'https://facebook.com/sim.kokweng?fref=nf&rc=p&__tn__=R', 'commenter_name': 'Cen Guorong', 'commenter_meta': None, 'comment_text': 'Well done. This is an expected situation when you keep importing viruses into the country from Great Mother India. Keep importing so that we can have circuit breaker again. Love it so much', 'comment_time': datetime.datetime(2021, 7, 5, 18, 10, 13), 'comment_image': 'https://scontent.xx.fbcdn.net/m1/v/t6/An_UvxJXg9tdnLU3Y5qjPi0200MLilhzPXUgxzGjQzUMaNcmjdZA6anyrngvkdub33NZzZhd51fpCAEzNHFhko5aKRFP5fS1w_lKwYrzcNLupv27.png?ccb=10-5&oh=00_AT-6mlpruIIrE8jyyZEXu9qWo0AD9boOm8DGqnLwF3LEjw&oe=62CA89F9&_nc_sid=55e238', 'comment_reactors': [], 'comment_reactions': None, 'comment_reaction_count': None, 'replies': []}, {'comment_id': '10157877550237115', 'comment_url': 'https://facebook.com/10157877550237115', 'commenter_id': '100001890705429', 'commenter_url': 'https://facebook.com/jonas.wee.7?fref=nf&rc=p&__tn__=R', 'commenter_name': 'Jonas Wee', 'commenter_meta': None, 'comment_text': 'Import more...m', 'comment_time': datetime.datetime(2021, 7, 5, 18, 10, 13), 'comment_image': None, 'comment_reactors': [], 'comment_reactions': None, 'comment_reaction_count': None, 'replies': []}, {'comment_id': '10157877567832115', 'comment_url': 'https://facebook.com/10157877567832115', 'commenter_id': '100002136320765', 'commenter_url': 'https://facebook.com/jeffrey.goh.77?fref=nf&rc=p&__tn__=R', 'commenter_name': 'Jeffrey Goh', 'commenter_meta': None, 'comment_text': 'As usual, we are to be blamed for this.😡😡😡😡', 'comment_time': datetime.datetime(2021, 7, 5, 18, 10, 13), 'comment_image': 'https://scontent.xx.fbcdn.net/m1/v/t6/An_UvxJXg9tdnLU3Y5qjPi0200MLilhzPXUgxzGjQzUMaNcmjdZA6anyrngvkdub33NZzZhd51fpCAEzNHFhko5aKRFP5fS1w_lKwYrzcNLupv27.png?ccb=10-5&oh=00_AT-6mlpruIIrE8jyyZEXu9qWo0AD9boOm8DGqnLwF3LEjw&oe=62CA89F9&_nc_sid=55e238', 'comment_reactors': [], 'comment_reactions': None, 'comment_reaction_count': None, 'replies': []}, {'comment_id': '10157878907582115', 'comment_url': 'https://facebook.com/10157878907582115', 'commenter_id': '100002405518507', 'commenter_url': 'https://facebook.com/ydnacchua.auhc?fref=nf&rc=p&__tn__=R', 'commenter_name': 'Ydnac Chua Auhc', 'commenter_meta': None, 'comment_text': '🤔How to check? 🤔 We r back every weekday from P2! Hahahaaa... 😅😂🤣 who knows', 'comment_time': datetime.datetime(2021, 7, 5, 18, 10, 13), 'comment_image': None, 'comment_reactors': [], 'comment_reactions': None, 'comment_reaction_count': None, 'replies': []}, {'comment_id': '10157877820832115', 'comment_url': 'https://facebook.com/10157877820832115', 'commenter_id': '100042315650424', 'commenter_url': 'https://facebook.com/amy.tanruyun.7?fref=nf&rc=p&__tn__=R', 'commenter_name': 'Amy Lee', 'commenter_meta': None, 'comment_text': 'I think the first step is to stop all flights from India. Even PRs & their dependents and singaporeans shouldn’t be able to return to sg now.. You can’t trust every single person to adhere to SHN strictly.', 'comment_time': datetime.datetime(2021, 7, 5, 18, 10, 14), 'comment_image': 'https://scontent.xx.fbcdn.net/m1/v/t6/An_UvxJXg9tdnLU3Y5qjPi0200MLilhzPXUgxzGjQzUMaNcmjdZA6anyrngvkdub33NZzZhd51fpCAEzNHFhko5aKRFP5fS1w_lKwYrzcNLupv27.png?ccb=10-5&oh=00_AT-6mlpruIIrE8jyyZEXu9qWo0AD9boOm8DGqnLwF3LEjw&oe=62CA89F9&_nc_sid=55e238', 'comment_reactors': [], 'comment_reactions': None, 'comment_reaction_count': None, 'replies': []}, {'comment_id': '10157879440187115', 'comment_url': 'https://facebook.com/10157879440187115', 'commenter_id': '536596230', 'commenter_url': 'https://facebook.com/parody99?fref=nf&rc=p&__tn__=R', 'commenter_name': 'Band Lim', 'commenter_meta': None, 'comment_text': 'Phase 2 part 2: Covid strikes back', 'comment_time': datetime.datetime(2021, 7, 5, 18, 10, 14), 'comment_image': None, 'comment_reactors': [], 'comment_reactions': None, 'comment_reaction_count': None, 'replies': []}, {'comment_id': '10157877566502115', 'comment_url': 'https://facebook.com/10157877566502115', 'commenter_id': '100014883030164', 'commenter_url': 'https://facebook.com/pakkar.lov?fref=nf&rc=p&__tn__=R', 'commenter_name': 'Kar Lov', 'commenter_meta': None, 'comment_text': 'ST caption clear n early 2 understand.\\nWhereas CNA 1 is sucks. Ya. Wow', 'comment_time': datetime.datetime(2021, 7, 5, 18, 10, 14), 'comment_image': None, 'comment_reactors': [], 'comment_reactions': None, 'comment_reaction_count': None, 'replies': []}, {'comment_id': '10157878005662115', 'comment_url': 'https://facebook.com/10157878005662115', 'commenter_id': '100014407186221', 'commenter_url': 'https://facebook.com/profile.php?id=100014407186221&fref=nf&rc=p&__tn__=R', 'commenter_name': 'Sandy Wong', 'commenter_meta': None, 'comment_text': 'Remember to say thanks to our MMTF!', 'comment_time': datetime.datetime(2021, 7, 5, 18, 10, 14), 'comment_image': None, 'comment_reactors': [], 'comment_reactions': None, 'comment_reaction_count': None, 'replies': []}, {'comment_id': '10157877736642115', 'comment_url': 'https://facebook.com/10157877736642115', 'commenter_id': '100058138145771', 'commenter_url': 'https://facebook.com/profile.php?id=100058138145771&fref=nf&rc=p&__tn__=R', 'commenter_name': 'Jeremy Chan', 'commenter_meta': None, 'comment_text': '唔湯唔水。', 'comment_time': datetime.datetime(2021, 7, 5, 18, 10, 14), 'comment_image': None, 'comment_reactors': [], 'comment_reactions': None, 'comment_reaction_count': None, 'replies': []}, {'comment_id': '10157877803322115', 'comment_url': 'https://facebook.com/10157877803322115', 'commenter_id': '587685836', 'commenter_url': 'https://facebook.com/oliver.hee.81?fref=nf&rc=p&__tn__=R', 'commenter_name': 'OLi Ver', 'commenter_meta': None, 'comment_text': 'How about eateries?', 'comment_time': datetime.datetime(2021, 7, 5, 18, 10, 14), 'comment_image': None, 'comment_reactors': [], 'comment_reactions': None, 'comment_reaction_count': None, 'replies': []}, {'comment_id': '10157877563097115', 'comment_url': 'https://facebook.com/10157877563097115', 'commenter_id': '556539868', 'commenter_url': 'https://facebook.com/babeliii?fref=nf&rc=p&__tn__=R', 'commenter_name': 'Kerry Teo', 'commenter_meta': None, 'comment_text': 'Wfh is not default. So 50% is literally.. ... Nvm', 'comment_time': datetime.datetime(2021, 7, 5, 18, 10, 14), 'comment_image': None, 'comment_reactors': [], 'comment_reactions': None, 'comment_reaction_count': None, 'replies': []}, {'comment_id': '10157877556057115', 'comment_url': 'https://facebook.com/10157877556057115', 'commenter_id': '100000214147444', 'commenter_url': 'https://facebook.com/bernarda.tan?fref=nf&rc=p&__tn__=R', 'commenter_name': 'Bernarda Tan', 'commenter_meta': None, 'comment_text': \"😰😥 oh no..our family's 8 May gathering..how?\", 'comment_time': datetime.datetime(2021, 7, 5, 18, 10, 14), 'comment_image': None, 'comment_reactors': [], 'comment_reactions': None, 'comment_reaction_count': None, 'replies': []}, {'comment_id': '10157877749437115', 'comment_url': 'https://facebook.com/10157877749437115', 'commenter_id': '100000326508161', 'commenter_url': 'https://facebook.com/SumathiSubbra?fref=nf&rc=p&__tn__=R', 'commenter_name': 'Sumathi Subbramaneyan', 'commenter_meta': None, 'comment_text': 'Whose fault ?', 'comment_time': datetime.datetime(2021, 7, 5, 18, 10, 14), 'comment_image': None, 'comment_reactors': [], 'comment_reactions': None, 'comment_reaction_count': None, 'replies': []}, {'comment_id': '10157878005602115', 'comment_url': 'https://facebook.com/10157878005602115', 'commenter_id': '100013705327068', 'commenter_url': 'https://facebook.com/azureserpent?fref=nf&rc=p&__tn__=R', 'commenter_name': '卢殷', 'commenter_meta': None, 'comment_text': 'Yay!!! The govt should really consider Circuit Breaker on 08 May instead. No one should be allowed to come out', 'comment_time': datetime.datetime(2021, 7, 5, 18, 10, 14), 'comment_image': None, 'comment_reactors': [], 'comment_reactions': None, 'comment_reaction_count': None, 'replies': []}, {'comment_id': '10157877553122115', 'comment_url': 'https://facebook.com/10157877553122115', 'commenter_id': '751196302', 'commenter_url': 'https://facebook.com/diana.lim.meiling?fref=nf&rc=p&__tn__=R', 'commenter_name': 'DDianaa MMeilingg', 'commenter_meta': None, 'comment_text': 'wfh doesnt apply to us. zzz. my boss... 🙄', 'comment_time': datetime.datetime(2021, 7, 5, 18, 10, 14), 'comment_image': None, 'comment_reactors': [], 'comment_reactions': None, 'comment_reaction_count': None, 'replies': []}, {'comment_id': '10157877569942115', 'comment_url': 'https://facebook.com/10157877569942115', 'commenter_id': '1462254004', 'commenter_url': 'https://facebook.com/loretta.ang?fref=nf&rc=p&__tn__=R', 'commenter_name': 'Loretta Ang', 'commenter_meta': None, 'comment_text': 'Tak habis....after 1 year....cycle continues again...🙄🙄🙄', 'comment_time': datetime.datetime(2021, 7, 5, 18, 10, 14), 'comment_image': 'https://scontent.xx.fbcdn.net/m1/v/t6/An_UvxJXg9tdnLU3Y5qjPi0200MLilhzPXUgxzGjQzUMaNcmjdZA6anyrngvkdub33NZzZhd51fpCAEzNHFhko5aKRFP5fS1w_lKwYrzcNLupv27.png?ccb=10-5&oh=00_AT-6mlpruIIrE8jyyZEXu9qWo0AD9boOm8DGqnLwF3LEjw&oe=62CA89F9&_nc_sid=55e238', 'comment_reactors': [], 'comment_reactions': None, 'comment_reaction_count': None, 'replies': []}, {'comment_id': '10157877584962115', 'comment_url': 'https://facebook.com/10157877584962115', 'commenter_id': '819309764', 'commenter_url': 'https://facebook.com/allison.cherrymint?fref=nf&rc=p&__tn__=R', 'commenter_name': 'Allison Cherry Mint Tan', 'commenter_meta': None, 'comment_text': 'Go eat more curry 😂', 'comment_time': datetime.datetime(2021, 7, 5, 18, 10, 14), 'comment_image': None, 'comment_reactors': [], 'comment_reactions': None, 'comment_reaction_count': None, 'replies': []}, {'comment_id': '10157877552007115', 'comment_url': 'https://facebook.com/10157877552007115', 'commenter_id': '100000039240934', 'commenter_url': 'https://facebook.com/BulierRex97?fref=nf&rc=p&__tn__=R', 'commenter_name': 'Jerome Lee', 'commenter_meta': None, 'comment_text': 'SG was doing so well until more import from high risk countries. PH coming liao, scared cannot control so impose', 'comment_time': datetime.datetime(2021, 7, 5, 18, 10, 14), 'comment_image': 'https://scontent.xx.fbcdn.net/m1/v/t6/An_UvxJXg9tdnLU3Y5qjPi0200MLilhzPXUgxzGjQzUMaNcmjdZA6anyrngvkdub33NZzZhd51fpCAEzNHFhko5aKRFP5fS1w_lKwYrzcNLupv27.png?ccb=10-5&oh=00_AT-6mlpruIIrE8jyyZEXu9qWo0AD9boOm8DGqnLwF3LEjw&oe=62CA89F9&_nc_sid=55e238', 'comment_reactors': [], 'comment_reactions': None, 'comment_reaction_count': None, 'replies': []}, {'comment_id': '10157877553207115', 'comment_url': 'https://facebook.com/10157877553207115', 'commenter_id': '520081474', 'commenter_url': 'https://facebook.com/marcus.teobinghui?fref=nf&rc=p&__tn__=R', 'commenter_name': 'Marcus Teo Bing Hui', 'commenter_meta': None, 'comment_text': 'While they are thinking hard how to control the virus, they have no clue how to control the imported virus.', 'comment_time': datetime.datetime(2021, 7, 5, 18, 10, 14), 'comment_image': 'https://scontent.xx.fbcdn.net/m1/v/t6/An_UvxJXg9tdnLU3Y5qjPi0200MLilhzPXUgxzGjQzUMaNcmjdZA6anyrngvkdub33NZzZhd51fpCAEzNHFhko5aKRFP5fS1w_lKwYrzcNLupv27.png?ccb=10-5&oh=00_AT-6mlpruIIrE8jyyZEXu9qWo0AD9boOm8DGqnLwF3LEjw&oe=62CA89F9&_nc_sid=55e238', 'comment_reactors': [], 'comment_reactions': None, 'comment_reaction_count': None, 'replies': []}, {'comment_id': '10157877559202115', 'comment_url': 'https://facebook.com/10157877559202115', 'commenter_id': '100013727256244', 'commenter_url': 'https://facebook.com/lim.wenjing.9?fref=nf&rc=p&__tn__=R', 'commenter_name': 'Lim Wen Jing', 'commenter_meta': None, 'comment_text': \"Orbee good. Crowd the malls more la, don't wear masks properly la, use eating/\\ndrinking as an excuse to not wear masks more la. Serves y'all right. Be more complacent guys. When clusters and outbreaks like the TTSH one form then blame everybody else and act innocent LOL. Really like dogs sia. Ignorant and self-entitled fools.\", 'comment_time': datetime.datetime(2021, 7, 5, 18, 10, 14), 'comment_image': None, 'comment_reactors': [], 'comment_reactions': None, 'comment_reaction_count': None, 'replies': []}, {'comment_id': '10157877593452115', 'comment_url': 'https://facebook.com/10157877593452115', 'commenter_id': '100008788658053', 'commenter_url': 'https://facebook.com/profile.php?id=100008788658053&fref=nf&rc=p&__tn__=R', 'commenter_name': 'Oh Zen', 'commenter_meta': None, 'comment_text': \"Rip mother's day bookings\", 'comment_time': datetime.datetime(2021, 7, 5, 18, 10, 14), 'comment_image': None, 'comment_reactors': [], 'comment_reactions': None, 'comment_reaction_count': None, 'replies': []}, {'comment_id': '10157877582357115', 'comment_url': 'https://facebook.com/10157877582357115', 'commenter_id': '100005216820751', 'commenter_url': 'https://facebook.com/torking.kok?fref=nf&rc=p&__tn__=R', 'commenter_name': 'Torking Kok', 'commenter_meta': None, 'comment_text': \"Good to tighten up. If numbers don't drop please go back to CB asap to cut off the transmission.\", 'comment_time': datetime.datetime(2021, 7, 5, 18, 10, 14), 'comment_image': None, 'comment_reactors': [], 'comment_reactions': None, 'comment_reaction_count': None, 'replies': []}, {'comment_id': '10157877549717115', 'comment_url': 'https://facebook.com/10157877549717115', 'commenter_id': '100008141564472', 'commenter_url': 'https://facebook.com/profile.php?id=100008141564472&fref=nf&rc=p&__tn__=R', 'commenter_name': 'Ben Tan', 'commenter_meta': None, 'comment_text': 'F the bloody idiots who let in so many foreigners from a high risk country', 'comment_time': datetime.datetime(2021, 7, 5, 18, 10, 14), 'comment_image': 'https://scontent.xx.fbcdn.net/m1/v/t6/An_UvxJXg9tdnLU3Y5qjPi0200MLilhzPXUgxzGjQzUMaNcmjdZA6anyrngvkdub33NZzZhd51fpCAEzNHFhko5aKRFP5fS1w_lKwYrzcNLupv27.png?ccb=10-5&oh=00_AT-6mlpruIIrE8jyyZEXu9qWo0AD9boOm8DGqnLwF3LEjw&oe=62CA89F9&_nc_sid=55e238', 'comment_reactors': [], 'comment_reactions': None, 'comment_reaction_count': None, 'replies': []}, {'comment_id': '10157877558767115', 'comment_url': 'https://facebook.com/10157877558767115', 'commenter_id': '100053056423827', 'commenter_url': 'https://facebook.com/profile.php?id=100053056423827&fref=nf&rc=p&__tn__=R', 'commenter_name': 'Jason Tan', 'commenter_meta': None, 'comment_text': \"Once again the blame game has started. Ownself refuse to tighten the border restrictions and impose longer SHN duration earlier. We already had no community cases for a long time. Now that the imported cases have leaked out to the community, they had to restrict our activities. We have all been working so hard, especially our front liners, why didn't you spare a thought for our people? Constantly importing cases from a particular country, many not even Singaporean or here for important business!\", 'comment_time': datetime.datetime(2021, 7, 5, 18, 10, 14), 'comment_image': 'https://scontent.xx.fbcdn.net/m1/v/t6/An_UvxJXg9tdnLU3Y5qjPi0200MLilhzPXUgxzGjQzUMaNcmjdZA6anyrngvkdub33NZzZhd51fpCAEzNHFhko5aKRFP5fS1w_lKwYrzcNLupv27.png?ccb=10-5&oh=00_AT-6mlpruIIrE8jyyZEXu9qWo0AD9boOm8DGqnLwF3LEjw&oe=62CA89F9&_nc_sid=55e238', 'comment_reactors': [], 'comment_reactions': None, 'comment_reaction_count': None, 'replies': []}, {'comment_id': '10157877633562115', 'comment_url': 'https://facebook.com/10157877633562115', 'commenter_id': '100009531236151', 'commenter_url': 'https://facebook.com/ric.li.146?fref=nf&rc=p&__tn__=R', 'commenter_name': 'RicHard Goh', 'commenter_meta': None, 'comment_text': 'Thank you millionaire ministers. Thank you Calvin Cheng. Thank you bootlickers of PAP. We continue to sacrifice for the sake of your beloved CECA. CCB', 'comment_time': datetime.datetime(2021, 7, 5, 18, 10, 14), 'comment_image': 'https://scontent.xx.fbcdn.net/m1/v/t6/An_UvxJXg9tdnLU3Y5qjPi0200MLilhzPXUgxzGjQzUMaNcmjdZA6anyrngvkdub33NZzZhd51fpCAEzNHFhko5aKRFP5fS1w_lKwYrzcNLupv27.png?ccb=10-5&oh=00_AT-6mlpruIIrE8jyyZEXu9qWo0AD9boOm8DGqnLwF3LEjw&oe=62CA89F9&_nc_sid=55e238', 'comment_reactors': [], 'comment_reactions': None, 'comment_reaction_count': None, 'replies': []}, {'comment_id': '10157877716712115', 'comment_url': 'https://facebook.com/10157877716712115', 'commenter_id': '747903505', 'commenter_url': 'https://facebook.com/kienhoe.wong?fref=nf&rc=p&__tn__=R', 'commenter_name': 'Wong Kien Hoe', 'commenter_meta': None, 'comment_text': 'Whatever which country all the government are selfish and only want benefits for themselves\\nAfter the things happening they only will know restricted the policy\\nIn the end suffer for the public people\\nAnd no freedom for the people', 'comment_time': datetime.datetime(2021, 7, 5, 18, 10, 14), 'comment_image': None, 'comment_reactors': [], 'comment_reactions': None, 'comment_reaction_count': None, 'replies': []}, {'comment_id': '10157877554372115', 'comment_url': 'https://facebook.com/10157877554372115', 'commenter_id': '100047150019746', 'commenter_url': 'https://facebook.com/ann.lim.14224094?fref=nf&rc=p&__tn__=R', 'commenter_name': 'Ann Lim', 'commenter_meta': None, 'comment_text': 'I am still curious about how the nurse got infected. Did the TTSH vaccinated staff stop wearing PPE? Or did she return fr Philippines? How about the patient who had symptoms earlier than her? Did he juz returned fr Overseas since Dec?\\n\\nSo many unknowns...no answer... Then... Back to square one. Hope no CB.', 'comment_time': datetime.datetime(2021, 7, 5, 18, 10, 14), 'comment_image': 'https://scontent.xx.fbcdn.net/m1/v/t6/An_UvxJXg9tdnLU3Y5qjPi0200MLilhzPXUgxzGjQzUMaNcmjdZA6anyrngvkdub33NZzZhd51fpCAEzNHFhko5aKRFP5fS1w_lKwYrzcNLupv27.png?ccb=10-5&oh=00_AT-6mlpruIIrE8jyyZEXu9qWo0AD9boOm8DGqnLwF3LEjw&oe=62CA89F9&_nc_sid=55e238', 'comment_reactors': [], 'comment_reactions': None, 'comment_reaction_count': None, 'replies': []}, {'comment_id': '10157880261952115', 'comment_url': 'https://facebook.com/10157880261952115', 'commenter_id': '535852230', 'commenter_url': 'https://facebook.com/paul.lim81?fref=nf&rc=p&__tn__=R', 'commenter_name': 'Paul Lim', 'commenter_meta': None, 'comment_text': 'World’s most vaccinated country now in crisis with deaths rising. They had little cases and no deaths before vaccination. Similar phenomenon in India, Thailand, Vietnam, Israel and many countries.\\n\\nNope it cannot be the holy vaccines. Must be the people misbehaved!\\n\\nhttps://\\nwww.bloomberg.co\\nm/news/\\narticles/\\n2021-05-04/\\nworld-s-most-vac\\ncinated-nation-\\nreintroduces-cu\\nrbs-as-cases-su\\nrge?fbclid=IwAR\\n1yJ_P_ewnTT3QcF\\ndd6x0oc-wgiRi5b\\nhf9q-iYdu0wUNxs\\n8c77abC0HBXY\\n\\nhttps://\\nthreadreaderapp.\\ncom/thread/\\n1387548104073912\\n324.html\\n\\nhttps://\\nlockdownsceptics\\n.org/2021/05/\\n01/\\nmajor-study-find\\ns-abundance-of-\\npatients-admitt\\ned-to-hospital-\\nwith-covid-with\\nin-seven-days-o\\nf-vaccination/', 'comment_time': datetime.datetime(2021, 7, 5, 18, 10, 15), 'comment_image': 'https://www.bloomberg.com/news/articles/2021-05-04/world-s-most-vaccinated-nation-reintroduces-curbs-as-cases-surge?fbclid=IwAR0MrHDwhvySQRWNAyOZlLP9gQYOAzd_J7WkBt7Pk6mksjgQu6fgLwR3h4Y', 'comment_reactors': [], 'comment_reactions': None, 'comment_reaction_count': None, 'replies': []}, {'comment_id': '10157877592282115', 'comment_url': 'https://facebook.com/10157877592282115', 'commenter_id': '100001049026840', 'commenter_url': 'https://facebook.com/ron.wang.5496?fref=nf&rc=p&__tn__=R', 'commenter_name': 'Ron Wang', 'commenter_meta': None, 'comment_text': 'Please la government, dont Hong Kong buble already. Everytime so suay.. Don’t Hong already. Now we really Hong Gan..', 'comment_time': datetime.datetime(2021, 7, 5, 18, 10, 15), 'comment_image': 'https://scontent.xx.fbcdn.net/m1/v/t6/An_UvxJXg9tdnLU3Y5qjPi0200MLilhzPXUgxzGjQzUMaNcmjdZA6anyrngvkdub33NZzZhd51fpCAEzNHFhko5aKRFP5fS1w_lKwYrzcNLupv27.png?ccb=10-5&oh=00_AT-6mlpruIIrE8jyyZEXu9qWo0AD9boOm8DGqnLwF3LEjw&oe=62CA89F9&_nc_sid=55e238', 'comment_reactors': [], 'comment_reactions': None, 'comment_reaction_count': None, 'replies': []}, {'comment_id': '10157877582552115', 'comment_url': 'https://facebook.com/10157877582552115', 'commenter_id': '100010151464221', 'commenter_url': 'https://facebook.com/profile.php?id=100010151464221&fref=nf&rc=p&__tn__=R', 'commenter_name': 'Raymond Raymond', 'commenter_meta': None, 'comment_text': 'Please wear mask for others safety, all Singaporeans & non Singaporeans out there', 'comment_time': datetime.datetime(2021, 7, 5, 18, 10, 15), 'comment_image': None, 'comment_reactors': [], 'comment_reactions': None, 'comment_reaction_count': None, 'replies': []}, {'comment_id': '10157877608647115', 'comment_url': 'https://facebook.com/10157877608647115', 'commenter_id': '562399775', 'commenter_url': 'https://facebook.com/jamie.baba.1?fref=nf&rc=p&__tn__=R', 'commenter_name': 'Jamie Baba', 'commenter_meta': None, 'comment_text': 'Bring in more la.... Good job, so now what blame the citizens????', 'comment_time': datetime.datetime(2021, 7, 5, 18, 10, 15), 'comment_image': 'https://scontent.xx.fbcdn.net/m1/v/t6/An_UvxJXg9tdnLU3Y5qjPi0200MLilhzPXUgxzGjQzUMaNcmjdZA6anyrngvkdub33NZzZhd51fpCAEzNHFhko5aKRFP5fS1w_lKwYrzcNLupv27.png?ccb=10-5&oh=00_AT-6mlpruIIrE8jyyZEXu9qWo0AD9boOm8DGqnLwF3LEjw&oe=62CA89F9&_nc_sid=55e238', 'comment_reactors': [], 'comment_reactions': None, 'comment_reaction_count': None, 'replies': []}, {'comment_id': '10157877723487115', 'comment_url': 'https://facebook.com/10157877723487115', 'commenter_id': '591395687', 'commenter_url': 'https://facebook.com/eve.wee3?fref=nf&rc=p&__tn__=R', 'commenter_name': 'Sumohuahua Wee', 'commenter_meta': None, 'comment_text': 'This is a joke! Why not by not! Just lock down again!', 'comment_time': datetime.datetime(2021, 7, 5, 18, 10, 15), 'comment_image': None, 'comment_reactors': [], 'comment_reactions': None, 'comment_reaction_count': None, 'replies': []}, {'comment_id': '10157877601152115', 'comment_url': 'https://facebook.com/10157877601152115', 'commenter_id': '100008844528388', 'commenter_url': 'https://facebook.com/profile.php?id=100008844528388&fref=nf&rc=p&__tn__=R', 'commenter_name': 'Hanzo Oznah', 'commenter_meta': None, 'comment_text': 'Keep on bring in all the import cases. Please make up your mind. Everyone is affected here. Totally disgusted...', 'comment_time': datetime.datetime(2021, 7, 5, 18, 10, 15), 'comment_image': None, 'comment_reactors': [], 'comment_reactions': None, 'comment_reaction_count': None, 'replies': []}, {'comment_id': '10157877577162115', 'comment_url': 'https://facebook.com/10157877577162115', 'commenter_id': '100005574524202', 'commenter_url': 'https://facebook.com/profile.php?id=100005574524202&fref=nf&rc=p&__tn__=R', 'commenter_name': 'Nathaniel Lee', 'commenter_meta': None, 'comment_text': \"Why didn't mention that the ttsh cluster strain is related to India? Import somemore.\", 'comment_time': datetime.datetime(2021, 7, 5, 18, 10, 15), 'comment_image': 'https://scontent.xx.fbcdn.net/m1/v/t6/An_UvxJXg9tdnLU3Y5qjPi0200MLilhzPXUgxzGjQzUMaNcmjdZA6anyrngvkdub33NZzZhd51fpCAEzNHFhko5aKRFP5fS1w_lKwYrzcNLupv27.png?ccb=10-5&oh=00_AT-6mlpruIIrE8jyyZEXu9qWo0AD9boOm8DGqnLwF3LEjw&oe=62CA89F9&_nc_sid=55e238', 'comment_reactors': [], 'comment_reactions': None, 'comment_reaction_count': None, 'replies': []}, {'comment_id': '10157877575242115', 'comment_url': 'https://facebook.com/10157877575242115', 'commenter_id': '100000074883876', 'commenter_url': 'https://facebook.com/simon.tan.376?fref=nf&rc=p&__tn__=R', 'commenter_name': 'Simon Tan', 'commenter_meta': None, 'comment_text': 'Used to be 8 immortals now became Journey to the west 🤪😜😂🤣', 'comment_time': datetime.datetime(2021, 7, 5, 18, 10, 16), 'comment_image': 'https://scontent.xx.fbcdn.net/m1/v/t6/An_UvxJXg9tdnLU3Y5qjPi0200MLilhzPXUgxzGjQzUMaNcmjdZA6anyrngvkdub33NZzZhd51fpCAEzNHFhko5aKRFP5fS1w_lKwYrzcNLupv27.png?ccb=10-5&oh=00_AT-6mlpruIIrE8jyyZEXu9qWo0AD9boOm8DGqnLwF3LEjw&oe=62CA89F9&_nc_sid=55e238', 'comment_reactors': [], 'comment_reactions': None, 'comment_reaction_count': None, 'replies': []}, {'comment_id': '10157877652127115', 'comment_url': 'https://facebook.com/10157877652127115', 'commenter_id': '100016634809038', 'commenter_url': 'https://facebook.com/profile.php?id=100016634809038&fref=nf&rc=p&__tn__=R', 'commenter_name': 'Car Pool Sg', 'commenter_meta': None, 'comment_text': 'WELL DONE Calvin Cheng FOR GIVING INDIA NATIONALS LOOPHOLES TO ENTER OUR STRONGLY PROTECTED BY 4G LEADERS BORDER! NOW WE HAVE INDIAN MUTATED STRAINS IN OUR COUNTRY. CALVIN CHENG MUST BE PUNISHED AND LOCK INSIDE SINGAPORE CHANGI PRISON FOR THIS GRAVE MISTAKE HE HAVE DONE. EVERYONE DO YOU AGREE?', 'comment_time': datetime.datetime(2021, 7, 5, 18, 10, 16), 'comment_image': None, 'comment_reactors': [], 'comment_reactions': None, 'comment_reaction_count': None, 'replies': []}, {'comment_id': '10157877613932115', 'comment_url': 'https://facebook.com/10157877613932115', 'commenter_id': '100055197106377', 'commenter_url': 'https://facebook.com/nur.suhana.92505?fref=nf&rc=p&__tn__=R', 'commenter_name': 'Nur Suhana', 'commenter_meta': None, 'comment_text': \"WTH..... Pls maintain 5 visitor.. Pls don't come bck to CB like last year. If not jialat Ehhhhh, I order kuih Raya alot lehhh.. End up I eat myself.. ok stay safe everyone!!😭\", 'comment_time': datetime.datetime(2021, 7, 5, 18, 10, 16), 'comment_image': 'https://media1.tenor.co/images/2d6547f95ef0f768fe5f58830f3ddade/tenor.gif?itemid=7898282&t=AAXBf6R5ZPAKSjeHZgv6HQ&fbclid=IwAR24mMLXxDZK4xQt8l-0Pu5jXHNd0T-ym-pOBjCDxJ1Qj8Skh16uhEJzaQQ', 'comment_reactors': [], 'comment_reactions': None, 'comment_reaction_count': None, 'replies': []}, {'comment_id': '10157877591942115', 'comment_url': 'https://facebook.com/10157877591942115', 'commenter_id': '1511502147', 'commenter_url': 'https://facebook.com/gohzehnweiedward?fref=nf&rc=p&__tn__=R', 'commenter_name': 'Edward Goh', 'commenter_meta': None, 'comment_text': 'shouldnt have let it get to this point in the first place', 'comment_time': datetime.datetime(2021, 7, 5, 18, 10, 16), 'comment_image': None, 'comment_reactors': [], 'comment_reactions': None, 'comment_reaction_count': None, 'replies': []}, {'comment_id': '10157877580607115', 'comment_url': 'https://facebook.com/10157877580607115', 'commenter_id': '100001011294711', 'commenter_url': 'https://facebook.com/teamkips?fref=nf&rc=p&__tn__=R', 'commenter_name': 'Charlie Tang', 'commenter_meta': None, 'comment_text': 'Never mind. We will keep importing infected people in', 'comment_time': datetime.datetime(2021, 7, 5, 18, 10, 16), 'comment_image': None, 'comment_reactors': [], 'comment_reactions': None, 'comment_reaction_count': None, 'replies': []}, {'comment_id': '10157877568082115', 'comment_url': 'https://facebook.com/10157877568082115', 'commenter_id': '100002020803712', 'commenter_url': 'https://facebook.com/lanchangmerah.lanchang?fref=nf&rc=p&__tn__=R', 'commenter_name': 'Meneng Meneng Waer Tamsi', 'commenter_meta': None, 'comment_text': 'Stop people from coming to singapore .mrt pack haaa what to say anymore .covid has come back again .never end is like 3world war.no weapon using bit the tiny virus kill people in the world', 'comment_time': datetime.datetime(2021, 7, 5, 18, 10, 16), 'comment_image': 'https://scontent.xx.fbcdn.net/m1/v/t6/An_UvxJXg9tdnLU3Y5qjPi0200MLilhzPXUgxzGjQzUMaNcmjdZA6anyrngvkdub33NZzZhd51fpCAEzNHFhko5aKRFP5fS1w_lKwYrzcNLupv27.png?ccb=10-5&oh=00_AT-6mlpruIIrE8jyyZEXu9qWo0AD9boOm8DGqnLwF3LEjw&oe=62CA89F9&_nc_sid=55e238', 'comment_reactors': [], 'comment_reactions': None, 'comment_reaction_count': None, 'replies': []}, {'comment_id': '10157877999987115', 'comment_url': 'https://facebook.com/10157877999987115', 'commenter_id': '100004091854369', 'commenter_url': 'https://facebook.com/Bingolala.1276?fref=nf&rc=p&__tn__=R', 'commenter_name': 'Lee Lilian', 'commenter_meta': None, 'comment_text': 'Hooray! Cafes, food courts are too crowded, unsafe', 'comment_time': datetime.datetime(2021, 7, 5, 18, 10, 16), 'comment_image': None, 'comment_reactors': [], 'comment_reactions': None, 'comment_reaction_count': None, 'replies': []}, {'comment_id': '10157877657002115', 'comment_url': 'https://facebook.com/10157877657002115', 'commenter_id': '100012672378022', 'commenter_url': 'https://facebook.com/profile.php?id=100012672378022&fref=nf&rc=p&__tn__=R', 'commenter_name': 'Adzhar Tahir', 'commenter_meta': None, 'comment_text': 'WHO DID YOU VOTE FOR? 😂😂😂', 'comment_time': datetime.datetime(2021, 7, 5, 18, 10, 16), 'comment_image': 'https://scontent.xx.fbcdn.net/m1/v/t6/An_UvxJXg9tdnLU3Y5qjPi0200MLilhzPXUgxzGjQzUMaNcmjdZA6anyrngvkdub33NZzZhd51fpCAEzNHFhko5aKRFP5fS1w_lKwYrzcNLupv27.png?ccb=10-5&oh=00_AT-6mlpruIIrE8jyyZEXu9qWo0AD9boOm8DGqnLwF3LEjw&oe=62CA89F9&_nc_sid=55e238', 'comment_reactors': [], 'comment_reactions': None, 'comment_reaction_count': None, 'replies': []}, {'comment_id': '10157877619382115', 'comment_url': 'https://facebook.com/10157877619382115', 'commenter_id': '100027887240517', 'commenter_url': 'https://facebook.com/daniel.lo.391420?fref=nf&rc=p&__tn__=R', 'commenter_name': 'Daniel Lo', 'commenter_meta': None, 'comment_text': 'Diagnosed and analyzed the whole picture. The government of today will never admit and released statistical data of all this imported cases from India. How many are New Citizens from India and how many are PR from India. As New Citizens and PRs, the government have no right whatsoever to ban them from coming in ? This are what they call the Imported cases ? This government had dropped the ball so terribly since 2005 when CECA was signed how many Indians from India had granted PRs and New Citizens.', 'comment_time': datetime.datetime(2021, 7, 5, 18, 10, 16), 'comment_image': 'https://scontent.xx.fbcdn.net/m1/v/t6/An_UvxJXg9tdnLU3Y5qjPi0200MLilhzPXUgxzGjQzUMaNcmjdZA6anyrngvkdub33NZzZhd51fpCAEzNHFhko5aKRFP5fS1w_lKwYrzcNLupv27.png?ccb=10-5&oh=00_AT-6mlpruIIrE8jyyZEXu9qWo0AD9boOm8DGqnLwF3LEjw&oe=62CA89F9&_nc_sid=55e238', 'comment_reactors': [], 'comment_reactions': None, 'comment_reaction_count': None, 'replies': []}, {'comment_id': '10157877562402115', 'comment_url': 'https://facebook.com/10157877562402115', 'commenter_id': '100014862226366', 'commenter_url': 'https://facebook.com/Ariane46859?fref=nf&rc=p&__tn__=R', 'commenter_name': 'Takeshi Yamashita', 'commenter_meta': None, 'comment_text': 'How to take bus/mrt???', 'comment_time': datetime.datetime(2021, 7, 5, 18, 10, 16), 'comment_image': None, 'comment_reactors': [], 'comment_reactions': None, 'comment_reaction_count': None, 'replies': []}, {'comment_id': '10157877816447115', 'comment_url': 'https://facebook.com/10157877816447115', 'commenter_id': '802667479', 'commenter_url': 'https://facebook.com/kestrel83?fref=nf&rc=p&__tn__=R', 'commenter_name': 'Abdul Malik Mohammed Ghazali', 'commenter_meta': None, 'comment_text': 'Blame it on CECA?', 'comment_time': datetime.datetime(2021, 7, 5, 18, 10, 16), 'comment_image': 'https://scontent.xx.fbcdn.net/m1/v/t6/An_UvxJXg9tdnLU3Y5qjPi0200MLilhzPXUgxzGjQzUMaNcmjdZA6anyrngvkdub33NZzZhd51fpCAEzNHFhko5aKRFP5fS1w_lKwYrzcNLupv27.png?ccb=10-5&oh=00_AT-6mlpruIIrE8jyyZEXu9qWo0AD9boOm8DGqnLwF3LEjw&oe=62CA89F9&_nc_sid=55e238', 'comment_reactors': [], 'comment_reactions': None, 'comment_reaction_count': None, 'replies': []}, {'comment_id': '10157877750657115', 'comment_url': 'https://facebook.com/10157877750657115', 'commenter_id': '100038789239138', 'commenter_url': 'https://facebook.com/gusion.kousaka.7?fref=nf&rc=p&__tn__=R', 'commenter_name': 'Schwalbe Gusion', 'commenter_meta': None, 'comment_text': 'no choice, everyone has to cooperate', 'comment_time': datetime.datetime(2021, 7, 5, 18, 10, 16), 'comment_image': None, 'comment_reactors': [], 'comment_reactions': None, 'comment_reaction_count': None, 'replies': []}, {'comment_id': '10157877625812115', 'comment_url': 'https://facebook.com/10157877625812115', 'commenter_id': '100013273591825', 'commenter_url': 'https://facebook.com/yap.sh.71?fref=nf&rc=p&__tn__=R', 'commenter_name': 'YE Shun FU', 'commenter_meta': None, 'comment_text': 'All thanks to the Importers\\nKNNBCCB🤬🤬🤬🤬🤬🤬', 'comment_time': datetime.datetime(2021, 7, 5, 18, 10, 16), 'comment_image': 'https://scontent.xx.fbcdn.net/m1/v/t6/An_UvxJXg9tdnLU3Y5qjPi0200MLilhzPXUgxzGjQzUMaNcmjdZA6anyrngvkdub33NZzZhd51fpCAEzNHFhko5aKRFP5fS1w_lKwYrzcNLupv27.png?ccb=10-5&oh=00_AT-6mlpruIIrE8jyyZEXu9qWo0AD9boOm8DGqnLwF3LEjw&oe=62CA89F9&_nc_sid=55e238', 'comment_reactors': [], 'comment_reactions': None, 'comment_reaction_count': None, 'replies': []}, {'comment_id': '10157877612027115', 'comment_url': 'https://facebook.com/10157877612027115', 'commenter_id': '527828256', 'commenter_url': 'https://facebook.com/SaiGongYellow?fref=nf&rc=p&__tn__=R', 'commenter_name': 'Sai Gong', 'commenter_meta': None, 'comment_text': \"Guess China's the best place to be now, in this reinvigorated pandemic! 😅🤣😂\", 'comment_time': datetime.datetime(2021, 7, 5, 18, 10, 16), 'comment_image': None, 'comment_reactors': [], 'comment_reactions': None, 'comment_reaction_count': None, 'replies': []}, {'comment_id': '10157877655137115', 'comment_url': 'https://facebook.com/10157877655137115', 'commenter_id': '100009184035630', 'commenter_url': 'https://facebook.com/profile.php?id=100009184035630&fref=nf&rc=p&__tn__=R', 'commenter_name': 'Nigel Nigel', 'commenter_meta': None, 'comment_text': 'A disgrace from the govt. Create such a big mess by having travel bubble with India to cause this. Govt make a 88 years old to cause death because of covid.\\n\\nNo apology from all these incompetence govt. What a disgusting and disgrace act shown by the govt', 'comment_time': datetime.datetime(2021, 7, 5, 18, 10, 16), 'comment_image': 'https://scontent.xx.fbcdn.net/m1/v/t6/An_UvxJXg9tdnLU3Y5qjPi0200MLilhzPXUgxzGjQzUMaNcmjdZA6anyrngvkdub33NZzZhd51fpCAEzNHFhko5aKRFP5fS1w_lKwYrzcNLupv27.png?ccb=10-5&oh=00_AT-6mlpruIIrE8jyyZEXu9qWo0AD9boOm8DGqnLwF3LEjw&oe=62CA89F9&_nc_sid=55e238', 'comment_reactors': [], 'comment_reactions': None, 'comment_reaction_count': None, 'replies': []}, {'comment_id': '10157877930287115', 'comment_url': 'https://facebook.com/10157877930287115', 'commenter_id': '1190119982', 'commenter_url': 'https://facebook.com/lim.j.zen?fref=nf&rc=p&__tn__=R', 'commenter_name': 'Lim Jia Hao', 'commenter_meta': None, 'comment_text': 'Vaccine ask us not to wait and see but importing mutated virus can wait and see.. Now see la. 🤣', 'comment_time': datetime.datetime(2021, 7, 5, 18, 10, 16), 'comment_image': None, 'comment_reactors': [], 'comment_reactions': None, 'comment_reaction_count': None, 'replies': []}, {'comment_id': '10157877607732115', 'comment_url': 'https://facebook.com/10157877607732115', 'commenter_id': '100053635787980', 'commenter_url': 'https://facebook.com/profile.php?id=100053635787980&fref=nf&rc=p&__tn__=R', 'commenter_name': '马杰克', 'commenter_meta': None, 'comment_text': \"Buy food must wear mask. Only when you sit down to eat then remove. Don't tell stall hawker you want to breathe. Want to breathe, go other corner, not Infront of ppl. Don't be selfish!!!!\\nBad hearted, you will get it!!!!\\n\\n*新条例： 5 人聚会*\\n保持一米距离 （不可按摸）\\n戴好口罩，盖住鼻子\\n不是布的\\n\\n咳嗽打喷嚏\\n不可打开口罩\\n自私的人最后自己遭殃\", 'comment_time': datetime.datetime(2021, 7, 5, 18, 10, 16), 'comment_image': None, 'comment_reactors': [], 'comment_reactions': None, 'comment_reaction_count': None, 'replies': []}, {'comment_id': '10157879963382115', 'comment_url': 'https://facebook.com/10157879963382115', 'commenter_id': '100027596736654', 'commenter_url': 'https://facebook.com/star.lala.71653?fref=nf&rc=p&__tn__=R', 'commenter_name': 'Star Lala', 'commenter_meta': None, 'comment_text': 'Star Lala', 'comment_time': datetime.datetime(2021, 7, 5, 18, 10, 16), 'comment_image': 'https://media1.giphy.com/media/SbGXfitFuO1bViroAu/giphy.gif?cid=120c014785my56bnws5pmey0kye3sw8puo426h9v615a2gp1&rid=giphy.gif&ct=g&fbclid=IwAR1p_LuFrYCWGQSS828JDvT9oHtKH9LcA9-kzpv-QESgdTfYnJg52YVMRwM', 'comment_reactors': [], 'comment_reactions': None, 'comment_reaction_count': None, 'replies': []}, {'comment_id': '10157879558067115', 'comment_url': 'https://facebook.com/10157879558067115', 'commenter_id': '1377736035', 'commenter_url': 'https://facebook.com/fanshu.chen.3?fref=nf&rc=p&__tn__=R', 'commenter_name': 'Fanshu Chen', 'commenter_meta': None, 'comment_text': 'just cooperate lah..blessings to all', 'comment_time': datetime.datetime(2021, 7, 5, 18, 10, 16), 'comment_image': None, 'comment_reactors': [], 'comment_reactions': None, 'comment_reaction_count': None, 'replies': []}, {'comment_id': '10157879433632115', 'comment_url': 'https://facebook.com/10157879433632115', 'commenter_id': '535852230', 'commenter_url': 'https://facebook.com/paul.lim81?fref=nf&rc=p&__tn__=R', 'commenter_name': 'Paul Lim', 'commenter_meta': None, 'comment_text': 'https://\\ngreatgameindia.c\\nom/\\nisrael-report-pf\\nizer-vaccine-si\\nde-effects/', 'comment_time': datetime.datetime(2021, 7, 5, 18, 10, 16), 'comment_image': 'https://greatgameindia.com/israel-report-pfizer-vaccine-side-effects/?fbclid=IwAR1Pncwa_U_X69_tek75CwIgjIeR0jdPwHf8gvOX0y6uHeZeBLrQeuq35IU', 'comment_reactors': [], 'comment_reactions': None, 'comment_reaction_count': None, 'replies': []}, {'comment_id': '10157877999547115', 'comment_url': 'https://facebook.com/10157877999547115', 'commenter_id': '564764732', 'commenter_url': 'https://facebook.com/ajay.sheth?fref=nf&rc=p&__tn__=R', 'commenter_name': 'Ajay Sheth', 'commenter_meta': None, 'comment_text': 'Y so many flights flying into SG from so Many countries⁉️\\n\\n🛬 @ Changi 🤦🏻\\u200d♂️\\n\\nhttps://\\nwww.changiairpor\\nt.com/en/\\nflights/\\narrivals.html#?s\\ntatus=arrival&d\\nate=tomorrow&te\\nrminal=all&time\\n=all', 'comment_time': datetime.datetime(2021, 7, 5, 18, 10, 16), 'comment_image': 'https://www.changiairport.com/en/flights/arrivals.html?fbclid=IwAR1vHHHbo3t6eNL_PmC2sOIpBCMDSRqlnRhS-BI-JS4xgMGmgvNNZba9rAk#?status=arrival&date=tomorrow&terminal=all&time=all', 'comment_reactors': [], 'comment_reactions': None, 'comment_reaction_count': None, 'replies': []}, {'comment_id': '10157877984557115', 'comment_url': 'https://facebook.com/10157877984557115', 'commenter_id': '100012872316696', 'commenter_url': 'https://facebook.com/emely.gloria.735?fref=nf&rc=p&__tn__=R', 'commenter_name': 'Emelygrace Mae Gloria Garces', 'commenter_meta': None, 'comment_text': 'Woodenheart Plaza ohhhhh Safety first 🙏🙏👏👏', 'comment_time': datetime.datetime(2021, 7, 5, 18, 10, 16), 'comment_image': None, 'comment_reactors': [], 'comment_reactions': None, 'comment_reaction_count': None, 'replies': []}, {'comment_id': '10157877977602115', 'comment_url': 'https://facebook.com/10157877977602115', 'commenter_id': '100003068240883', 'commenter_url': 'https://facebook.com/smkenn6363?fref=nf&rc=p&__tn__=R', 'commenter_name': 'Kenn Pang', 'commenter_meta': None, 'comment_text': '... 😂 amen !', 'comment_time': datetime.datetime(2021, 7, 5, 18, 10, 16), 'comment_image': 'https://media.tenor.co/images/5d8830403b0a71142454c1d84bbd7de9/tenor.gif?fbclid=IwAR05u-xTU6sLR5WcXy51tyo39k0P06OZVVaz_4ou3cabN12FEee9YSsJGIk', 'comment_reactors': [], 'comment_reactions': None, 'comment_reaction_count': None, 'replies': []}, {'comment_id': '10157877900337115', 'comment_url': 'https://facebook.com/10157877900337115', 'commenter_id': '1517663013', 'commenter_url': 'https://facebook.com/kelvin.surin?fref=nf&rc=p&__tn__=R', 'commenter_name': 'Kelvin Surin', 'commenter_meta': None, 'comment_text': 'Kelvin Surin', 'comment_time': datetime.datetime(2021, 7, 5, 18, 10, 16), 'comment_image': 'https://media3.giphy.com/media/l0MYLxEuFeH6Vrpkc/200_d.gif?cid=120c0147ddnes47pr3ywxeahvzpojadtl7sr6n10lfyz0cqn&rid=200_d.gif&ct=g&fbclid=IwAR1ft4U7tvOZ3clZWy22GfhLB0IQHQWyIHe9etbKLKqAjUei3uLdkIEEs3U', 'comment_reactors': [], 'comment_reactions': None, 'comment_reaction_count': None, 'replies': []}, {'comment_id': '10157877889487115', 'comment_url': 'https://facebook.com/10157877889487115', 'commenter_id': '100014764696420', 'commenter_url': 'https://facebook.com/eujin.kang.71?fref=nf&rc=p&__tn__=R', 'commenter_name': 'Eu Jin Kang', 'commenter_meta': None, 'comment_text': 'Good call. Better to paly it safe..', 'comment_time': datetime.datetime(2021, 7, 5, 18, 10, 16), 'comment_image': None, 'comment_reactors': [], 'comment_reactions': None, 'comment_reaction_count': None, 'replies': []}, {'comment_id': '10157877881042115', 'comment_url': 'https://facebook.com/10157877881042115', 'commenter_id': '888305206', 'commenter_url': 'https://facebook.com/joy.chiam?fref=nf&rc=p&__tn__=R', 'commenter_name': 'Joy Chiam', 'commenter_meta': None, 'comment_text': 'Hong Kah Jun', 'comment_time': datetime.datetime(2021, 7, 5, 18, 10, 16), 'comment_image': None, 'comment_reactors': [], 'comment_reactions': None, 'comment_reaction_count': None, 'replies': []}, {'comment_id': '10157877856502115', 'comment_url': 'https://facebook.com/10157877856502115', 'commenter_id': '100000491768313', 'commenter_url': 'https://facebook.com/MuhammadRamadhanTaib?fref=nf&rc=p&__tn__=R', 'commenter_name': 'Adan As Shikin', 'commenter_meta': None, 'comment_text': 'Waste our effort!........\\n...............\\n...............\\n..........', 'comment_time': datetime.datetime(2021, 7, 5, 18, 10, 16), 'comment_image': None, 'comment_reactors': [], 'comment_reactions': None, 'comment_reaction_count': None, 'replies': []}, {'comment_id': '10157877843482115', 'comment_url': 'https://facebook.com/10157877843482115', 'commenter_id': '100000818367778', 'commenter_url': 'https://facebook.com/edward.chew.12?fref=nf&rc=p&__tn__=R', 'commenter_name': 'Chew Hsuen Sheng', 'commenter_meta': None, 'comment_text': 'Chew Hsuen Sheng', 'comment_time': datetime.datetime(2021, 7, 5, 18, 10, 16), 'comment_image': 'https://media1.tenor.co/images/b046f47619b2920022c01c683b94f9d0/tenor.gif?itemid=18494788&t=AAXBgJ8yJr0KrAQRigSgeQ&fbclid=IwAR0aLOsPG_G0apQzYHXZMGingIZnJ1dhL83ROpyw9_vWRgRkkHRNSc7bFyI', 'comment_reactors': [], 'comment_reactions': None, 'comment_reaction_count': None, 'replies': []}, {'comment_id': '10157877843157115', 'comment_url': 'https://facebook.com/10157877843157115', 'commenter_id': '100004327028214', 'commenter_url': 'https://facebook.com/serisetyowaty.waty.3?fref=nf&rc=p&__tn__=R', 'commenter_name': 'Puan Seri', 'commenter_meta': None, 'comment_text': 'This is after Hari Raya right', 'comment_time': datetime.datetime(2021, 7, 5, 18, 10, 16), 'comment_image': None, 'comment_reactors': [], 'comment_reactions': None, 'comment_reaction_count': None, 'replies': []}, {'comment_id': '10157877829397115', 'comment_url': 'https://facebook.com/10157877829397115', 'commenter_id': '100001903478333', 'commenter_url': 'https://facebook.com/leeruby.lowmei?fref=nf&rc=p&__tn__=R', 'commenter_name': 'Ruby Lee', 'commenter_meta': None, 'comment_text': 'Ruby Lee', 'comment_time': datetime.datetime(2021, 7, 5, 18, 10, 16), 'comment_image': 'https://scontent-iad3-1.xx.fbcdn.net/v/t39.1997-6/168657015_1417824821884739_4292021050226233911_n.png?stp=cp0_dst-png_s110x80&_nc_cat=101&ccb=1-7&_nc_sid=ac3552&efg=eyJpIjoidCJ9&_nc_ohc=082WeTIt1GwAX9X_17C&_nc_ht=scontent-iad3-1.xx&oh=00_AT8Z5Pw27oOZODEWRCTsXbl1xcCAWkVtheNqixto2yftYQ&oe=62C9E9CF', 'comment_reactors': [], 'comment_reactions': None, 'comment_reaction_count': None, 'replies': []}, {'comment_id': '10157877765877115', 'comment_url': 'https://facebook.com/10157877765877115', 'commenter_id': '742782724', 'commenter_url': 'https://facebook.com/william.foong.73?fref=nf&rc=p&__tn__=R', 'commenter_name': 'CK Foong', 'commenter_meta': None, 'comment_text': 'Kennot sit with Tan Liao we need to divorce', 'comment_time': datetime.datetime(2021, 7, 5, 18, 10, 17), 'comment_image': 'https://scontent.xx.fbcdn.net/m1/v/t6/An_F9bJG7govfshSMBkvcRLcxT0jmiXVYKtr7lgH5AHgUrjjpZ1OD0xyxXYgf7arc0lWgCdrR_KN4Mg7RSN3Gm3W6Gg03N1tQ-ZXzVvFJ_KvvB4.png?ccb=10-5&oh=00_AT_twsUvVFAYMhv1YW13iB1hBp9j_kXBJeaj0wHLghwU3Q&oe=62CA5C67&_nc_sid=55e238', 'comment_reactors': [], 'comment_reactions': None, 'comment_reaction_count': None, 'replies': []}, {'comment_id': '10157877762077115', 'comment_url': 'https://facebook.com/10157877762077115', 'commenter_id': '100034125741534', 'commenter_url': 'https://facebook.com/anson.lim.73113528?fref=nf&rc=p&__tn__=R', 'commenter_name': 'Anson Lim', 'commenter_meta': None, 'comment_text': 'Anson Lim', 'comment_time': datetime.datetime(2021, 7, 5, 18, 10, 17), 'comment_image': 'https://scontent-iad3-1.xx.fbcdn.net/v/t39.1997-6/10333122_298592793654253_1393149385_n.png?stp=cp0_dst-png_s110x80&_nc_cat=1&ccb=1-7&_nc_sid=ac3552&efg=eyJpIjoidCJ9&_nc_ohc=bIGjCAtXlAsAX-JB_2T&_nc_ht=scontent-iad3-1.xx&oh=00_AT9l77KOvKZOB003RqK4ODMpdCItONpc64TuEcA-V5gRnA&oe=62C8EFDB', 'comment_reactors': [], 'comment_reactions': None, 'comment_reaction_count': None, 'replies': []}, {'comment_id': '10157877711772115', 'comment_url': 'https://facebook.com/10157877711772115', 'commenter_id': '1448201812', 'commenter_url': 'https://facebook.com/laukhLawrence?fref=nf&rc=p&__tn__=R', 'commenter_name': 'Lawrence Lau', 'commenter_meta': None, 'comment_text': 'Lawrence Lau', 'comment_time': datetime.datetime(2021, 7, 5, 18, 10, 17), 'comment_image': 'https://media1.tenor.co/images/b03e489c0e62cf728d53f2d4e35e0088/tenor.gif?itemid=14903821&t=AAXBgH-dJC0KrAQRigSgeQ&fbclid=IwAR3i8h6I2sTmoVDSRmMpSxzT76LV_tunjCGOH_-J1rzvhz4zEj8lEDhwssc', 'comment_reactors': [], 'comment_reactions': None, 'comment_reaction_count': None, 'replies': []}, {'comment_id': '10157877687772115', 'comment_url': 'https://facebook.com/10157877687772115', 'commenter_id': '767116453', 'commenter_url': 'https://facebook.com/barberalla.sweets?fref=nf&rc=p&__tn__=R', 'commenter_name': 'Bellą San', 'commenter_meta': None, 'comment_text': 'Aravind Parthiban', 'comment_time': datetime.datetime(2021, 7, 5, 18, 10, 17), 'comment_image': None, 'comment_reactors': [], 'comment_reactions': None, 'comment_reaction_count': None, 'replies': []}, {'comment_id': '10157877680557115', 'comment_url': 'https://facebook.com/10157877680557115', 'commenter_id': '100012577413039', 'commenter_url': 'https://facebook.com/profile.php?id=100012577413039&fref=nf&rc=p&__tn__=R', 'commenter_name': 'William Ng', 'commenter_meta': None, 'comment_text': 'Wong Yu Shan', 'comment_time': datetime.datetime(2021, 7, 5, 18, 10, 17), 'comment_image': 'https://scontent.xx.fbcdn.net/m1/v/t6/An_UvxJXg9tdnLU3Y5qjPi0200MLilhzPXUgxzGjQzUMaNcmjdZA6anyrngvkdub33NZzZhd51fpCAEzNHFhko5aKRFP5fS1w_lKwYrzcNLupv27.png?ccb=10-5&oh=00_AT-6mlpruIIrE8jyyZEXu9qWo0AD9boOm8DGqnLwF3LEjw&oe=62CA89F9&_nc_sid=55e238', 'comment_reactors': [], 'comment_reactions': None, 'comment_reaction_count': None, 'replies': []}, {'comment_id': '10157877679192115', 'comment_url': 'https://facebook.com/10157877679192115', 'commenter_id': '574278794', 'commenter_url': 'https://facebook.com/hjialing?fref=nf&rc=p&__tn__=R', 'commenter_name': 'Boey Lacky', 'commenter_meta': None, 'comment_text': 'Complain coming in again', 'comment_time': datetime.datetime(2021, 7, 5, 18, 10, 17), 'comment_image': None, 'comment_reactors': [], 'comment_reactions': None, 'comment_reaction_count': None, 'replies': []}, {'comment_id': '10157877668907115', 'comment_url': 'https://facebook.com/10157877668907115', 'commenter_id': '100000191400336', 'commenter_url': 'https://facebook.com/devikutty?fref=nf&rc=p&__tn__=R', 'commenter_name': 'Devi Kuttykrishnan', 'commenter_meta': None, 'comment_text': 'Punitha Alagan', 'comment_time': datetime.datetime(2021, 7, 5, 18, 10, 17), 'comment_image': None, 'comment_reactors': [], 'comment_reactions': None, 'comment_reaction_count': None, 'replies': []}, {'comment_id': '10157877653237115', 'comment_url': 'https://facebook.com/10157877653237115', 'commenter_id': '560121103', 'commenter_url': 'https://facebook.com/desmondtanannkok?fref=nf&rc=p&__tn__=R', 'commenter_name': 'Desmond Tan', 'commenter_meta': None, 'comment_text': 'I love our GOV', 'comment_time': datetime.datetime(2021, 7, 5, 18, 10, 17), 'comment_image': None, 'comment_reactors': [], 'comment_reactions': None, 'comment_reaction_count': None, 'replies': []}, {'comment_id': '10157877652327115', 'comment_url': 'https://facebook.com/10157877652327115', 'commenter_id': '100044789933387', 'commenter_url': 'https://facebook.com/aminbai.bai.5?fref=nf&rc=p&__tn__=R', 'commenter_name': 'Amin Bai Bai', 'commenter_meta': None, 'comment_text': 'Pls STOP ALL IMPORT ! 😡', 'comment_time': datetime.datetime(2021, 7, 5, 18, 10, 17), 'comment_image': None, 'comment_reactors': [], 'comment_reactions': None, 'comment_reaction_count': None, 'replies': []}, {'comment_id': '10157877651827115', 'comment_url': 'https://facebook.com/10157877651827115', 'commenter_id': '100000083610787', 'commenter_url': 'https://facebook.com/nikaylavado?fref=nf&rc=p&__tn__=R', 'commenter_name': 'Nikay Lavado-Francisco', 'commenter_meta': None, 'comment_text': 'Jan Michael Francisco', 'comment_time': datetime.datetime(2021, 7, 5, 18, 10, 17), 'comment_image': None, 'comment_reactors': [], 'comment_reactions': None, 'comment_reaction_count': None, 'replies': []}, {'comment_id': '10157877648247115', 'comment_url': 'https://facebook.com/10157877648247115', 'commenter_id': '100001826012102', 'commenter_url': 'https://facebook.com/skgreek?fref=nf&rc=p&__tn__=R', 'commenter_name': 'Siew Kiaw Wong', 'commenter_meta': None, 'comment_text': 'Christine Chow', 'comment_time': datetime.datetime(2021, 7, 5, 18, 10, 17), 'comment_image': None, 'comment_reactors': [], 'comment_reactions': None, 'comment_reaction_count': None, 'replies': []}, {'comment_id': '10157877644932115', 'comment_url': 'https://facebook.com/10157877644932115', 'commenter_id': '546639422', 'commenter_url': 'https://facebook.com/ron.tan.142?fref=nf&rc=p&__tn__=R', 'commenter_name': 'Ron Tan', 'commenter_meta': None, 'comment_text': 'Haha who give a Fxxxk', 'comment_time': datetime.datetime(2021, 7, 5, 18, 10, 17), 'comment_image': None, 'comment_reactors': [], 'comment_reactions': None, 'comment_reaction_count': None, 'replies': []}, {'comment_id': '10157877642487115', 'comment_url': 'https://facebook.com/10157877642487115', 'commenter_id': '595124776', 'commenter_url': 'https://facebook.com/fl.frank?fref=nf&rc=p&__tn__=R', 'commenter_name': 'DS Chirst Franck', 'commenter_meta': None, 'comment_text': 'Kym Sit', 'comment_time': datetime.datetime(2021, 7, 5, 18, 10, 17), 'comment_image': None, 'comment_reactors': [], 'comment_reactions': None, 'comment_reaction_count': None, 'replies': []}, {'comment_id': '10157877639622115', 'comment_url': 'https://facebook.com/10157877639622115', 'commenter_id': '523267901', 'commenter_url': 'https://facebook.com/sheron.see?fref=nf&rc=p&__tn__=R', 'commenter_name': 'Sheron See', 'commenter_meta': None, 'comment_text': 'Perakash Ramasamy', 'comment_time': datetime.datetime(2021, 7, 5, 18, 10, 17), 'comment_image': 'https://scontent.xx.fbcdn.net/m1/v/t6/An_UvxJXg9tdnLU3Y5qjPi0200MLilhzPXUgxzGjQzUMaNcmjdZA6anyrngvkdub33NZzZhd51fpCAEzNHFhko5aKRFP5fS1w_lKwYrzcNLupv27.png?ccb=10-5&oh=00_AT-6mlpruIIrE8jyyZEXu9qWo0AD9boOm8DGqnLwF3LEjw&oe=62CA89F9&_nc_sid=55e238', 'comment_reactors': [], 'comment_reactions': None, 'comment_reaction_count': None, 'replies': []}, {'comment_id': '10157877627112115', 'comment_url': 'https://facebook.com/10157877627112115', 'commenter_id': '100012061029327', 'commenter_url': 'https://facebook.com/helyanna.manzures?fref=nf&rc=p&__tn__=R', 'commenter_name': 'Maria Mj', 'commenter_meta': None, 'comment_text': 'MHy A. Queman', 'comment_time': datetime.datetime(2021, 7, 5, 18, 10, 17), 'comment_image': None, 'comment_reactors': [], 'comment_reactions': None, 'comment_reaction_count': None, 'replies': []}, {'comment_id': '10157877605012115', 'comment_url': 'https://facebook.com/10157877605012115', 'commenter_id': '100006835681403', 'commenter_url': 'https://facebook.com/jasonlim0312?fref=nf&rc=p&__tn__=R', 'commenter_name': 'Jason Lim', 'commenter_meta': None, 'comment_text': 'Jeffrey Lim', 'comment_time': datetime.datetime(2021, 7, 5, 18, 10, 17), 'comment_image': 'https://scontent.xx.fbcdn.net/m1/v/t6/An-0mG6nK_Uk-eBw_Z5hXaQPl2Il-GAtgNisMF_CPi6qvu85Lx2-5PalMJvS7fIbuodHct0V3tJrvSxzau9mOcNxqVhoiy8lxxQ9edz-6r6_o9YroQ.png?ccb=10-5&oh=00_AT_Lrr3uHWzjzD0UJZ53cCkR3aDO5TcJfhTWEc5VZp6xJw&oe=62C94304&_nc_sid=55e238', 'comment_reactors': [], 'comment_reactions': None, 'comment_reaction_count': None, 'replies': []}, {'comment_id': '10157877604612115', 'comment_url': 'https://facebook.com/10157877604612115', 'commenter_id': '100015412307059', 'commenter_url': 'https://facebook.com/erwan.muhamad.169?fref=nf&rc=p&__tn__=R', 'commenter_name': 'Erwan Muhamad', 'commenter_meta': None, 'comment_text': 'Erwan Muhamad', 'comment_time': datetime.datetime(2021, 7, 5, 18, 10, 17), 'comment_image': 'https://scontent-iad3-1.xx.fbcdn.net/v/t39.1997-6/122482918_812223842934592_4038053328218587615_n.png?stp=cp0_dst-png_s110x80&_nc_cat=1&ccb=1-7&_nc_sid=ac3552&efg=eyJpIjoidCJ9&_nc_ohc=2QUrenTjfPEAX88i-uX&_nc_ht=scontent-iad3-1.xx&oh=00_AT-ONcZJWhp5TjxDUlnR7GfCUXzrTDs8stUY1vvMLnCgpQ&oe=62C90083', 'comment_reactors': [], 'comment_reactions': None, 'comment_reaction_count': None, 'replies': []}, {'comment_id': '10157877597017115', 'comment_url': 'https://facebook.com/10157877597017115', 'commenter_id': '100055392840352', 'commenter_url': 'https://facebook.com/lye.lim.370?fref=nf&rc=p&__tn__=R', 'commenter_name': 'Panda Lim', 'commenter_meta': None, 'comment_text': 'Panda Lim', 'comment_time': datetime.datetime(2021, 7, 5, 18, 10, 17), 'comment_image': 'https://media2.giphy.com/media/v1.Y2lkPTEyMGMwMTQ3bHFhMTQ0aWRzeGg3Z25hc2JxanFhbXg2cGxrYTA3ZW5uNmJzZnVycA/1OYxFGOQXHWRLpc8OO/giphy.gif?fbclid=IwAR2lhCs0vV4qaQ3LR5ed0NXfbnAGmHKrPfC8YQ4p-jFImEJaO8tUO1CjY4k', 'comment_reactors': [], 'comment_reactions': None, 'comment_reaction_count': None, 'replies': []}, {'comment_id': '10157877585122115', 'comment_url': 'https://facebook.com/10157877585122115', 'commenter_id': '100011163468253', 'commenter_url': 'https://facebook.com/bijoyjohnss?fref=nf&rc=p&__tn__=R', 'commenter_name': 'Bear John', 'commenter_meta': None, 'comment_text': 'gyms closed thats shag', 'comment_time': datetime.datetime(2021, 7, 5, 18, 10, 18), 'comment_image': None, 'comment_reactors': [], 'comment_reactions': None, 'comment_reaction_count': None, 'replies': []}, {'comment_id': '10157877584727115', 'comment_url': 'https://facebook.com/10157877584727115', 'commenter_id': '591229662', 'commenter_url': 'https://facebook.com/khairul.iqram?fref=nf&rc=p&__tn__=R', 'commenter_name': 'Khairul Iqram', 'commenter_meta': None, 'comment_text': 'Calvin Cheng Any wise cracks?', 'comment_time': datetime.datetime(2021, 7, 5, 18, 10, 18), 'comment_image': None, 'comment_reactors': [], 'comment_reactions': None, 'comment_reaction_count': None, 'replies': []}, {'comment_id': '10157877584077115', 'comment_url': 'https://facebook.com/10157877584077115', 'commenter_id': '695297146', 'commenter_url': 'https://facebook.com/xavier.camous?fref=nf&rc=p&__tn__=R', 'commenter_name': 'Xavier Camous', 'commenter_meta': None, 'comment_text': 'Xavier Camous', 'comment_time': datetime.datetime(2021, 7, 5, 18, 10, 18), 'comment_image': 'https://media1.tenor.co/images/df3bae55f785b215683cfb7bdbec8bf9/tenor.gif?itemid=20483040&t=AAXBf3QLsfAKfCtJfwKMEQ&fbclid=IwAR3Qef13jGIeUyaST82TG8C3fdsJYZLsjvTbKVKWwZWht-aY-F_ykgAQDaY', 'comment_reactors': [], 'comment_reactions': None, 'comment_reaction_count': None, 'replies': []}, {'comment_id': '10157877583417115', 'comment_url': 'https://facebook.com/10157877583417115', 'commenter_id': '100002211954991', 'commenter_url': 'https://facebook.com/kitcaraden?fref=nf&rc=p&__tn__=R', 'commenter_name': 'Kit Balcos', 'commenter_meta': None, 'comment_text': 'Ella Balcos', 'comment_time': datetime.datetime(2021, 7, 5, 18, 10, 18), 'comment_image': None, 'comment_reactors': [], 'comment_reactions': None, 'comment_reaction_count': None, 'replies': []}, {'comment_id': '10157877576022115', 'comment_url': 'https://facebook.com/10157877576022115', 'commenter_id': '100011940245174', 'commenter_url': 'https://facebook.com/mobenngy.gale?fref=nf&rc=p&__tn__=R', 'commenter_name': 'Beni Beni', 'commenter_meta': None, 'comment_text': 'Benz Benz Yvonne LaReina Lee', 'comment_time': datetime.datetime(2021, 7, 5, 18, 10, 18), 'comment_image': 'https://scontent.xx.fbcdn.net/m1/v/t6/An_UvxJXg9tdnLU3Y5qjPi0200MLilhzPXUgxzGjQzUMaNcmjdZA6anyrngvkdub33NZzZhd51fpCAEzNHFhko5aKRFP5fS1w_lKwYrzcNLupv27.png?ccb=10-5&oh=00_AT-6mlpruIIrE8jyyZEXu9qWo0AD9boOm8DGqnLwF3LEjw&oe=62CA89F9&_nc_sid=55e238', 'comment_reactors': [], 'comment_reactions': None, 'comment_reaction_count': None, 'replies': []}, {'comment_id': '10157877575512115', 'comment_url': 'https://facebook.com/10157877575512115', 'commenter_id': '100038339925089', 'commenter_url': 'https://facebook.com/michelle.ling.perth?fref=nf&rc=p&__tn__=R', 'commenter_name': 'Michelle Ling', 'commenter_meta': None, 'comment_text': 'Gov mistake become our problem again now. They don’t listen, they don’t listen and never never listen to the public!', 'comment_time': datetime.datetime(2021, 7, 5, 18, 10, 18), 'comment_image': None, 'comment_reactors': [], 'comment_reactions': None, 'comment_reaction_count': None, 'replies': []}, {'comment_id': '10157877571752115', 'comment_url': 'https://facebook.com/10157877571752115', 'commenter_id': '100010615151766', 'commenter_url': 'https://facebook.com/ctrxmilxh.saleh?fref=nf&rc=p&__tn__=R', 'commenter_name': 'Eylaa Ariana', 'commenter_meta': None, 'comment_text': \"First it's 8pax Maximum 2 gatherings per day. Ok.\\nAND NOW 5 PAX?? Good job SG . Good job!! Oklah 2nd year of no Hari Raya?? 👏🏻👏🏻👏🏻\", 'comment_time': datetime.datetime(2021, 7, 5, 18, 10, 18), 'comment_image': 'https://scontent.xx.fbcdn.net/m1/v/t6/An_UvxJXg9tdnLU3Y5qjPi0200MLilhzPXUgxzGjQzUMaNcmjdZA6anyrngvkdub33NZzZhd51fpCAEzNHFhko5aKRFP5fS1w_lKwYrzcNLupv27.png?ccb=10-5&oh=00_AT-6mlpruIIrE8jyyZEXu9qWo0AD9boOm8DGqnLwF3LEjw&oe=62CA89F9&_nc_sid=55e238', 'comment_reactors': [], 'comment_reactions': None, 'comment_reaction_count': None, 'replies': []}, {'comment_id': '10157877569367115', 'comment_url': 'https://facebook.com/10157877569367115', 'commenter_id': '1083853842', 'commenter_url': 'https://facebook.com/iskytrackerz?fref=nf&rc=p&__tn__=R', 'commenter_name': 'Gary Fong', 'commenter_meta': None, 'comment_text': 'Gary Fong', 'comment_time': datetime.datetime(2021, 7, 5, 18, 10, 18), 'comment_image': 'https://media.tenor.co/images/868c66f6b2ab364c41618e2724e16ac9/tenor.gif?fbclid=IwAR2TN64HeXoRbWH6gmg2SfPfPl2W4YaNFlAibghnwQRoGZynxkBUiG2jIOo', 'comment_reactors': [], 'comment_reactions': None, 'comment_reaction_count': None, 'replies': []}, {'comment_id': '10157877567032115', 'comment_url': 'https://facebook.com/10157877567032115', 'commenter_id': '100011659324879', 'commenter_url': 'https://facebook.com/selinachaztel?fref=nf&rc=p&__tn__=R', 'commenter_name': 'Selina Chaztel', 'commenter_meta': None, 'comment_text': 'Linda Lim', 'comment_time': datetime.datetime(2021, 7, 5, 18, 10, 18), 'comment_image': None, 'comment_reactors': [], 'comment_reactions': None, 'comment_reaction_count': None, 'replies': []}, {'comment_id': '10157877566157115', 'comment_url': 'https://facebook.com/10157877566157115', 'commenter_id': '1647933135', 'commenter_url': 'https://facebook.com/clifford.leesk?fref=nf&rc=p&__tn__=R', 'commenter_name': 'Clifford Lee', 'commenter_meta': None, 'comment_text': 'Idiots running this country. Open legs policies.', 'comment_time': datetime.datetime(2021, 7, 5, 18, 10, 18), 'comment_image': None, 'comment_reactors': [], 'comment_reactions': None, 'comment_reaction_count': None, 'replies': []}, {'comment_id': '10157877566127115', 'comment_url': 'https://facebook.com/10157877566127115', 'commenter_id': '100007748911791', 'commenter_url': 'https://facebook.com/inah.othman.7?fref=nf&rc=p&__tn__=R', 'commenter_name': 'Inah Othman', 'commenter_meta': None, 'comment_text': 'CLOSE BORDERS BETTER', 'comment_time': datetime.datetime(2021, 7, 5, 18, 10, 18), 'comment_image': None, 'comment_reactors': [], 'comment_reactions': None, 'comment_reaction_count': None, 'replies': []}, {'comment_id': '10157877565132115', 'comment_url': 'https://facebook.com/10157877565132115', 'commenter_id': '100000873679683', 'commenter_url': 'https://facebook.com/taib.sulaiman?fref=nf&rc=p&__tn__=R', 'commenter_name': 'Taib Sulaiman', 'commenter_meta': None, 'comment_text': 'Jacqueline Lau hahaha. Cannot say no oredi.', 'comment_time': datetime.datetime(2021, 7, 5, 18, 10, 18), 'comment_image': 'https://scontent.xx.fbcdn.net/m1/v/t6/An_F9bJG7govfshSMBkvcRLcxT0jmiXVYKtr7lgH5AHgUrjjpZ1OD0xyxXYgf7arc0lWgCdrR_KN4Mg7RSN3Gm3W6Gg03N1tQ-ZXzVvFJ_KvvB4.png?ccb=10-5&oh=00_AT_twsUvVFAYMhv1YW13iB1hBp9j_kXBJeaj0wHLghwU3Q&oe=62CA5C67&_nc_sid=55e238', 'comment_reactors': [], 'comment_reactions': None, 'comment_reaction_count': None, 'replies': []}, {'comment_id': '10157877562907115', 'comment_url': 'https://facebook.com/10157877562907115', 'commenter_id': '1022928208', 'commenter_url': 'https://facebook.com/elmo94?fref=nf&rc=p&__tn__=R', 'commenter_name': 'Ericka Louise Oira-Nacua', 'commenter_meta': None, 'comment_text': 'Francis Nacua', 'comment_time': datetime.datetime(2021, 7, 5, 18, 10, 19), 'comment_image': None, 'comment_reactors': [], 'comment_reactions': None, 'comment_reaction_count': None, 'replies': []}, {'comment_id': '10157877562777115', 'comment_url': 'https://facebook.com/10157877562777115', 'commenter_id': '581717759', 'commenter_url': 'https://facebook.com/jayanthi.kanagasabai?fref=nf&rc=p&__tn__=R', 'commenter_name': 'Jayanthi Kanagasabai', 'commenter_meta': None, 'comment_text': 'Expected', 'comment_time': datetime.datetime(2021, 7, 5, 18, 10, 19), 'comment_image': None, 'comment_reactors': [], 'comment_reactions': None, 'comment_reaction_count': None, 'replies': []}, {'comment_id': '10157877562552115', 'comment_url': 'https://facebook.com/10157877562552115', 'commenter_id': '1821168351', 'commenter_url': 'https://facebook.com/caryljoyce.ecal?fref=nf&rc=p&__tn__=R', 'commenter_name': 'Caryl Joyce Ecal', 'commenter_meta': None, 'comment_text': 'Nattarada Nirutnapaphan', 'comment_time': datetime.datetime(2021, 7, 5, 18, 10, 19), 'comment_image': None, 'comment_reactors': [], 'comment_reactions': None, 'comment_reaction_count': None, 'replies': []}, {'comment_id': '10157877562212115', 'comment_url': 'https://facebook.com/10157877562212115', 'commenter_id': '1010892982', 'commenter_url': 'https://facebook.com/Thereisonly1Shahzeb?fref=nf&rc=p&__tn__=R', 'commenter_name': 'Shahzeb Nasir', 'commenter_meta': None, 'comment_text': 'Gretchen Lim', 'comment_time': datetime.datetime(2021, 7, 5, 18, 10, 19), 'comment_image': None, 'comment_reactors': [], 'comment_reactions': None, 'comment_reaction_count': None, 'replies': []}, {'comment_id': '10157877562182115', 'comment_url': 'https://facebook.com/10157877562182115', 'commenter_id': '533171685', 'commenter_url': 'https://facebook.com/profile.php?id=533171685&fref=nf&rc=p&__tn__=R', 'commenter_name': 'David Lim', 'commenter_meta': None, 'comment_text': 'Pls pray for our medical staff hell weeks ahead. 🙏', 'comment_time': datetime.datetime(2021, 7, 5, 18, 10, 19), 'comment_image': 'https://scontent.xx.fbcdn.net/m1/v/t6/An_UvxJXg9tdnLU3Y5qjPi0200MLilhzPXUgxzGjQzUMaNcmjdZA6anyrngvkdub33NZzZhd51fpCAEzNHFhko5aKRFP5fS1w_lKwYrzcNLupv27.png?ccb=10-5&oh=00_AT-6mlpruIIrE8jyyZEXu9qWo0AD9boOm8DGqnLwF3LEjw&oe=62CA89F9&_nc_sid=55e238', 'comment_reactors': [], 'comment_reactions': None, 'comment_reaction_count': None, 'replies': []}, {'comment_id': '10157877560237115', 'comment_url': 'https://facebook.com/10157877560237115', 'commenter_id': '100000088458166', 'commenter_url': 'https://facebook.com/fyn.cheong?fref=nf&rc=p&__tn__=R', 'commenter_name': 'Fyn Cheong', 'commenter_meta': None, 'comment_text': 'Chin Ai Sheng', 'comment_time': datetime.datetime(2021, 7, 5, 18, 10, 19), 'comment_image': 'https://scontent.xx.fbcdn.net/m1/v/t6/An_0KlxkBZwTJgSV9p2pDQkaZcuO9nFP4R72nyZmCnWKIxG_MSUbtZ_uBFHkKhQVvjgeou7ijfWCAKaRfSRFqQS9RcziMUL4BTtfpxJ2KfylUgpq.png?ccb=10-5&oh=00_AT-\\\\-\\\\YxM0-UEOY3J0ieaO-6gfer10WSGyb2YcrD-z_CGUWw&oe=62C9F693&_nc_sid=55e238', 'comment_reactors': [], 'comment_reactions': None, 'comment_reaction_count': None, 'replies': []}, {'comment_id': '10157877559912115', 'comment_url': 'https://facebook.com/10157877559912115', 'commenter_id': '653457577', 'commenter_url': 'https://facebook.com/fionchang?fref=nf&rc=p&__tn__=R', 'commenter_name': 'Viruz Chang', 'commenter_meta': None, 'comment_text': 'Avie Gan-Koh', 'comment_time': datetime.datetime(2021, 7, 5, 18, 10, 19), 'comment_image': None, 'comment_reactors': [], 'comment_reactions': None, 'comment_reaction_count': None, 'replies': []}, {'comment_id': '10157877559837115', 'comment_url': 'https://facebook.com/10157877559837115', 'commenter_id': '1768011289', 'commenter_url': 'https://facebook.com/isha.mahajan.372?fref=nf&rc=p&__tn__=R', 'commenter_name': 'Isha Mahajan', 'commenter_meta': None, 'comment_text': 'Misha Mahajan 🙄', 'comment_time': datetime.datetime(2021, 7, 5, 18, 10, 19), 'comment_image': None, 'comment_reactors': [], 'comment_reactions': None, 'comment_reaction_count': None, 'replies': []}, {'comment_id': '10157877559407115', 'comment_url': 'https://facebook.com/10157877559407115', 'commenter_id': '1032613182', 'commenter_url': 'https://facebook.com/cherrybelsl?fref=nf&rc=p&__tn__=R', 'commenter_name': 'Cherry Landicho', 'commenter_meta': None, 'comment_text': 'Caren Landicho-Dela Cruz', 'comment_time': datetime.datetime(2021, 7, 5, 18, 10, 19), 'comment_image': None, 'comment_reactors': [], 'comment_reactions': None, 'comment_reaction_count': None, 'replies': []}, {'comment_id': '10157877557777115', 'comment_url': 'https://facebook.com/10157877557777115', 'commenter_id': '641359092', 'commenter_url': 'https://facebook.com/xhohtcx?fref=nf&rc=p&__tn__=R', 'commenter_name': 'Clara Ho', 'commenter_meta': None, 'comment_text': 'Naveen Kumar 🥲', 'comment_time': datetime.datetime(2021, 7, 5, 18, 10, 19), 'comment_image': None, 'comment_reactors': [], 'comment_reactions': None, 'comment_reaction_count': None, 'replies': []}, {'comment_id': '10157877557492115', 'comment_url': 'https://facebook.com/10157877557492115', 'commenter_id': '100015850965668', 'commenter_url': 'https://facebook.com/chau.laupor?fref=nf&rc=p&__tn__=R', 'commenter_name': 'Chau Lau Por', 'commenter_meta': None, 'comment_text': 'increase our relief again', 'comment_time': datetime.datetime(2021, 7, 5, 18, 10, 19), 'comment_image': None, 'comment_reactors': [], 'comment_reactions': None, 'comment_reaction_count': None, 'replies': []}, {'comment_id': '10157877557127115', 'comment_url': 'https://facebook.com/10157877557127115', 'commenter_id': '506596896', 'commenter_url': 'https://facebook.com/adzri.adziz?fref=nf&rc=p&__tn__=R', 'commenter_name': 'Adzri Adziz', 'commenter_meta': None, 'comment_text': 'Adzri Adziz', 'comment_time': datetime.datetime(2021, 7, 5, 18, 10, 19), 'comment_image': 'https://media.tenor.co/images/31c656212d5b6ea138b7a7f147407b90/tenor.gif?fbclid=IwAR1-TfFguIOY9B6LpHaANtBHGhT446wCRCbITyXO5Li-iOnhl52xQ2UvWB8', 'comment_reactors': [], 'comment_reactions': None, 'comment_reaction_count': None, 'replies': []}, {'comment_id': '10157877556407115', 'comment_url': 'https://facebook.com/10157877556407115', 'commenter_id': '1400010110', 'commenter_url': 'https://facebook.com/bryan.o.peng?fref=nf&rc=p&__tn__=R', 'commenter_name': 'Bryan Ong Chee Peng', 'commenter_meta': None, 'comment_text': 'Bryan Ong Chee Peng', 'comment_time': datetime.datetime(2021, 7, 5, 18, 10, 19), 'comment_image': 'https://media1.tenor.co/images/5b02ea0011f35e9527cfaf695c212404/tenor.gif?itemid=19548773&t=AAXBfyOqnbMKStVPsArvAQ&fbclid=IwAR1iKZ1IjSVu2A1hayjavkvtn2v8cNW_z4ITsZWCKvb_fc__7o_ehwl2YHY', 'comment_reactors': [], 'comment_reactions': None, 'comment_reaction_count': None, 'replies': []}, {'comment_id': '10157877555727115', 'comment_url': 'https://facebook.com/10157877555727115', 'commenter_id': '100000259550270', 'commenter_url': 'https://facebook.com/wanning.moomoo?fref=nf&rc=p&__tn__=R', 'commenter_name': 'Wanning Ng', 'commenter_meta': None, 'comment_text': 'Nicholas Boon', 'comment_time': datetime.datetime(2021, 7, 5, 18, 10, 19), 'comment_image': None, 'comment_reactors': [], 'comment_reactions': None, 'comment_reaction_count': None, 'replies': []}, {'comment_id': '10157877554442115', 'comment_url': 'https://facebook.com/10157877554442115', 'commenter_id': '100007312453324', 'commenter_url': 'https://facebook.com/fijah.hassim?fref=nf&rc=p&__tn__=R', 'commenter_name': 'Fijah Hassim', 'commenter_meta': None, 'comment_text': 'Fijah Hassim', 'comment_time': datetime.datetime(2021, 7, 5, 18, 10, 19), 'comment_image': 'https://media1.tenor.co/images/674f58331801bfd25db7344ff825f03c/tenor.gif?itemid=14834371&fbclid=IwAR0xxP8oibonFKPcEJVgjSFlISdNHlrOY2kJig1uZ6GQxqguGHMWL3ldV8g', 'comment_reactors': [], 'comment_reactions': None, 'comment_reaction_count': None, 'replies': []}, {'comment_id': '10157877554087115', 'comment_url': 'https://facebook.com/10157877554087115', 'commenter_id': '786817067', 'commenter_url': 'https://facebook.com/gary.soo.79?fref=nf&rc=p&__tn__=R', 'commenter_name': 'Gary Soo', 'commenter_meta': None, 'comment_text': 'early early dun listen to citizen now we are the one to suffer 😡😡😡', 'comment_time': datetime.datetime(2021, 7, 5, 18, 10, 19), 'comment_image': 'https://scontent.xx.fbcdn.net/m1/v/t6/An_UvxJXg9tdnLU3Y5qjPi0200MLilhzPXUgxzGjQzUMaNcmjdZA6anyrngvkdub33NZzZhd51fpCAEzNHFhko5aKRFP5fS1w_lKwYrzcNLupv27.png?ccb=10-5&oh=00_AT-6mlpruIIrE8jyyZEXu9qWo0AD9boOm8DGqnLwF3LEjw&oe=62CA89F9&_nc_sid=55e238', 'comment_reactors': [], 'comment_reactions': None, 'comment_reaction_count': None, 'replies': []}, {'comment_id': '10157877552807115', 'comment_url': 'https://facebook.com/10157877552807115', 'commenter_id': '100001812731565', 'commenter_url': 'https://facebook.com/wantiansim?fref=nf&rc=p&__tn__=R', 'commenter_name': '婉甜', 'commenter_meta': None, 'comment_text': 'Mark Law No more gym👋🏻👋🏻', 'comment_time': datetime.datetime(2021, 7, 5, 18, 10, 19), 'comment_image': None, 'comment_reactors': [], 'comment_reactions': None, 'comment_reaction_count': None, 'replies': []}, {'comment_id': '10157877552497115', 'comment_url': 'https://facebook.com/10157877552497115', 'commenter_id': '100046255082779', 'commenter_url': 'https://facebook.com/ryan.neo.142035?fref=nf&rc=p&__tn__=R', 'commenter_name': 'WY Liang', 'commenter_meta': None, 'comment_text': '5 ,people ? Why? Should be 2', 'comment_time': datetime.datetime(2021, 7, 5, 18, 10, 19), 'comment_image': None, 'comment_reactors': [], 'comment_reactions': None, 'comment_reaction_count': None, 'replies': []}, {'comment_id': '10157877552397115', 'comment_url': 'https://facebook.com/10157877552397115', 'commenter_id': '100047016120001', 'commenter_url': 'https://facebook.com/alan.yeo.161214?fref=nf&rc=p&__tn__=R', 'commenter_name': 'Amanda Teo', 'commenter_meta': None, 'comment_text': \"Use your brain la, we citizen's follow the rules and regulations. But you just open your legs for them, will it help? Drawing millions and millions but where your brain?\", 'comment_time': datetime.datetime(2021, 7, 5, 18, 10, 19), 'comment_image': 'https://scontent.xx.fbcdn.net/m1/v/t6/An_UvxJXg9tdnLU3Y5qjPi0200MLilhzPXUgxzGjQzUMaNcmjdZA6anyrngvkdub33NZzZhd51fpCAEzNHFhko5aKRFP5fS1w_lKwYrzcNLupv27.png?ccb=10-5&oh=00_AT-6mlpruIIrE8jyyZEXu9qWo0AD9boOm8DGqnLwF3LEjw&oe=62CA89F9&_nc_sid=55e238', 'comment_reactors': [], 'comment_reactions': None, 'comment_reaction_count': None, 'replies': []}, {'comment_id': '10157877550197115', 'comment_url': 'https://facebook.com/10157877550197115', 'commenter_id': '1022209872', 'commenter_url': 'https://facebook.com/lee.sutton.142?fref=nf&rc=p&__tn__=R', 'commenter_name': 'Lee Sutton', 'commenter_meta': None, 'comment_text': 'Vanessa Chien Ling', 'comment_time': datetime.datetime(2021, 7, 5, 18, 10, 19), 'comment_image': 'https://scontent.xx.fbcdn.net/m1/v/t6/An_UvxJXg9tdnLU3Y5qjPi0200MLilhzPXUgxzGjQzUMaNcmjdZA6anyrngvkdub33NZzZhd51fpCAEzNHFhko5aKRFP5fS1w_lKwYrzcNLupv27.png?ccb=10-5&oh=00_AT-6mlpruIIrE8jyyZEXu9qWo0AD9boOm8DGqnLwF3LEjw&oe=62CA89F9&_nc_sid=55e238', 'comment_reactors': [], 'comment_reactions': None, 'comment_reaction_count': None, 'replies': []}, {'comment_id': '10157877549617115', 'comment_url': 'https://facebook.com/10157877549617115', 'commenter_id': '1009025212', 'commenter_url': 'https://facebook.com/benedict.seeto?fref=nf&rc=p&__tn__=R', 'commenter_name': 'Benedict Seeto', 'commenter_meta': None, 'comment_text': 'Christie Phang', 'comment_time': datetime.datetime(2021, 7, 5, 18, 10, 19), 'comment_image': 'https://scontent.xx.fbcdn.net/m1/v/t6/An-0mG6nK_Uk-eBw_Z5hXaQPl2Il-GAtgNisMF_CPi6qvu85Lx2-5PalMJvS7fIbuodHct0V3tJrvSxzau9mOcNxqVhoiy8lxxQ9edz-6r6_o9YroQ.png?ccb=10-5&oh=00_AT_Lrr3uHWzjzD0UJZ53cCkR3aDO5TcJfhTWEc5VZp6xJw&oe=62C94304&_nc_sid=55e238', 'comment_reactors': [], 'comment_reactions': None, 'comment_reaction_count': None, 'replies': []}, {'comment_id': '10157877548982115', 'comment_url': 'https://facebook.com/10157877548982115', 'commenter_id': '1601048400', 'commenter_url': 'https://facebook.com/XTRX2?fref=nf&rc=p&__tn__=R', 'commenter_name': 'Goh Poh Guan', 'commenter_meta': None, 'comment_text': '🤬🤬🤬🤬🤬', 'comment_time': datetime.datetime(2021, 7, 5, 18, 10, 19), 'comment_image': None, 'comment_reactors': [], 'comment_reactions': None, 'comment_reaction_count': None, 'replies': []}, {'comment_id': '10157877548877115', 'comment_url': 'https://facebook.com/10157877548877115', 'commenter_id': '533171685', 'commenter_url': 'https://facebook.com/profile.php?id=533171685&fref=nf&rc=p&__tn__=R', 'commenter_name': 'David Lim', 'commenter_meta': None, 'comment_text': 'Time to stop importing', 'comment_time': datetime.datetime(2021, 7, 5, 18, 10, 19), 'comment_image': 'https://scontent.xx.fbcdn.net/m1/v/t6/An_UvxJXg9tdnLU3Y5qjPi0200MLilhzPXUgxzGjQzUMaNcmjdZA6anyrngvkdub33NZzZhd51fpCAEzNHFhko5aKRFP5fS1w_lKwYrzcNLupv27.png?ccb=10-5&oh=00_AT-6mlpruIIrE8jyyZEXu9qWo0AD9boOm8DGqnLwF3LEjw&oe=62CA89F9&_nc_sid=55e238', 'comment_reactors': [], 'comment_reactions': None, 'comment_reaction_count': None, 'replies': []}, {'comment_id': '10157877547812115', 'comment_url': 'https://facebook.com/10157877547812115', 'commenter_id': '890540573', 'commenter_url': 'https://facebook.com/kumaaran.km?fref=nf&rc=p&__tn__=R', 'commenter_name': 'Kumaaran Km', 'commenter_meta': None, 'comment_text': 'Here we go again', 'comment_time': datetime.datetime(2021, 7, 5, 18, 10, 19), 'comment_image': 'https://scontent.xx.fbcdn.net/m1/v/t6/An_UvxJXg9tdnLU3Y5qjPi0200MLilhzPXUgxzGjQzUMaNcmjdZA6anyrngvkdub33NZzZhd51fpCAEzNHFhko5aKRFP5fS1w_lKwYrzcNLupv27.png?ccb=10-5&oh=00_AT-6mlpruIIrE8jyyZEXu9qWo0AD9boOm8DGqnLwF3LEjw&oe=62CA89F9&_nc_sid=55e238', 'comment_reactors': [], 'comment_reactions': None, 'comment_reaction_count': None, 'replies': []}, {'comment_id': '10157877547342115', 'comment_url': 'https://facebook.com/10157877547342115', 'commenter_id': '100012851293509', 'commenter_url': 'https://facebook.com/missywinter.kimmy?fref=nf&rc=p&__tn__=R', 'commenter_name': 'Kimmy', 'commenter_meta': None, 'comment_text': 'Stan Ng', 'comment_time': datetime.datetime(2021, 7, 5, 18, 10, 19), 'comment_image': None, 'comment_reactors': [], 'comment_reactions': None, 'comment_reaction_count': None, 'replies': []}, {'comment_id': '10157877546747115', 'comment_url': 'https://facebook.com/10157877546747115', 'commenter_id': '1583614068', 'commenter_url': 'https://facebook.com/zubaidah.faizal?fref=nf&rc=p&__tn__=R', 'commenter_name': 'Zubaidah Faizal', 'commenter_meta': None, 'comment_text': 'Normal lah! Hari raya coming ma.. ownself bring in all this virus from india,philipine\\ns n indonesia n now we are the one suffering n have to face all this nonsense! Pls la LW! U are 1 damn faggot!', 'comment_time': datetime.datetime(2021, 7, 5, 18, 10, 19), 'comment_image': 'https://scontent.xx.fbcdn.net/m1/v/t6/An_UvxJXg9tdnLU3Y5qjPi0200MLilhzPXUgxzGjQzUMaNcmjdZA6anyrngvkdub33NZzZhd51fpCAEzNHFhko5aKRFP5fS1w_lKwYrzcNLupv27.png?ccb=10-5&oh=00_AT-6mlpruIIrE8jyyZEXu9qWo0AD9boOm8DGqnLwF3LEjw&oe=62CA89F9&_nc_sid=55e238', 'comment_reactors': [], 'comment_reactions': None, 'comment_reaction_count': None, 'replies': []}, {'comment_id': '10157877545462115', 'comment_url': 'https://facebook.com/10157877545462115', 'commenter_id': '756879914', 'commenter_url': 'https://facebook.com/ohkalyn?fref=nf&rc=p&__tn__=R', 'commenter_name': 'Oh Kalyn', 'commenter_meta': None, 'comment_text': 'ZK ZK', 'comment_time': datetime.datetime(2021, 7, 5, 18, 10, 19), 'comment_image': 'https://scontent.xx.fbcdn.net/m1/v/t6/An_UvxJXg9tdnLU3Y5qjPi0200MLilhzPXUgxzGjQzUMaNcmjdZA6anyrngvkdub33NZzZhd51fpCAEzNHFhko5aKRFP5fS1w_lKwYrzcNLupv27.png?ccb=10-5&oh=00_AT-6mlpruIIrE8jyyZEXu9qWo0AD9boOm8DGqnLwF3LEjw&oe=62CA89F9&_nc_sid=55e238', 'comment_reactors': [], 'comment_reactions': None, 'comment_reaction_count': None, 'replies': []}, {'comment_id': '10157877544937115', 'comment_url': 'https://facebook.com/10157877544937115', 'commenter_id': '1222634423', 'commenter_url': 'https://facebook.com/junnairstrong?fref=nf&rc=p&__tn__=R', 'commenter_name': 'Junnair Manla', 'commenter_meta': None, 'comment_text': 'Yassy Fernandez-Balad\\nad Cj Baladad', 'comment_time': datetime.datetime(2021, 7, 5, 18, 10, 19), 'comment_image': 'https://scontent.xx.fbcdn.net/m1/v/t6/An-0mG6nK_Uk-eBw_Z5hXaQPl2Il-GAtgNisMF_CPi6qvu85Lx2-5PalMJvS7fIbuodHct0V3tJrvSxzau9mOcNxqVhoiy8lxxQ9edz-6r6_o9YroQ.png?ccb=10-5&oh=00_AT_Lrr3uHWzjzD0UJZ53cCkR3aDO5TcJfhTWEc5VZp6xJw&oe=62C94304&_nc_sid=55e238', 'comment_reactors': [], 'comment_reactions': None, 'comment_reaction_count': None, 'replies': []}, {'comment_id': '10157877544437115', 'comment_url': 'https://facebook.com/10157877544437115', 'commenter_id': '819099755', 'commenter_url': 'https://facebook.com/nasri.lah?fref=nf&rc=p&__tn__=R', 'commenter_name': 'Muhammad Nasri', 'commenter_meta': None, 'comment_text': 'Afiq Azman', 'comment_time': datetime.datetime(2021, 7, 5, 18, 10, 19), 'comment_image': 'https://scontent.xx.fbcdn.net/m1/v/t6/An_UvxJXg9tdnLU3Y5qjPi0200MLilhzPXUgxzGjQzUMaNcmjdZA6anyrngvkdub33NZzZhd51fpCAEzNHFhko5aKRFP5fS1w_lKwYrzcNLupv27.png?ccb=10-5&oh=00_AT-6mlpruIIrE8jyyZEXu9qWo0AD9boOm8DGqnLwF3LEjw&oe=62CA89F9&_nc_sid=55e238', 'comment_reactors': [], 'comment_reactions': None, 'comment_reaction_count': None, 'replies': []}, {'comment_id': '10157877544362115', 'comment_url': 'https://facebook.com/10157877544362115', 'commenter_id': '1541958777', 'commenter_url': 'https://facebook.com/axzryie?fref=nf&rc=p&__tn__=R', 'commenter_name': 'Muhd Azri Azman', 'commenter_meta': None, 'comment_text': 'Muhd Hilmi Othman', 'comment_time': datetime.datetime(2021, 7, 5, 18, 10, 19), 'comment_image': None, 'comment_reactors': [], 'comment_reactions': None, 'comment_reaction_count': None, 'replies': []}, {'comment_id': '10157877544342115', 'comment_url': 'https://facebook.com/10157877544342115', 'commenter_id': '100001359351830', 'commenter_url': 'https://facebook.com/dorine.chen.5?fref=nf&rc=p&__tn__=R', 'commenter_name': 'Dorine Chen', 'commenter_meta': None, 'comment_text': 'Kelvin Yap', 'comment_time': datetime.datetime(2021, 7, 5, 18, 10, 20), 'comment_image': None, 'comment_reactors': [], 'comment_reactions': None, 'comment_reaction_count': None, 'replies': []}, {'comment_id': '10157877544287115', 'comment_url': 'https://facebook.com/10157877544287115', 'commenter_id': '100007759875180', 'commenter_url': 'https://facebook.com/profile.php?id=100007759875180&fref=nf&rc=p&__tn__=R', 'commenter_name': 'Indra Ganthi', 'commenter_meta': None, 'comment_text': 'Nnickki Kuna', 'comment_time': datetime.datetime(2021, 7, 5, 18, 10, 20), 'comment_image': None, 'comment_reactors': [], 'comment_reactions': None, 'comment_reaction_count': None, 'replies': []}, {'comment_id': '10157877544267115', 'comment_url': 'https://facebook.com/10157877544267115', 'commenter_id': '100001530800177', 'commenter_url': 'https://facebook.com/weiteng.ang?fref=nf&rc=p&__tn__=R', 'commenter_name': 'Wei Teng Ang', 'commenter_meta': None, 'comment_text': 'Alicia Yong', 'comment_time': datetime.datetime(2021, 7, 5, 18, 10, 20), 'comment_image': 'https://scontent.xx.fbcdn.net/m1/v/t6/An_0KlxkBZwTJgSV9p2pDQkaZcuO9nFP4R72nyZmCnWKIxG_MSUbtZ_uBFHkKhQVvjgeou7ijfWCAKaRfSRFqQS9RcziMUL4BTtfpxJ2KfylUgpq.png?ccb=10-5&oh=00_AT-\\\\-\\\\YxM0-UEOY3J0ieaO-6gfer10WSGyb2YcrD-z_CGUWw&oe=62C9F693&_nc_sid=55e238', 'comment_reactors': [], 'comment_reactions': None, 'comment_reaction_count': None, 'replies': []}, {'comment_id': '10157877544207115', 'comment_url': 'https://facebook.com/10157877544207115', 'commenter_id': '1489693205', 'commenter_url': 'https://facebook.com/Terence1765?fref=nf&rc=p&__tn__=R', 'commenter_name': 'Terence Garfield Chua', 'commenter_meta': None, 'comment_text': 'Kathi Michael', 'comment_time': datetime.datetime(2021, 7, 5, 18, 10, 20), 'comment_image': None, 'comment_reactors': [], 'comment_reactions': None, 'comment_reaction_count': None, 'replies': []}, {'comment_id': '10157877544097115', 'comment_url': 'https://facebook.com/10157877544097115', 'commenter_id': '663513471', 'commenter_url': 'https://facebook.com/nurshidah.ibrahim?fref=nf&rc=p&__tn__=R', 'commenter_name': 'Nurshidah Ibrahim', 'commenter_meta': None, 'comment_text': 'Man Mohd', 'comment_time': datetime.datetime(2021, 7, 5, 18, 10, 20), 'comment_image': None, 'comment_reactors': [], 'comment_reactions': None, 'comment_reaction_count': None, 'replies': []}, {'comment_id': '10157877543992115', 'comment_url': 'https://facebook.com/10157877543992115', 'commenter_id': '629187501', 'commenter_url': 'https://facebook.com/suriana.phiong?fref=nf&rc=p&__tn__=R', 'commenter_name': 'Ancilla Zhang', 'commenter_meta': None, 'comment_text': 'yesssssss!!!!', 'comment_time': datetime.datetime(2021, 7, 5, 18, 10, 20), 'comment_image': None, 'comment_reactors': [], 'comment_reactions': None, 'comment_reaction_count': None, 'replies': []}, {'comment_id': '10157877543862115', 'comment_url': 'https://facebook.com/10157877543862115', 'commenter_id': '1668227534', 'commenter_url': 'https://facebook.com/VincentZ5?fref=nf&rc=p&__tn__=R', 'commenter_name': 'Vincent Ong', 'commenter_meta': None, 'comment_text': '3/4 CB', 'comment_time': datetime.datetime(2021, 7, 5, 18, 10, 20), 'comment_image': None, 'comment_reactors': [], 'comment_reactions': None, 'comment_reaction_count': None, 'replies': []}, {'comment_id': '10157877543197115', 'comment_url': 'https://facebook.com/10157877543197115', 'commenter_id': '578606137', 'commenter_url': 'https://facebook.com/ammarkadir?fref=nf&rc=p&__tn__=R', 'commenter_name': 'Ammar Kadir', 'commenter_meta': None, 'comment_text': 'Marvi Sattar', 'comment_time': datetime.datetime(2021, 7, 5, 18, 10, 20), 'comment_image': None, 'comment_reactors': [], 'comment_reactions': None, 'comment_reaction_count': None, 'replies': []}, {'comment_id': '10157877543157115', 'comment_url': 'https://facebook.com/10157877543157115', 'commenter_id': '1851146076', 'commenter_url': 'https://facebook.com/yap.binghao?fref=nf&rc=p&__tn__=R', 'commenter_name': 'Bing Hao Yap', 'commenter_meta': None, 'comment_text': 'Beatrice Ng Beatz', 'comment_time': datetime.datetime(2021, 7, 5, 18, 10, 20), 'comment_image': None, 'comment_reactors': [], 'comment_reactions': None, 'comment_reaction_count': None, 'replies': []}, {'comment_id': '10157877542537115', 'comment_url': 'https://facebook.com/10157877542537115', 'commenter_id': '1798342633', 'commenter_url': 'https://facebook.com/Slownstupid?fref=nf&rc=p&__tn__=R', 'commenter_name': 'M H Chua', 'commenter_meta': None, 'comment_text': 'M H Chua', 'comment_time': datetime.datetime(2021, 7, 5, 18, 10, 20), 'comment_image': 'https://media1.tenor.co/images/01994252bf4386a0128e59d825a38bd4/tenor.gif?itemid=14659109&t=AAXBfv5s0AQKrAQRigSgeQ&fbclid=IwAR2nY1sRQhAO_e2T9FO59nGF3wBC-6PHt0emsDPORCzZ2s7bXKGO4Hs3gwY', 'comment_reactors': [], 'comment_reactions': None, 'comment_reaction_count': None, 'replies': []}, {'comment_id': '10157877542152115', 'comment_url': 'https://facebook.com/10157877542152115', 'commenter_id': '632215772', 'commenter_url': 'https://facebook.com/christiansuu?fref=nf&rc=p&__tn__=R', 'commenter_name': 'Christian Su', 'commenter_meta': None, 'comment_text': 'Cesa Su', 'comment_time': datetime.datetime(2021, 7, 5, 18, 10, 20), 'comment_image': None, 'comment_reactors': [], 'comment_reactions': None, 'comment_reaction_count': None, 'replies': []}, {'comment_id': '10157877542082115', 'comment_url': 'https://facebook.com/10157877542082115', 'commenter_id': '100056857804842', 'commenter_url': 'https://facebook.com/fari.cantona.75?fref=nf&rc=p&__tn__=R', 'commenter_name': \"Amir Uk's\", 'commenter_meta': None, 'comment_text': 'Start from 10may', 'comment_time': datetime.datetime(2021, 7, 5, 18, 10, 20), 'comment_image': 'https://scontent.xx.fbcdn.net/m1/v/t6/An_UvxJXg9tdnLU3Y5qjPi0200MLilhzPXUgxzGjQzUMaNcmjdZA6anyrngvkdub33NZzZhd51fpCAEzNHFhko5aKRFP5fS1w_lKwYrzcNLupv27.png?ccb=10-5&oh=00_AT-6mlpruIIrE8jyyZEXu9qWo0AD9boOm8DGqnLwF3LEjw&oe=62CA89F9&_nc_sid=55e238', 'comment_reactors': [], 'comment_reactions': None, 'comment_reaction_count': None, 'replies': []}], 'reactors': None, 'w3_fb_url': None, 'reactions': None, 'reaction_count': None, 'with': None, 'page_id': '129011692114', 'sharers': None, 'image_id': None, 'image_ids': [], 'was_live': False}\n"
     ]
    }
   ],
   "source": [
    "for post in get_posts(post_urls=fb_selected['full_link_fb'][0:1],\n",
    "                      cookies='../data/cookies_fb.txt',\n",
    "                      options={'comments': True, 'progress': True, 'allow_extra_requests': False}):\n",
    "    print(post)"
   ]
  },
  {
   "cell_type": "markdown",
   "id": "117ee16e",
   "metadata": {},
   "source": [
    "From the above we can see that:\n",
    "- According to the `comments` parameter, there are 502 comments for the first post.\n",
    "- Data on each comment is a nested json under the `comments_full` parameter."
   ]
  },
  {
   "cell_type": "markdown",
   "id": "ea45782d",
   "metadata": {},
   "source": [
    "I then tried to extract comments from the first post using the package, and found that while I identified 502 comments for the first post, I could only extract 252 of them and not all 502. Perhaps only the top-level comments (and not replies to comments) can be extracted."
   ]
  },
  {
   "cell_type": "code",
   "execution_count": 6,
   "id": "0e7fa593",
   "metadata": {},
   "outputs": [
    {
     "data": {
      "application/vnd.jupyter.widget-view+json": {
       "model_id": "0f2917f69773413488e962c4a3343840",
       "version_major": 2,
       "version_minor": 0
      },
      "text/plain": [
       "  0%|          | 0/269 [00:00<?, ?it/s]"
      ]
     },
     "metadata": {},
     "output_type": "display_data"
    },
    {
     "name": "stdout",
     "output_type": "stream",
     "text": [
      "502 252\n"
     ]
    }
   ],
   "source": [
    "for post in get_posts(post_urls=fb_selected['full_link_fb'][0:1],\n",
    "                      cookies = '../data/cookies_fb.txt',\n",
    "                      options={'comments': True, 'progress': True}):\n",
    "    print(post['comments'], len(post['comments_full']))"
   ]
  },
  {
   "cell_type": "markdown",
   "id": "8a990b4d",
   "metadata": {},
   "source": [
    "Finally, I wrote the following code to extract comments from all 36 Facebook posts and output the results as a dataframe, then exported it as a CSV file."
   ]
  },
  {
   "cell_type": "code",
   "execution_count": 35,
   "id": "b2d4e8cb",
   "metadata": {
    "scrolled": true
   },
   "outputs": [
    {
     "data": {
      "application/vnd.jupyter.widget-view+json": {
       "model_id": "dad11b759a0b491c90ae488d0e934a26",
       "version_major": 2,
       "version_minor": 0
      },
      "text/plain": [
       "  0%|          | 0/269 [00:00<?, ?it/s]"
      ]
     },
     "metadata": {},
     "output_type": "display_data"
    },
    {
     "data": {
      "application/vnd.jupyter.widget-view+json": {
       "model_id": "4b52b6f59f3546a0a568db032c2d8805",
       "version_major": 2,
       "version_minor": 0
      },
      "text/plain": [
       "  0%|          | 0/541 [00:00<?, ?it/s]"
      ]
     },
     "metadata": {},
     "output_type": "display_data"
    },
    {
     "name": "stderr",
     "output_type": "stream",
     "text": [
      "C:\\Users\\nicol\\anaconda3\\envs\\qmss_thesis\\lib\\site-packages\\dateparser\\date_parser.py:35: PytzUsageWarning: The localize method is no longer necessary, as this time zone supports the fold attribute (PEP 495). For more details on migrating to a PEP 495-compliant implementation, see https://pytz-deprecation-shim.readthedocs.io/en/latest/migration.html\n",
      "  date_obj = stz.localize(date_obj)\n"
     ]
    },
    {
     "data": {
      "application/vnd.jupyter.widget-view+json": {
       "model_id": "f6f3ab14c10640909430d223e39b2e37",
       "version_major": 2,
       "version_minor": 0
      },
      "text/plain": [
       "  0%|          | 0/25 [00:00<?, ?it/s]"
      ]
     },
     "metadata": {},
     "output_type": "display_data"
    },
    {
     "data": {
      "application/vnd.jupyter.widget-view+json": {
       "model_id": "735323b77e664992907798e0a50cd95e",
       "version_major": 2,
       "version_minor": 0
      },
      "text/plain": [
       "  0%|          | 0/51 [00:00<?, ?it/s]"
      ]
     },
     "metadata": {},
     "output_type": "display_data"
    },
    {
     "data": {
      "application/vnd.jupyter.widget-view+json": {
       "model_id": "13a016b894af47f39594bb0763ee2df1",
       "version_major": 2,
       "version_minor": 0
      },
      "text/plain": [
       "  0%|          | 0/488 [00:00<?, ?it/s]"
      ]
     },
     "metadata": {},
     "output_type": "display_data"
    },
    {
     "name": "stderr",
     "output_type": "stream",
     "text": [
      "C:\\Users\\nicol\\anaconda3\\envs\\qmss_thesis\\lib\\site-packages\\dateparser\\date_parser.py:35: PytzUsageWarning: The localize method is no longer necessary, as this time zone supports the fold attribute (PEP 495). For more details on migrating to a PEP 495-compliant implementation, see https://pytz-deprecation-shim.readthedocs.io/en/latest/migration.html\n",
      "  date_obj = stz.localize(date_obj)\n"
     ]
    },
    {
     "data": {
      "application/vnd.jupyter.widget-view+json": {
       "model_id": "c382e75a96ac4a41ab4c325fa8bfea29",
       "version_major": 2,
       "version_minor": 0
      },
      "text/plain": [
       "  0%|          | 0/488 [00:00<?, ?it/s]"
      ]
     },
     "metadata": {},
     "output_type": "display_data"
    },
    {
     "name": "stderr",
     "output_type": "stream",
     "text": [
      "C:\\Users\\nicol\\anaconda3\\envs\\qmss_thesis\\lib\\site-packages\\dateparser\\date_parser.py:35: PytzUsageWarning: The localize method is no longer necessary, as this time zone supports the fold attribute (PEP 495). For more details on migrating to a PEP 495-compliant implementation, see https://pytz-deprecation-shim.readthedocs.io/en/latest/migration.html\n",
      "  date_obj = stz.localize(date_obj)\n"
     ]
    },
    {
     "data": {
      "application/vnd.jupyter.widget-view+json": {
       "model_id": "addb8850887e44c6920f37647a9b5566",
       "version_major": 2,
       "version_minor": 0
      },
      "text/plain": [
       "  0%|          | 0/614 [00:00<?, ?it/s]"
      ]
     },
     "metadata": {},
     "output_type": "display_data"
    },
    {
     "name": "stderr",
     "output_type": "stream",
     "text": [
      "C:\\Users\\nicol\\anaconda3\\envs\\qmss_thesis\\lib\\site-packages\\dateparser\\date_parser.py:35: PytzUsageWarning: The localize method is no longer necessary, as this time zone supports the fold attribute (PEP 495). For more details on migrating to a PEP 495-compliant implementation, see https://pytz-deprecation-shim.readthedocs.io/en/latest/migration.html\n",
      "  date_obj = stz.localize(date_obj)\n"
     ]
    },
    {
     "data": {
      "application/vnd.jupyter.widget-view+json": {
       "model_id": "9192c104559043ef97d56f54bdd517b3",
       "version_major": 2,
       "version_minor": 0
      },
      "text/plain": [
       "  0%|          | 0/211 [00:00<?, ?it/s]"
      ]
     },
     "metadata": {},
     "output_type": "display_data"
    },
    {
     "name": "stderr",
     "output_type": "stream",
     "text": [
      "C:\\Users\\nicol\\anaconda3\\envs\\qmss_thesis\\lib\\site-packages\\dateparser\\date_parser.py:35: PytzUsageWarning: The localize method is no longer necessary, as this time zone supports the fold attribute (PEP 495). For more details on migrating to a PEP 495-compliant implementation, see https://pytz-deprecation-shim.readthedocs.io/en/latest/migration.html\n",
      "  date_obj = stz.localize(date_obj)\n"
     ]
    },
    {
     "data": {
      "application/vnd.jupyter.widget-view+json": {
       "model_id": "094a6ae21ad040a2bd35dfc8f2aaf70c",
       "version_major": 2,
       "version_minor": 0
      },
      "text/plain": [
       "  0%|          | 0/488 [00:00<?, ?it/s]"
      ]
     },
     "metadata": {},
     "output_type": "display_data"
    },
    {
     "name": "stderr",
     "output_type": "stream",
     "text": [
      "C:\\Users\\nicol\\anaconda3\\envs\\qmss_thesis\\lib\\site-packages\\dateparser\\date_parser.py:35: PytzUsageWarning: The localize method is no longer necessary, as this time zone supports the fold attribute (PEP 495). For more details on migrating to a PEP 495-compliant implementation, see https://pytz-deprecation-shim.readthedocs.io/en/latest/migration.html\n",
      "  date_obj = stz.localize(date_obj)\n"
     ]
    },
    {
     "data": {
      "application/vnd.jupyter.widget-view+json": {
       "model_id": "1992e4f6f93a41e09a817e7f22d9364f",
       "version_major": 2,
       "version_minor": 0
      },
      "text/plain": [
       "  0%|          | 0/101 [00:00<?, ?it/s]"
      ]
     },
     "metadata": {},
     "output_type": "display_data"
    },
    {
     "data": {
      "application/vnd.jupyter.widget-view+json": {
       "model_id": "352dd631fca340d9a626af007fed7654",
       "version_major": 2,
       "version_minor": 0
      },
      "text/plain": [
       "  0%|          | 0/208 [00:00<?, ?it/s]"
      ]
     },
     "metadata": {},
     "output_type": "display_data"
    },
    {
     "data": {
      "application/vnd.jupyter.widget-view+json": {
       "model_id": "2e93281c383645868ea97b2d2c893a21",
       "version_major": 2,
       "version_minor": 0
      },
      "text/plain": [
       "  0%|          | 0/275 [00:00<?, ?it/s]"
      ]
     },
     "metadata": {},
     "output_type": "display_data"
    },
    {
     "data": {
      "application/vnd.jupyter.widget-view+json": {
       "model_id": "bbc16f3f443a4268a9ef310a7452ac26",
       "version_major": 2,
       "version_minor": 0
      },
      "text/plain": [
       "  0%|          | 0/275 [00:00<?, ?it/s]"
      ]
     },
     "metadata": {},
     "output_type": "display_data"
    },
    {
     "data": {
      "application/vnd.jupyter.widget-view+json": {
       "model_id": "297e6d9e543748f390a0d6ef587b8978",
       "version_major": 2,
       "version_minor": 0
      },
      "text/plain": [
       "  0%|          | 0/276 [00:00<?, ?it/s]"
      ]
     },
     "metadata": {},
     "output_type": "display_data"
    },
    {
     "name": "stderr",
     "output_type": "stream",
     "text": [
      "C:\\Users\\nicol\\anaconda3\\envs\\qmss_thesis\\lib\\site-packages\\dateparser\\date_parser.py:35: PytzUsageWarning: The localize method is no longer necessary, as this time zone supports the fold attribute (PEP 495). For more details on migrating to a PEP 495-compliant implementation, see https://pytz-deprecation-shim.readthedocs.io/en/latest/migration.html\n",
      "  date_obj = stz.localize(date_obj)\n"
     ]
    },
    {
     "data": {
      "application/vnd.jupyter.widget-view+json": {
       "model_id": "4f36a23bb96f4301a42c5258f5155295",
       "version_major": 2,
       "version_minor": 0
      },
      "text/plain": [
       "  0%|          | 0/41 [00:00<?, ?it/s]"
      ]
     },
     "metadata": {},
     "output_type": "display_data"
    },
    {
     "data": {
      "application/vnd.jupyter.widget-view+json": {
       "model_id": "37b4c4250ebe47c2b2c3ec1ce90b1a75",
       "version_major": 2,
       "version_minor": 0
      },
      "text/plain": [
       "  0%|          | 0/482 [00:00<?, ?it/s]"
      ]
     },
     "metadata": {},
     "output_type": "display_data"
    },
    {
     "name": "stderr",
     "output_type": "stream",
     "text": [
      "C:\\Users\\nicol\\anaconda3\\envs\\qmss_thesis\\lib\\site-packages\\dateparser\\date_parser.py:35: PytzUsageWarning: The localize method is no longer necessary, as this time zone supports the fold attribute (PEP 495). For more details on migrating to a PEP 495-compliant implementation, see https://pytz-deprecation-shim.readthedocs.io/en/latest/migration.html\n",
      "  date_obj = stz.localize(date_obj)\n"
     ]
    },
    {
     "data": {
      "application/vnd.jupyter.widget-view+json": {
       "model_id": "44e5183053d548908eb55e5bc7a01e25",
       "version_major": 2,
       "version_minor": 0
      },
      "text/plain": [
       "  0%|          | 0/482 [00:00<?, ?it/s]"
      ]
     },
     "metadata": {},
     "output_type": "display_data"
    },
    {
     "name": "stderr",
     "output_type": "stream",
     "text": [
      "C:\\Users\\nicol\\anaconda3\\envs\\qmss_thesis\\lib\\site-packages\\dateparser\\date_parser.py:35: PytzUsageWarning: The localize method is no longer necessary, as this time zone supports the fold attribute (PEP 495). For more details on migrating to a PEP 495-compliant implementation, see https://pytz-deprecation-shim.readthedocs.io/en/latest/migration.html\n",
      "  date_obj = stz.localize(date_obj)\n"
     ]
    },
    {
     "data": {
      "application/vnd.jupyter.widget-view+json": {
       "model_id": "9057cbe51e694769983fa0578ba60fe6",
       "version_major": 2,
       "version_minor": 0
      },
      "text/plain": [
       "  0%|          | 0/482 [00:00<?, ?it/s]"
      ]
     },
     "metadata": {},
     "output_type": "display_data"
    },
    {
     "name": "stderr",
     "output_type": "stream",
     "text": [
      "C:\\Users\\nicol\\anaconda3\\envs\\qmss_thesis\\lib\\site-packages\\dateparser\\date_parser.py:35: PytzUsageWarning: The localize method is no longer necessary, as this time zone supports the fold attribute (PEP 495). For more details on migrating to a PEP 495-compliant implementation, see https://pytz-deprecation-shim.readthedocs.io/en/latest/migration.html\n",
      "  date_obj = stz.localize(date_obj)\n"
     ]
    },
    {
     "data": {
      "application/vnd.jupyter.widget-view+json": {
       "model_id": "2a7072d573c648d9b86bacab530f3f7c",
       "version_major": 2,
       "version_minor": 0
      },
      "text/plain": [
       "  0%|          | 0/388 [00:00<?, ?it/s]"
      ]
     },
     "metadata": {},
     "output_type": "display_data"
    },
    {
     "data": {
      "application/vnd.jupyter.widget-view+json": {
       "model_id": "5a3dbe6508cc43f78a3284c13dbeb25d",
       "version_major": 2,
       "version_minor": 0
      },
      "text/plain": [
       "  0%|          | 0/158 [00:00<?, ?it/s]"
      ]
     },
     "metadata": {},
     "output_type": "display_data"
    },
    {
     "data": {
      "application/vnd.jupyter.widget-view+json": {
       "model_id": "5a1cbdf641b84baf9f81ad3f33eed09b",
       "version_major": 2,
       "version_minor": 0
      },
      "text/plain": [
       "  0%|          | 0/302 [00:00<?, ?it/s]"
      ]
     },
     "metadata": {},
     "output_type": "display_data"
    },
    {
     "data": {
      "application/vnd.jupyter.widget-view+json": {
       "model_id": "f752e6dbbc944ce6ae570e861c3e742c",
       "version_major": 2,
       "version_minor": 0
      },
      "text/plain": [
       "  0%|          | 0/302 [00:00<?, ?it/s]"
      ]
     },
     "metadata": {},
     "output_type": "display_data"
    },
    {
     "data": {
      "application/vnd.jupyter.widget-view+json": {
       "model_id": "8e77e66c0fd14cb8beaf7db36bdaf4ca",
       "version_major": 2,
       "version_minor": 0
      },
      "text/plain": [
       "  0%|          | 0/426 [00:00<?, ?it/s]"
      ]
     },
     "metadata": {},
     "output_type": "display_data"
    },
    {
     "data": {
      "application/vnd.jupyter.widget-view+json": {
       "model_id": "be5c4227c5924fcc92718fcae67505c7",
       "version_major": 2,
       "version_minor": 0
      },
      "text/plain": [
       "  0%|          | 0/48 [00:00<?, ?it/s]"
      ]
     },
     "metadata": {},
     "output_type": "display_data"
    },
    {
     "data": {
      "application/vnd.jupyter.widget-view+json": {
       "model_id": "a33b2567799c4ba69600cf371ebc4b64",
       "version_major": 2,
       "version_minor": 0
      },
      "text/plain": [
       "  0%|          | 0/131 [00:00<?, ?it/s]"
      ]
     },
     "metadata": {},
     "output_type": "display_data"
    },
    {
     "data": {
      "application/vnd.jupyter.widget-view+json": {
       "model_id": "55c3abf0f669404e92e9d8c2f1d73b9d",
       "version_major": 2,
       "version_minor": 0
      },
      "text/plain": [
       "  0%|          | 0/622 [00:00<?, ?it/s]"
      ]
     },
     "metadata": {},
     "output_type": "display_data"
    },
    {
     "name": "stderr",
     "output_type": "stream",
     "text": [
      "C:\\Users\\nicol\\anaconda3\\envs\\qmss_thesis\\lib\\site-packages\\dateparser\\date_parser.py:35: PytzUsageWarning: The localize method is no longer necessary, as this time zone supports the fold attribute (PEP 495). For more details on migrating to a PEP 495-compliant implementation, see https://pytz-deprecation-shim.readthedocs.io/en/latest/migration.html\n",
      "  date_obj = stz.localize(date_obj)\n"
     ]
    },
    {
     "data": {
      "application/vnd.jupyter.widget-view+json": {
       "model_id": "0704c85c021a422cb7ab81fb22b43a31",
       "version_major": 2,
       "version_minor": 0
      },
      "text/plain": [
       "  0%|          | 0/105 [00:00<?, ?it/s]"
      ]
     },
     "metadata": {},
     "output_type": "display_data"
    },
    {
     "data": {
      "application/vnd.jupyter.widget-view+json": {
       "model_id": "316ea7a8e7e1464586acc32c9d3347a2",
       "version_major": 2,
       "version_minor": 0
      },
      "text/plain": [
       "  0%|          | 0/157 [00:00<?, ?it/s]"
      ]
     },
     "metadata": {},
     "output_type": "display_data"
    },
    {
     "data": {
      "application/vnd.jupyter.widget-view+json": {
       "model_id": "8ce933d4fb0e44cfbecb302e0ee04c96",
       "version_major": 2,
       "version_minor": 0
      },
      "text/plain": [
       "  0%|          | 0/188 [00:00<?, ?it/s]"
      ]
     },
     "metadata": {},
     "output_type": "display_data"
    },
    {
     "name": "stderr",
     "output_type": "stream",
     "text": [
      "C:\\Users\\nicol\\anaconda3\\envs\\qmss_thesis\\lib\\site-packages\\dateparser\\date_parser.py:35: PytzUsageWarning: The localize method is no longer necessary, as this time zone supports the fold attribute (PEP 495). For more details on migrating to a PEP 495-compliant implementation, see https://pytz-deprecation-shim.readthedocs.io/en/latest/migration.html\n",
      "  date_obj = stz.localize(date_obj)\n"
     ]
    },
    {
     "data": {
      "application/vnd.jupyter.widget-view+json": {
       "model_id": "5f0ad2eb810441c4be1c37a43d152f68",
       "version_major": 2,
       "version_minor": 0
      },
      "text/plain": [
       "  0%|          | 0/371 [00:00<?, ?it/s]"
      ]
     },
     "metadata": {},
     "output_type": "display_data"
    },
    {
     "data": {
      "application/vnd.jupyter.widget-view+json": {
       "model_id": "35465f9cfd5c49aca07b753dab94f582",
       "version_major": 2,
       "version_minor": 0
      },
      "text/plain": [
       "  0%|          | 0/125 [00:00<?, ?it/s]"
      ]
     },
     "metadata": {},
     "output_type": "display_data"
    },
    {
     "data": {
      "application/vnd.jupyter.widget-view+json": {
       "model_id": "9bdfbb5171884a4d9b397cb57e57c092",
       "version_major": 2,
       "version_minor": 0
      },
      "text/plain": [
       "  0%|          | 0/17 [00:00<?, ?it/s]"
      ]
     },
     "metadata": {},
     "output_type": "display_data"
    },
    {
     "data": {
      "application/vnd.jupyter.widget-view+json": {
       "model_id": "68aa5cb7af9a4362a2698c903e70ed3e",
       "version_major": 2,
       "version_minor": 0
      },
      "text/plain": [
       "  0%|          | 0/588 [00:00<?, ?it/s]"
      ]
     },
     "metadata": {},
     "output_type": "display_data"
    },
    {
     "data": {
      "application/vnd.jupyter.widget-view+json": {
       "model_id": "c4117b7869d0437fae82ca687d0a5d4e",
       "version_major": 2,
       "version_minor": 0
      },
      "text/plain": [
       "  0%|          | 0/273 [00:00<?, ?it/s]"
      ]
     },
     "metadata": {},
     "output_type": "display_data"
    }
   ],
   "source": [
    "idx = 0\n",
    "while (idx < 34):\n",
    "    start = idx\n",
    "    idx += 1\n",
    "    end = idx\n",
    "    sample = fb_selected['full_link_fb'][start:end]\n",
    "    \n",
    "    for post in get_posts(post_urls=sample,\n",
    "                          cookies='../data/cookies_fb.txt',\n",
    "                          timeout=180,\n",
    "                          options={'comments': True, 'progress': True}):\n",
    "        for c in post['comments_full']:\n",
    "            comments.append({\n",
    "                'comment_id': c['comment_id'],\n",
    "                'comment_text': c['comment_text']\n",
    "            })\n",
    "            comments_df = pd.DataFrame(comments)\n",
    "            \n",
    "    sleep(10)"
   ]
  },
  {
   "cell_type": "code",
   "execution_count": 36,
   "id": "64e54dd9",
   "metadata": {
    "scrolled": true
   },
   "outputs": [
    {
     "data": {
      "text/html": [
       "<div>\n",
       "<style scoped>\n",
       "    .dataframe tbody tr th:only-of-type {\n",
       "        vertical-align: middle;\n",
       "    }\n",
       "\n",
       "    .dataframe tbody tr th {\n",
       "        vertical-align: top;\n",
       "    }\n",
       "\n",
       "    .dataframe thead th {\n",
       "        text-align: right;\n",
       "    }\n",
       "</style>\n",
       "<table border=\"1\" class=\"dataframe\">\n",
       "  <thead>\n",
       "    <tr style=\"text-align: right;\">\n",
       "      <th></th>\n",
       "      <th>comment_id</th>\n",
       "      <th>comment_text</th>\n",
       "    </tr>\n",
       "  </thead>\n",
       "  <tbody>\n",
       "    <tr>\n",
       "      <th>0</th>\n",
       "      <td>10157877630867115</td>\n",
       "      <td>The opening up in early April was way too much/fast. 75% back to office is practically allowing for all to go back. When the borders were wide open to practically all. Too hasty.</td>\n",
       "    </tr>\n",
       "    <tr>\n",
       "      <th>1</th>\n",
       "      <td>10157877561317115</td>\n",
       "      <td>Please ban India flights, India citizens India passport holders India born anyone with a travel history to India. Once you have this ban we will be like before zero community case. Other countries have imposed total ban on India flights and citizens including jail and fine. We should follow in order to protect our citizens.</td>\n",
       "    </tr>\n",
       "    <tr>\n",
       "      <th>2</th>\n",
       "      <td>10157877564117115</td>\n",
       "      <td>Haiz.. no apologies for importing cases. All your doing leh garmen. I'm going to have a friendly chat with my MP!</td>\n",
       "    </tr>\n",
       "    <tr>\n",
       "      <th>3</th>\n",
       "      <td>10157877557412115</td>\n",
       "      <td>Tighten local measures but fail to shut borders completely on travelers from high-risk countries. What's the point then? What a shame!</td>\n",
       "    </tr>\n",
       "    <tr>\n",
       "      <th>4</th>\n",
       "      <td>10157877555032115</td>\n",
       "      <td>Blaming us for not following safe distancing measures again instead of blaming themselves.</td>\n",
       "    </tr>\n",
       "    <tr>\n",
       "      <th>...</th>\n",
       "      <td>...</td>\n",
       "      <td>...</td>\n",
       "    </tr>\n",
       "    <tr>\n",
       "      <th>13612</th>\n",
       "      <td>10158186215552115</td>\n",
       "      <td>Trying very hard to push that all singaporeans get infected and finally admitted that healthcare has been overwhelmed.</td>\n",
       "    </tr>\n",
       "    <tr>\n",
       "      <th>13613</th>\n",
       "      <td>10158186213932115</td>\n",
       "      <td>Omg. This is real bad. And really bad foresight and estimation. So if all the beds are filled, where are we going to place more patients and etc. And yet they gonna open more VTL lanes in the coming months. I presume MTF knows that we have yet to reach the peak and we have yet reached our worst period. Everyone please stay vigilant now and we are on our own.</td>\n",
       "    </tr>\n",
       "    <tr>\n",
       "      <th>13614</th>\n",
       "      <td>10158186213787115</td>\n",
       "      <td>Endemic ma, didnt they know this?</td>\n",
       "    </tr>\n",
       "    <tr>\n",
       "      <th>13615</th>\n",
       "      <td>10158186211122115</td>\n",
       "      <td>If healthcare system is overstretched, why you still open more VTL so contradictory?\\n\\nDo you hv enough hospital beds for the imports ?\\n\\nPlease spare a thought for our healthcare workers, we already hv enough problems.\\n\\nhttps://\\nwww.change.org/\\np/\\ngeneral-public-c\\noncerns-for-imp\\nort-cases</td>\n",
       "    </tr>\n",
       "    <tr>\n",
       "      <th>13616</th>\n",
       "      <td>10158186210967115</td>\n",
       "      <td>Overwhelmed by antivaxxers</td>\n",
       "    </tr>\n",
       "  </tbody>\n",
       "</table>\n",
       "<p>13617 rows × 2 columns</p>\n",
       "</div>"
      ],
      "text/plain": [
       "              comment_id  \\\n",
       "0      10157877630867115   \n",
       "1      10157877561317115   \n",
       "2      10157877564117115   \n",
       "3      10157877557412115   \n",
       "4      10157877555032115   \n",
       "...                  ...   \n",
       "13612  10158186215552115   \n",
       "13613  10158186213932115   \n",
       "13614  10158186213787115   \n",
       "13615  10158186211122115   \n",
       "13616  10158186210967115   \n",
       "\n",
       "                                                                                                                                                                                                                                                                                                                                                                   comment_text  \n",
       "0                                                                                                                                                                                            The opening up in early April was way too much/fast. 75% back to office is practically allowing for all to go back. When the borders were wide open to practically all. Too hasty.  \n",
       "1                                         Please ban India flights, India citizens India passport holders India born anyone with a travel history to India. Once you have this ban we will be like before zero community case. Other countries have imposed total ban on India flights and citizens including jail and fine. We should follow in order to protect our citizens.  \n",
       "2                                                                                                                                                                                                                                                             Haiz.. no apologies for importing cases. All your doing leh garmen. I'm going to have a friendly chat with my MP!  \n",
       "3                                                                                                                                                                                                                                        Tighten local measures but fail to shut borders completely on travelers from high-risk countries. What's the point then? What a shame!  \n",
       "4                                                                                                                                                                                                                                                                                    Blaming us for not following safe distancing measures again instead of blaming themselves.  \n",
       "...                                                                                                                                                                                                                                                                                                                                                                         ...  \n",
       "13612                                                                                                                                                                                                                                                    Trying very hard to push that all singaporeans get infected and finally admitted that healthcare has been overwhelmed.  \n",
       "13613  Omg. This is real bad. And really bad foresight and estimation. So if all the beds are filled, where are we going to place more patients and etc. And yet they gonna open more VTL lanes in the coming months. I presume MTF knows that we have yet to reach the peak and we have yet reached our worst period. Everyone please stay vigilant now and we are on our own.  \n",
       "13614                                                                                                                                                                                                                                                                                                                                         Endemic ma, didnt they know this?  \n",
       "13615                                                              If healthcare system is overstretched, why you still open more VTL so contradictory?\\n\\nDo you hv enough hospital beds for the imports ?\\n\\nPlease spare a thought for our healthcare workers, we already hv enough problems.\\n\\nhttps://\\nwww.change.org/\\np/\\ngeneral-public-c\\noncerns-for-imp\\nort-cases  \n",
       "13616                                                                                                                                                                                                                                                                                                                                                Overwhelmed by antivaxxers  \n",
       "\n",
       "[13617 rows x 2 columns]"
      ]
     },
     "execution_count": 36,
     "metadata": {},
     "output_type": "execute_result"
    }
   ],
   "source": [
    "comments_df"
   ]
  },
  {
   "cell_type": "code",
   "execution_count": 37,
   "id": "2f382f88",
   "metadata": {},
   "outputs": [],
   "source": [
    "comments_df.to_csv('../data/comments_fb_all.csv', encoding='utf-8-sig')"
   ]
  }
 ],
 "metadata": {
  "kernelspec": {
   "display_name": "Python 3 (ipykernel)",
   "language": "python",
   "name": "python3"
  },
  "language_info": {
   "codemirror_mode": {
    "name": "ipython",
    "version": 3
   },
   "file_extension": ".py",
   "mimetype": "text/x-python",
   "name": "python",
   "nbconvert_exporter": "python",
   "pygments_lexer": "ipython3",
   "version": "3.9.12"
  }
 },
 "nbformat": 4,
 "nbformat_minor": 5
}
