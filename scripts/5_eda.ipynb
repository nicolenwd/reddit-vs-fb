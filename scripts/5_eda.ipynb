{
 "cells": [
  {
   "cell_type": "markdown",
   "id": "db5af994",
   "metadata": {},
   "source": [
    "# 5. Script for exploratory data analysis"
   ]
  },
  {
   "cell_type": "markdown",
   "id": "c3275cdd",
   "metadata": {},
   "source": [
    "## Set Up"
   ]
  },
  {
   "cell_type": "code",
   "execution_count": 13,
   "id": "d0f1e235",
   "metadata": {},
   "outputs": [],
   "source": [
    "import pandas as pd"
   ]
  },
  {
   "cell_type": "code",
   "execution_count": 14,
   "id": "aa9b9613",
   "metadata": {},
   "outputs": [],
   "source": [
    "pd.set_option('display.max_colwidth', None)"
   ]
  },
  {
   "cell_type": "code",
   "execution_count": 15,
   "id": "bbbc89a9",
   "metadata": {},
   "outputs": [],
   "source": [
    "path = \"C:\\\\Users\\\\nicol\\\\Documents\\\\2021-2022\\\\QMSS\\\\Spring'22\\\\QMSS 5999 Thesis\\\\data\\\\\"\n",
    "\n",
    "# Import score data\n",
    "reddit = pd.read_csv(path+'comments_reddit_all_score.csv', index_col=0, dtype={'comment_id': 'str', 'text': 'str'}, keep_default_na=False)\n",
    "fb = pd.read_csv(path+'comments_fb_all_score.csv', index_col=0, dtype={'comment_id': 'str', 'text': 'str'}, keep_default_na=False)\n",
    "reddit = reddit[['comment_id', 'score_vader', 'score_tb']]\n",
    "fb = fb[['comment_id', 'score_vader', 'score_tb']]"
   ]
  },
  {
   "cell_type": "code",
   "execution_count": 16,
   "id": "b520cacb",
   "metadata": {
    "scrolled": true
   },
   "outputs": [
    {
     "data": {
      "text/html": [
       "<div>\n",
       "<style scoped>\n",
       "    .dataframe tbody tr th:only-of-type {\n",
       "        vertical-align: middle;\n",
       "    }\n",
       "\n",
       "    .dataframe tbody tr th {\n",
       "        vertical-align: top;\n",
       "    }\n",
       "\n",
       "    .dataframe thead th {\n",
       "        text-align: right;\n",
       "    }\n",
       "</style>\n",
       "<table border=\"1\" class=\"dataframe\">\n",
       "  <thead>\n",
       "    <tr style=\"text-align: right;\">\n",
       "      <th></th>\n",
       "      <th>comment_id</th>\n",
       "      <th>score_vader</th>\n",
       "      <th>score_tb</th>\n",
       "    </tr>\n",
       "  </thead>\n",
       "  <tbody>\n",
       "    <tr>\n",
       "      <th>0</th>\n",
       "      <td>gww5drd</td>\n",
       "      <td>-0.2960</td>\n",
       "      <td>0.0000</td>\n",
       "    </tr>\n",
       "    <tr>\n",
       "      <th>1</th>\n",
       "      <td>gww5jfz</td>\n",
       "      <td>-0.2462</td>\n",
       "      <td>0.2083</td>\n",
       "    </tr>\n",
       "    <tr>\n",
       "      <th>2</th>\n",
       "      <td>gww68ne</td>\n",
       "      <td>-0.4404</td>\n",
       "      <td>-0.4000</td>\n",
       "    </tr>\n",
       "    <tr>\n",
       "      <th>3</th>\n",
       "      <td>gww6icr</td>\n",
       "      <td>-0.9668</td>\n",
       "      <td>-0.2444</td>\n",
       "    </tr>\n",
       "    <tr>\n",
       "      <th>4</th>\n",
       "      <td>gww6luf</td>\n",
       "      <td>0.0772</td>\n",
       "      <td>-0.1000</td>\n",
       "    </tr>\n",
       "  </tbody>\n",
       "</table>\n",
       "</div>"
      ],
      "text/plain": [
       "  comment_id  score_vader  score_tb\n",
       "0    gww5drd      -0.2960    0.0000\n",
       "1    gww5jfz      -0.2462    0.2083\n",
       "2    gww68ne      -0.4404   -0.4000\n",
       "3    gww6icr      -0.9668   -0.2444\n",
       "4    gww6luf       0.0772   -0.1000"
      ]
     },
     "metadata": {},
     "output_type": "display_data"
    },
    {
     "data": {
      "text/html": [
       "<div>\n",
       "<style scoped>\n",
       "    .dataframe tbody tr th:only-of-type {\n",
       "        vertical-align: middle;\n",
       "    }\n",
       "\n",
       "    .dataframe tbody tr th {\n",
       "        vertical-align: top;\n",
       "    }\n",
       "\n",
       "    .dataframe thead th {\n",
       "        text-align: right;\n",
       "    }\n",
       "</style>\n",
       "<table border=\"1\" class=\"dataframe\">\n",
       "  <thead>\n",
       "    <tr style=\"text-align: right;\">\n",
       "      <th></th>\n",
       "      <th>comment_id</th>\n",
       "      <th>score_vader</th>\n",
       "      <th>score_tb</th>\n",
       "    </tr>\n",
       "  </thead>\n",
       "  <tbody>\n",
       "    <tr>\n",
       "      <th>0</th>\n",
       "      <td>10157877630867115</td>\n",
       "      <td>0.0000</td>\n",
       "      <td>0.0000</td>\n",
       "    </tr>\n",
       "    <tr>\n",
       "      <th>1</th>\n",
       "      <td>10157877561317115</td>\n",
       "      <td>-0.7044</td>\n",
       "      <td>0.0479</td>\n",
       "    </tr>\n",
       "    <tr>\n",
       "      <th>2</th>\n",
       "      <td>10157877564117115</td>\n",
       "      <td>0.3382</td>\n",
       "      <td>0.4688</td>\n",
       "    </tr>\n",
       "    <tr>\n",
       "      <th>3</th>\n",
       "      <td>10157877557412115</td>\n",
       "      <td>-0.8805</td>\n",
       "      <td>-0.1250</td>\n",
       "    </tr>\n",
       "    <tr>\n",
       "      <th>4</th>\n",
       "      <td>10157877555032115</td>\n",
       "      <td>-0.8319</td>\n",
       "      <td>0.2500</td>\n",
       "    </tr>\n",
       "  </tbody>\n",
       "</table>\n",
       "</div>"
      ],
      "text/plain": [
       "          comment_id  score_vader  score_tb\n",
       "0  10157877630867115       0.0000    0.0000\n",
       "1  10157877561317115      -0.7044    0.0479\n",
       "2  10157877564117115       0.3382    0.4688\n",
       "3  10157877557412115      -0.8805   -0.1250\n",
       "4  10157877555032115      -0.8319    0.2500"
      ]
     },
     "metadata": {},
     "output_type": "display_data"
    }
   ],
   "source": [
    "display(reddit.head())\n",
    "display(fb.head())"
   ]
  },
  {
   "cell_type": "markdown",
   "id": "9f26dc1a",
   "metadata": {},
   "source": [
    "## Summary statistics"
   ]
  },
  {
   "cell_type": "markdown",
   "id": "82ff8006",
   "metadata": {},
   "source": [
    "To better understand the distribution of the Reddit and Facebook polarity scores, I will first obtain some summary statistics\n",
    "like counts, min/max values, mean, standard deviation, etc. "
   ]
  },
  {
   "cell_type": "code",
   "execution_count": 17,
   "id": "3e82a806",
   "metadata": {
    "scrolled": true
   },
   "outputs": [
    {
     "data": {
      "text/html": [
       "<div>\n",
       "<style scoped>\n",
       "    .dataframe tbody tr th:only-of-type {\n",
       "        vertical-align: middle;\n",
       "    }\n",
       "\n",
       "    .dataframe tbody tr th {\n",
       "        vertical-align: top;\n",
       "    }\n",
       "\n",
       "    .dataframe thead th {\n",
       "        text-align: right;\n",
       "    }\n",
       "</style>\n",
       "<table border=\"1\" class=\"dataframe\">\n",
       "  <thead>\n",
       "    <tr style=\"text-align: right;\">\n",
       "      <th></th>\n",
       "      <th>score_vader</th>\n",
       "      <th>score_tb</th>\n",
       "    </tr>\n",
       "  </thead>\n",
       "  <tbody>\n",
       "    <tr>\n",
       "      <th>count</th>\n",
       "      <td>9112.000000</td>\n",
       "      <td>9112.000000</td>\n",
       "    </tr>\n",
       "    <tr>\n",
       "      <th>mean</th>\n",
       "      <td>0.034487</td>\n",
       "      <td>0.047475</td>\n",
       "    </tr>\n",
       "    <tr>\n",
       "      <th>std</th>\n",
       "      <td>0.471123</td>\n",
       "      <td>0.246515</td>\n",
       "    </tr>\n",
       "    <tr>\n",
       "      <th>min</th>\n",
       "      <td>-0.995900</td>\n",
       "      <td>-1.000000</td>\n",
       "    </tr>\n",
       "    <tr>\n",
       "      <th>25%</th>\n",
       "      <td>-0.296000</td>\n",
       "      <td>-0.011450</td>\n",
       "    </tr>\n",
       "    <tr>\n",
       "      <th>50%</th>\n",
       "      <td>0.000000</td>\n",
       "      <td>0.000000</td>\n",
       "    </tr>\n",
       "    <tr>\n",
       "      <th>75%</th>\n",
       "      <td>0.402850</td>\n",
       "      <td>0.150000</td>\n",
       "    </tr>\n",
       "    <tr>\n",
       "      <th>max</th>\n",
       "      <td>0.998800</td>\n",
       "      <td>1.000000</td>\n",
       "    </tr>\n",
       "  </tbody>\n",
       "</table>\n",
       "</div>"
      ],
      "text/plain": [
       "       score_vader     score_tb\n",
       "count  9112.000000  9112.000000\n",
       "mean      0.034487     0.047475\n",
       "std       0.471123     0.246515\n",
       "min      -0.995900    -1.000000\n",
       "25%      -0.296000    -0.011450\n",
       "50%       0.000000     0.000000\n",
       "75%       0.402850     0.150000\n",
       "max       0.998800     1.000000"
      ]
     },
     "execution_count": 17,
     "metadata": {},
     "output_type": "execute_result"
    }
   ],
   "source": [
    "# Obtaining Reddit summary statistics\n",
    "reddit.describe()"
   ]
  },
  {
   "cell_type": "code",
   "execution_count": 18,
   "id": "735aea84",
   "metadata": {
    "scrolled": true
   },
   "outputs": [
    {
     "data": {
      "text/html": [
       "<div>\n",
       "<style scoped>\n",
       "    .dataframe tbody tr th:only-of-type {\n",
       "        vertical-align: middle;\n",
       "    }\n",
       "\n",
       "    .dataframe tbody tr th {\n",
       "        vertical-align: top;\n",
       "    }\n",
       "\n",
       "    .dataframe thead th {\n",
       "        text-align: right;\n",
       "    }\n",
       "</style>\n",
       "<table border=\"1\" class=\"dataframe\">\n",
       "  <thead>\n",
       "    <tr style=\"text-align: right;\">\n",
       "      <th></th>\n",
       "      <th>score_vader</th>\n",
       "      <th>score_tb</th>\n",
       "    </tr>\n",
       "  </thead>\n",
       "  <tbody>\n",
       "    <tr>\n",
       "      <th>count</th>\n",
       "      <td>6607.000000</td>\n",
       "      <td>6607.000000</td>\n",
       "    </tr>\n",
       "    <tr>\n",
       "      <th>mean</th>\n",
       "      <td>0.046572</td>\n",
       "      <td>0.058876</td>\n",
       "    </tr>\n",
       "    <tr>\n",
       "      <th>std</th>\n",
       "      <td>0.444347</td>\n",
       "      <td>0.247841</td>\n",
       "    </tr>\n",
       "    <tr>\n",
       "      <th>min</th>\n",
       "      <td>-0.996800</td>\n",
       "      <td>-1.000000</td>\n",
       "    </tr>\n",
       "    <tr>\n",
       "      <th>25%</th>\n",
       "      <td>-0.202300</td>\n",
       "      <td>0.000000</td>\n",
       "    </tr>\n",
       "    <tr>\n",
       "      <th>50%</th>\n",
       "      <td>0.000000</td>\n",
       "      <td>0.000000</td>\n",
       "    </tr>\n",
       "    <tr>\n",
       "      <th>75%</th>\n",
       "      <td>0.381800</td>\n",
       "      <td>0.136400</td>\n",
       "    </tr>\n",
       "    <tr>\n",
       "      <th>max</th>\n",
       "      <td>0.997100</td>\n",
       "      <td>1.000000</td>\n",
       "    </tr>\n",
       "  </tbody>\n",
       "</table>\n",
       "</div>"
      ],
      "text/plain": [
       "       score_vader     score_tb\n",
       "count  6607.000000  6607.000000\n",
       "mean      0.046572     0.058876\n",
       "std       0.444347     0.247841\n",
       "min      -0.996800    -1.000000\n",
       "25%      -0.202300     0.000000\n",
       "50%       0.000000     0.000000\n",
       "75%       0.381800     0.136400\n",
       "max       0.997100     1.000000"
      ]
     },
     "execution_count": 18,
     "metadata": {},
     "output_type": "execute_result"
    }
   ],
   "source": [
    "# Obtaining Facebook summary statistics\n",
    "fb.describe()"
   ]
  },
  {
   "cell_type": "markdown",
   "id": "976afb6b",
   "metadata": {},
   "source": [
    "We know that FB and Reddit scores are on the same scales of -1.0 to 1.0, and the summary statistics match that.\n",
    "Across both VADER and TextBlob scores:\n",
    "- Sample means are different, but not too far apart (still both positive), just that Reddit sample means are slightly less positive\n",
    "- Reddit interquartile range larger than facebook\n",
    "- Can visualize this better with boxplot\n",
    "- Both medians are at zero "
   ]
  },
  {
   "cell_type": "markdown",
   "id": "54264afc",
   "metadata": {},
   "source": [
    "## Visualizations"
   ]
  },
  {
   "cell_type": "markdown",
   "id": "c3308777",
   "metadata": {},
   "source": [
    "### Boxplots"
   ]
  },
  {
   "cell_type": "code",
   "execution_count": 19,
   "id": "b3b20f7d",
   "metadata": {},
   "outputs": [
    {
     "data": {
      "text/html": [
       "<div>\n",
       "<style scoped>\n",
       "    .dataframe tbody tr th:only-of-type {\n",
       "        vertical-align: middle;\n",
       "    }\n",
       "\n",
       "    .dataframe tbody tr th {\n",
       "        vertical-align: top;\n",
       "    }\n",
       "\n",
       "    .dataframe thead th {\n",
       "        text-align: right;\n",
       "    }\n",
       "</style>\n",
       "<table border=\"1\" class=\"dataframe\">\n",
       "  <thead>\n",
       "    <tr style=\"text-align: right;\">\n",
       "      <th></th>\n",
       "      <th>comment_id</th>\n",
       "      <th>score_vader</th>\n",
       "      <th>score_tb</th>\n",
       "      <th>platform</th>\n",
       "    </tr>\n",
       "  </thead>\n",
       "  <tbody>\n",
       "    <tr>\n",
       "      <th>0</th>\n",
       "      <td>gww5drd</td>\n",
       "      <td>-0.2960</td>\n",
       "      <td>0.0000</td>\n",
       "      <td>Reddit</td>\n",
       "    </tr>\n",
       "    <tr>\n",
       "      <th>1</th>\n",
       "      <td>gww5jfz</td>\n",
       "      <td>-0.2462</td>\n",
       "      <td>0.2083</td>\n",
       "      <td>Reddit</td>\n",
       "    </tr>\n",
       "    <tr>\n",
       "      <th>2</th>\n",
       "      <td>gww68ne</td>\n",
       "      <td>-0.4404</td>\n",
       "      <td>-0.4000</td>\n",
       "      <td>Reddit</td>\n",
       "    </tr>\n",
       "    <tr>\n",
       "      <th>3</th>\n",
       "      <td>gww6icr</td>\n",
       "      <td>-0.9668</td>\n",
       "      <td>-0.2444</td>\n",
       "      <td>Reddit</td>\n",
       "    </tr>\n",
       "    <tr>\n",
       "      <th>4</th>\n",
       "      <td>gww6luf</td>\n",
       "      <td>0.0772</td>\n",
       "      <td>-0.1000</td>\n",
       "      <td>Reddit</td>\n",
       "    </tr>\n",
       "  </tbody>\n",
       "</table>\n",
       "</div>"
      ],
      "text/plain": [
       "  comment_id  score_vader  score_tb platform\n",
       "0    gww5drd      -0.2960    0.0000   Reddit\n",
       "1    gww5jfz      -0.2462    0.2083   Reddit\n",
       "2    gww68ne      -0.4404   -0.4000   Reddit\n",
       "3    gww6icr      -0.9668   -0.2444   Reddit\n",
       "4    gww6luf       0.0772   -0.1000   Reddit"
      ]
     },
     "metadata": {},
     "output_type": "display_data"
    },
    {
     "data": {
      "text/html": [
       "<div>\n",
       "<style scoped>\n",
       "    .dataframe tbody tr th:only-of-type {\n",
       "        vertical-align: middle;\n",
       "    }\n",
       "\n",
       "    .dataframe tbody tr th {\n",
       "        vertical-align: top;\n",
       "    }\n",
       "\n",
       "    .dataframe thead th {\n",
       "        text-align: right;\n",
       "    }\n",
       "</style>\n",
       "<table border=\"1\" class=\"dataframe\">\n",
       "  <thead>\n",
       "    <tr style=\"text-align: right;\">\n",
       "      <th></th>\n",
       "      <th>comment_id</th>\n",
       "      <th>score_vader</th>\n",
       "      <th>score_tb</th>\n",
       "      <th>platform</th>\n",
       "    </tr>\n",
       "  </thead>\n",
       "  <tbody>\n",
       "    <tr>\n",
       "      <th>15714</th>\n",
       "      <td>10158186215552115</td>\n",
       "      <td>-0.5095</td>\n",
       "      <td>-0.1896</td>\n",
       "      <td>Facebook</td>\n",
       "    </tr>\n",
       "    <tr>\n",
       "      <th>15715</th>\n",
       "      <td>10158186213932115</td>\n",
       "      <td>-0.8357</td>\n",
       "      <td>-0.0875</td>\n",
       "      <td>Facebook</td>\n",
       "    </tr>\n",
       "    <tr>\n",
       "      <th>15716</th>\n",
       "      <td>10158186213787115</td>\n",
       "      <td>0.0000</td>\n",
       "      <td>0.0000</td>\n",
       "      <td>Facebook</td>\n",
       "    </tr>\n",
       "    <tr>\n",
       "      <th>15717</th>\n",
       "      <td>10158186211122115</td>\n",
       "      <td>-0.5962</td>\n",
       "      <td>0.1250</td>\n",
       "      <td>Facebook</td>\n",
       "    </tr>\n",
       "    <tr>\n",
       "      <th>15718</th>\n",
       "      <td>10158186210967115</td>\n",
       "      <td>0.0516</td>\n",
       "      <td>0.0000</td>\n",
       "      <td>Facebook</td>\n",
       "    </tr>\n",
       "  </tbody>\n",
       "</table>\n",
       "</div>"
      ],
      "text/plain": [
       "              comment_id  score_vader  score_tb  platform\n",
       "15714  10158186215552115      -0.5095   -0.1896  Facebook\n",
       "15715  10158186213932115      -0.8357   -0.0875  Facebook\n",
       "15716  10158186213787115       0.0000    0.0000  Facebook\n",
       "15717  10158186211122115      -0.5962    0.1250  Facebook\n",
       "15718  10158186210967115       0.0516    0.0000  Facebook"
      ]
     },
     "metadata": {},
     "output_type": "display_data"
    }
   ],
   "source": [
    "# Concatenating dataframes into one dataframe with an additional column indicating platform\n",
    "reddit['platform'] = 'Reddit'\n",
    "fb['platform'] = 'Facebook'\n",
    "\n",
    "all_score = pd.concat([reddit, fb], ignore_index=True)\n",
    "display(all_score.head())\n",
    "display(all_score.tail())"
   ]
  },
  {
   "cell_type": "code",
   "execution_count": 35,
   "id": "4fc2e6ae",
   "metadata": {
    "scrolled": true
   },
   "outputs": [
    {
     "data": {
      "image/png": "[encoded data removed]",
      "text/plain": [
       "<Figure size 864x576 with 2 Axes>"
      ]
     },
     "metadata": {
      "needs_background": "light"
     },
     "output_type": "display_data"
    }
   ],
   "source": [
    "# Generating boxplots\n",
    "from matplotlib import pyplot as plt\n",
    "import seaborn as sns\n",
    "\n",
    "fig, axes = plt.subplots(1, 2, figsize = (12, 8))\n",
    "fig.suptitle('Boxplots of Reddit and Facebook polarity scores', fontsize=20)\n",
    "\n",
    "sns.boxplot(x='platform', y='score_vader', data=all_score, \n",
    "            showmeans=True, meanline=True, meanprops={'color': 'red', 'ls': '--', 'lw': 2},\n",
    "            ax=axes[0]).set(xlabel='Platform', ylabel='Polarity score')\n",
    "axes[0].set_title('VADER scores',fontsize=16)\n",
    "\n",
    "sns.boxplot(x='platform', y='score_tb', data=all_score, \n",
    "            showmeans=True, meanline=True, meanprops={'color': 'red', 'ls': '--', 'lw': 2},\n",
    "            ax=axes[1]).set(xlabel='Platform', ylabel='Polarity score')\n",
    "axes[1].set_title('TextBlob scores',fontsize=16)\n",
    "\n",
    "plt.savefig('../plots/boxplots.png', bbox_inches='tight')\n",
    "plt.show()"
   ]
  },
  {
   "cell_type": "markdown",
   "id": "ca96236a",
   "metadata": {},
   "source": [
    "### Histograms"
   ]
  },
  {
   "cell_type": "code",
   "execution_count": 33,
   "id": "29860090",
   "metadata": {},
   "outputs": [
    {
     "data": {
      "image/png": "[encoded data removed]",
      "text/plain": [
       "<Figure size 864x576 with 4 Axes>"
      ]
     },
     "metadata": {
      "needs_background": "light"
     },
     "output_type": "display_data"
    }
   ],
   "source": [
    "# Generating histograms\n",
    "from matplotlib import pyplot as plt\n",
    "\n",
    "rows = 2\n",
    "cols = 2\n",
    "fig, ax = plt.subplots(rows, cols, figsize=(12, 8))\n",
    "plt.subplots_adjust(hspace=0.3)\n",
    "fig.suptitle('Histograms of Reddit and Facebook polarity scores', fontsize=20)\n",
    "\n",
    "\n",
    "row = 0 \n",
    "col = 0 \n",
    "hist_list = [reddit['score_vader'], reddit['score_tb'], fb['score_vader'], fb['score_tb']]\n",
    "labels_list = ['Reddit (VADER scores)', 'Reddit (TextBlob scores)', 'Facebook (VADER scores)', 'Facebook (TextBlob scores)']\n",
    "\n",
    "for i in range(0,4):\n",
    "    hist = hist_list[i]\n",
    "    ax[row][col].hist(hist, bins=15)\n",
    "    ax[row][col].set_title(labels_list[i], fontsize=16)\n",
    "    row = row+1\n",
    "    if row == rows:\n",
    "        row = 0\n",
    "        col = col+1\n",
    "        \n",
    "plt.savefig('../plots/histograms.png', bbox_inches='tight')\n",
    "plt.show()"
   ]
  },
  {
   "cell_type": "markdown",
   "id": "c03a9dee",
   "metadata": {},
   "source": [
    "From the above we can see that all samples resemble normal distributions, with VADER scores having a wider distribution and TextBlob scores having a tighter distribution. The median and mode is also at 0 - distribution is seemingly zero-inflated. Since there is no skew and median is at zero, median is not a meaningful measure of central tendency of the samples. We will just use the mean instead when validating our hypothesis and drawing conclusions from the data."
   ]
  },
  {
   "cell_type": "code",
   "execution_count": null,
   "id": "cea69970",
   "metadata": {},
   "outputs": [],
   "source": []
  }
 ],
 "metadata": {
  "kernelspec": {
   "display_name": "Python 3 (ipykernel)",
   "language": "python",
   "name": "python3"
  },
  "language_info": {
   "codemirror_mode": {
    "name": "ipython",
    "version": 3
   },
   "file_extension": ".py",
   "mimetype": "text/x-python",
   "name": "python",
   "nbconvert_exporter": "python",
   "pygments_lexer": "ipython3",
   "version": "3.9.12"
  }
 },
 "nbformat": 4,
 "nbformat_minor": 5
}
